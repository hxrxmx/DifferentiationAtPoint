{
  "cells": [
    {
      "cell_type": "markdown",
      "metadata": {
        "id": "nTSf4ro-qU0d"
      },
      "source": [
        "## Бонусное задание: word2vec на PyTorch\n",
        "\n",
        "Как вы уже могли заметить, идея, лежащая в основе [word2vec](https://arxiv.org/pdf/1310.4546), достаточно общая. В данном задании вы реализуете его самостоятельно.\n",
        "\n",
        "Дисклеймер: не стоит удивляться тому, что реализация от `gensim` (или аналоги) обучается быстрее и работает точнее. Она использует множество доработок и ускорений, а также достаточно эффективный код. Ваша задача добиться промежуточных результатов за разумное время.\n",
        "\n",
        "P.s. Как ни странно, GPU в этом задании нам не потребуется."
      ]
    },
    {
      "cell_type": "markdown",
      "metadata": {
        "id": "0suChtFCzCQX"
      },
      "source": [
        "__Requirements:__ if you're running locally, in the selected environment run the following command:\n",
        "\n",
        "```pip install --upgrade nltk bokeh umap-learn```\n"
      ]
    },
    {
      "cell_type": "code",
      "execution_count": null,
      "metadata": {
        "id": "Oipe2DU8qfm7"
      },
      "outputs": [],
      "source": [
        "#!pip install --upgrade nltk bokeh umap-learn"
      ]
    },
    {
      "cell_type": "code",
      "execution_count": 1,
      "metadata": {
        "id": "pqPU4Lu2qU0h"
      },
      "outputs": [],
      "source": [
        "import itertools\n",
        "import random\n",
        "import string\n",
        "from collections import Counter\n",
        "from itertools import chain\n",
        "\n",
        "import matplotlib.pyplot as plt\n",
        "import numpy as np\n",
        "import torch\n",
        "import torch.autograd as autograd\n",
        "import torch.nn as nn\n",
        "import torch.nn.functional as F\n",
        "import torch.optim as optim\n",
        "import umap\n",
        "from IPython.display import clear_output\n",
        "from matplotlib import pyplot as plt\n",
        "from nltk.tokenize import WordPunctTokenizer\n",
        "from torch.optim.lr_scheduler import ReduceLROnPlateau, StepLR\n",
        "from tqdm.auto import tqdm as tqdma"
      ]
    },
    {
      "cell_type": "code",
      "execution_count": 2,
      "metadata": {
        "colab": {
          "base_uri": "https://localhost:8080/"
        },
        "id": "8Fbx57z3qU0i",
        "outputId": "2fd3961a-7c11-48b1-c786-b179a77c80aa"
      },
      "outputs": [
        {
          "output_type": "stream",
          "name": "stdout",
          "text": [
            "--2025-03-14 18:10:26--  https://www.dropbox.com/s/obaitrix9jyu84r/quora.txt?dl=1\n",
            "Resolving www.dropbox.com (www.dropbox.com)... 162.125.81.18, 2620:100:6018:18::a27d:312\n",
            "Connecting to www.dropbox.com (www.dropbox.com)|162.125.81.18|:443... connected.\n",
            "HTTP request sent, awaiting response... 302 Found\n",
            "Location: https://www.dropbox.com/scl/fi/p0t2dw6oqs6oxpd6zz534/quora.txt?rlkey=bjupppwua4zmd4elz8octecy9&dl=1 [following]\n",
            "--2025-03-14 18:10:27--  https://www.dropbox.com/scl/fi/p0t2dw6oqs6oxpd6zz534/quora.txt?rlkey=bjupppwua4zmd4elz8octecy9&dl=1\n",
            "Reusing existing connection to www.dropbox.com:443.\n",
            "HTTP request sent, awaiting response... 302 Found\n",
            "Location: https://ucce891d11f67d4ec91901505e16.dl.dropboxusercontent.com/cd/0/inline/Cl3fG0UjRmolp6AoCccuTSP7Mn--bac64whcpieY6k7lqoizkCT1TDwf9v67c8_BaVJHOisNinIIwKp-FtzJoT8OLDV3hOAOIlPzFWhABO1NBT25c-5q3cAr27RCrnK-3M4/file?dl=1# [following]\n",
            "--2025-03-14 18:10:28--  https://ucce891d11f67d4ec91901505e16.dl.dropboxusercontent.com/cd/0/inline/Cl3fG0UjRmolp6AoCccuTSP7Mn--bac64whcpieY6k7lqoizkCT1TDwf9v67c8_BaVJHOisNinIIwKp-FtzJoT8OLDV3hOAOIlPzFWhABO1NBT25c-5q3cAr27RCrnK-3M4/file?dl=1\n",
            "Resolving ucce891d11f67d4ec91901505e16.dl.dropboxusercontent.com (ucce891d11f67d4ec91901505e16.dl.dropboxusercontent.com)... 162.125.81.15, 2620:100:6018:15::a27d:30f\n",
            "Connecting to ucce891d11f67d4ec91901505e16.dl.dropboxusercontent.com (ucce891d11f67d4ec91901505e16.dl.dropboxusercontent.com)|162.125.81.15|:443... connected.\n",
            "HTTP request sent, awaiting response... 200 OK\n",
            "Length: 33813903 (32M) [application/binary]\n",
            "Saving to: ‘./quora.txt’\n",
            "\n",
            "./quora.txt         100%[===================>]  32.25M  10.2MB/s    in 3.6s    \n",
            "\n",
            "2025-03-14 18:10:34 (9.04 MB/s) - ‘./quora.txt’ saved [33813903/33813903]\n",
            "\n"
          ]
        }
      ],
      "source": [
        "# download the data:\n",
        "!wget https://www.dropbox.com/s/obaitrix9jyu84r/quora.txt?dl=1 -O ./quora.txt -nc\n",
        "# alternative download link: https://yadi.sk/i/BPQrUu1NaTduEw"
      ]
    },
    {
      "cell_type": "code",
      "execution_count": 9,
      "metadata": {
        "colab": {
          "base_uri": "https://localhost:8080/",
          "height": 35
        },
        "id": "8EYy5dQpqU0i",
        "outputId": "e0062fc3-91db-42a0-f9a8-b03d733f0916",
        "scrolled": false
      },
      "outputs": [
        {
          "output_type": "execute_result",
          "data": {
            "text/plain": [
              "'Is lesbianism real?\\n'"
            ],
            "application/vnd.google.colaboratory.intrinsic+json": {
              "type": "string"
            }
          },
          "metadata": {},
          "execution_count": 9
        }
      ],
      "source": [
        "data = list(open(\"./quora.txt\", encoding=\"utf-8\"))\n",
        "data[504]"
      ]
    },
    {
      "cell_type": "markdown",
      "metadata": {
        "id": "feBEGI2eqU0j"
      },
      "source": [
        "Токенизация – первый шаг.\n",
        "Тексты, с которыми мы работаем, включают в себя пунктуацию, смайлики и прочие нестандартные токены, так что простой `str.split` не подойдет.\n",
        "\n",
        "Обратимся к `nltk` - библиотеку, нашла широкое применеие в области NLP."
      ]
    },
    {
      "cell_type": "code",
      "execution_count": 13,
      "metadata": {
        "colab": {
          "base_uri": "https://localhost:8080/"
        },
        "id": "7mWTvm50qU0j",
        "outputId": "71a44545-0df8-4bb8-a723-0e4945429d06"
      },
      "outputs": [
        {
          "output_type": "stream",
          "name": "stdout",
          "text": [
            "['Which', 'brand', 'should', 'go', 'with', 'the', 'GTX', '960', 'graphic', 'card', ',', 'MSI', ',', 'Zotac', 'or', 'ASUS', '?']\n"
          ]
        }
      ],
      "source": [
        "tokenizer = WordPunctTokenizer()\n",
        "\n",
        "print(tokenizer.tokenize(data[10]))"
      ]
    },
    {
      "cell_type": "code",
      "execution_count": 14,
      "metadata": {
        "id": "HzC05EHWqU0j"
      },
      "outputs": [],
      "source": [
        "data_tok = [\n",
        "    tokenizer.tokenize(\n",
        "        line.translate(str.maketrans(\"\", \"\", string.punctuation)).lower()\n",
        "    )\n",
        "    for line in data\n",
        "]\n",
        "data_tok = [x for x in data_tok if len(x) >= 3]"
      ]
    },
    {
      "cell_type": "markdown",
      "metadata": {
        "id": "6azRAgHIqU0k"
      },
      "source": [
        "Несколько проверок:"
      ]
    },
    {
      "cell_type": "code",
      "execution_count": 15,
      "metadata": {
        "id": "Cp8UpxdWqU0k"
      },
      "outputs": [],
      "source": [
        "assert all(\n",
        "    isinstance(row, (list, tuple)) for row in data_tok\n",
        "), \"please convert each line into a list of tokens (strings)\"\n",
        "assert all(\n",
        "    all(isinstance(tok, str) for tok in row) for row in data_tok\n",
        "), \"please convert each line into a list of tokens (strings)\"\n",
        "is_latin = lambda tok: all(\"a\" <= x.lower() <= \"z\" for x in tok)\n",
        "assert all(\n",
        "    map(lambda l: not is_latin(l) or l.islower(), map(\" \".join, data_tok))\n",
        "), \"please make sure to lowercase the data\""
      ]
    },
    {
      "cell_type": "markdown",
      "metadata": {
        "id": "37e7-MIhqU0x"
      },
      "source": [
        "Ниже заданы константы ширины окна контекста и проведена предобработка для построения skip-gram модели."
      ]
    },
    {
      "cell_type": "code",
      "execution_count": 16,
      "metadata": {
        "id": "fugc1IomqU0x"
      },
      "outputs": [],
      "source": [
        "min_count = 5\n",
        "window_radius = 5"
      ]
    },
    {
      "cell_type": "code",
      "execution_count": 21,
      "metadata": {
        "id": "zY1ciK-tzCQb"
      },
      "outputs": [],
      "source": [
        "vocabulary_with_counter = Counter(chain.from_iterable(data_tok))\n",
        "\n",
        "word_count_dict = dict()\n",
        "for word, counter in vocabulary_with_counter.items():\n",
        "    if counter >= min_count:\n",
        "        word_count_dict[word] = counter\n",
        "\n",
        "vocabulary = set(word_count_dict.keys())\n",
        "del vocabulary_with_counter"
      ]
    },
    {
      "cell_type": "code",
      "execution_count": 18,
      "metadata": {
        "id": "VrY_DlcqzCQc"
      },
      "outputs": [],
      "source": [
        "word_to_index = {word: index for index, word in enumerate(vocabulary)}\n",
        "index_to_word = {index: word for word, index in word_to_index.items()}"
      ]
    },
    {
      "cell_type": "markdown",
      "metadata": {
        "id": "4Y8rlBfqqU0x"
      },
      "source": [
        "Пары `(слово, контекст)` на основе доступного датасета сгенерированы ниже."
      ]
    },
    {
      "cell_type": "code",
      "execution_count": 22,
      "metadata": {
        "id": "h2-aqyyaqU0x",
        "colab": {
          "base_uri": "https://localhost:8080/"
        },
        "outputId": "7f6f0bb8-f0e4-4169-d606-b55dd9956e1a"
      },
      "outputs": [
        {
          "output_type": "stream",
          "name": "stdout",
          "text": [
            "Generated 40220313 pairs of target and context words.\n"
          ]
        }
      ],
      "source": [
        "context_pairs = []\n",
        "\n",
        "for text in data_tok:\n",
        "    for i, central_word in enumerate(text):\n",
        "        context_indices = range(\n",
        "            max(0, i - window_radius), min(i + window_radius, len(text))\n",
        "        )\n",
        "        for j in context_indices:\n",
        "            if j == i:\n",
        "                continue\n",
        "            context_word = text[j]\n",
        "            if central_word in vocabulary and context_word in vocabulary:\n",
        "                context_pairs.append(\n",
        "                    (word_to_index[central_word], word_to_index[context_word])\n",
        "                )\n",
        "\n",
        "print(f\"Generated {len(context_pairs)} pairs of target and context words.\")"
      ]
    },
    {
      "cell_type": "markdown",
      "metadata": {
        "id": "miTa0x3ezCQc"
      },
      "source": [
        "#### Подзадача №1: subsampling\n",
        "Для того, чтобы сгладить разницу в частоте встречаемсости слов, необходимо реализовать механизм subsampling'а.\n",
        "Для этого вам необходимо реализовать функцию ниже.\n",
        "\n",
        "Вероятность **исключить** слово из обучения (на фиксированном шаге) вычисляется как\n",
        "$$\n",
        "P_\\text{drop}(w_i)=1 - \\sqrt{\\frac{t}{f(w_i)}},\n",
        "$$\n",
        "где $f(w_i)$ – нормированная частота встречаемости слова, а $t$ – заданный порог (threshold)."
      ]
    },
    {
      "cell_type": "code",
      "execution_count": 40,
      "metadata": {
        "id": "L63DKREXzCQc"
      },
      "outputs": [],
      "source": [
        "def subsample_frequent_words(word_count_dict, threshold=1e-5):\n",
        "    \"\"\"\n",
        "    Calculates the subsampling probabilities for words based on their frequencies.\n",
        "\n",
        "    This function is used to determine the probability of keeping a word in the dataset\n",
        "    when subsampling frequent words. The method used is inspired by the subsampling approach\n",
        "    in Word2Vec, where each word's frequency affects its probability of being kept.\n",
        "\n",
        "    Parameters:\n",
        "    - word_count_dict (dict): A dictionary where keys are words and values are the counts of those words.\n",
        "    - threshold (float, optional): A threshold parameter used to adjust the frequency of word subsampling.\n",
        "                                   Defaults to 1e-5.\n",
        "\n",
        "    Returns:\n",
        "    - dict: A dictionary where keys are words and values are the probabilities of keeping each word.\n",
        "\n",
        "    Example:\n",
        "    >>> word_counts = {'the': 5000, 'is': 1000, 'apple': 50}\n",
        "    >>> subsample_frequent_words(word_counts)\n",
        "    {'the': 0.028, 'is': 0.223, 'apple': 1.0}\n",
        "    \"\"\"\n",
        "    total_count = sum(word_count_dict.values())\n",
        "\n",
        "    keep_prob_dict = {\n",
        "        word: min(1., np.sqrt(threshold / (count / total_count)))\n",
        "        for word, count in word_count_dict.items()\n",
        "    }\n",
        "    return keep_prob_dict"
      ]
    },
    {
      "cell_type": "code",
      "source": [
        "word_counts_example = {'the': 5000, 'is': 1000, 'apple': 50}\n",
        "subsample_frequent_words(word_counts_example)"
      ],
      "metadata": {
        "id": "wkxyXZiFR6YM",
        "outputId": "e0a7c7e0-1e86-45cc-e5d1-b5f05f69d4a7",
        "colab": {
          "base_uri": "https://localhost:8080/"
        }
      },
      "execution_count": 42,
      "outputs": [
        {
          "output_type": "execute_result",
          "data": {
            "text/plain": [
              "{'the': 0.0034785054261852176,\n",
              " 'is': 0.007778174593052023,\n",
              " 'apple': 0.034785054261852175}"
            ]
          },
          "metadata": {},
          "execution_count": 42
        }
      ]
    },
    {
      "cell_type": "markdown",
      "metadata": {
        "id": "jlPKZDUVzCQc"
      },
      "source": [
        "#### Подзадача №2: negative sampling\n",
        "Для более эффективного обучения необходимо не только предсказывать высокие вероятности для слов из контекста, но и предсказывать низкие для слов, не встреченных в контексте. Для этого вам необходимо вычислить вероятност использовать слово в качестве negative sample, реализовав функцию ниже.\n",
        "\n",
        "В оригинальной статье предлагается оценивать вероятность слов выступать в качестве negative sample согласно распределению $P_n(w)$\n",
        "$$\n",
        "P_n(w) = \\frac{U(w)^{3/4}}{Z},\n",
        "$$\n",
        "\n",
        "где $U(w)$ распределение слов по частоте (или, как его еще называют, по униграммам), а $Z$ – нормировочная константа, чтобы общая мера была равна $1$."
      ]
    },
    {
      "cell_type": "code",
      "execution_count": 43,
      "metadata": {
        "id": "Qki4VpTgzCQc"
      },
      "outputs": [],
      "source": [
        "def get_negative_sampling_prob(word_count_dict):\n",
        "    \"\"\"\n",
        "    Calculates the negative sampling probabilities for words based on their frequencies.\n",
        "\n",
        "    This function adjusts the frequency of each word raised to the power of 0.75, which is\n",
        "    commonly used in algorithms like Word2Vec to moderate the influence of very frequent words.\n",
        "    It then normalizes these adjusted frequencies to ensure they sum to 1, forming a probability\n",
        "    distribution used for negative sampling.\n",
        "\n",
        "    Parameters:\n",
        "    - word_count_dict (dict): A dictionary where keys are words and values are the counts of those words.\n",
        "\n",
        "    Returns:\n",
        "    - dict: A dictionary where keys are words and values are the probabilities of selecting each word\n",
        "            for negative sampling.\n",
        "\n",
        "    Example:\n",
        "    >>> word_counts = {'the': 5000, 'is': 1000, 'apple': 50}\n",
        "    >>> get_negative_sampling_prob(word_counts)\n",
        "    {'the': 0.298, 'is': 0.160, 'apple': 0.042}\n",
        "    \"\"\"\n",
        "    stat_sum = sum([count ** 0.75 for count in word_count_dict.values()])\n",
        "\n",
        "    negative_sampling_prob_dict = {\n",
        "        word: count**0.75 / stat_sum\n",
        "        for word, count in word_count_dict.items()\n",
        "    }\n",
        "    return negative_sampling_prob_dict"
      ]
    },
    {
      "cell_type": "code",
      "source": [
        "get_negative_sampling_prob(word_counts_example)"
      ],
      "metadata": {
        "id": "e0voaKl0VyYe",
        "outputId": "280a71db-3fb2-4a62-b229-b023cc367086",
        "colab": {
          "base_uri": "https://localhost:8080/"
        }
      },
      "execution_count": 44,
      "outputs": [
        {
          "output_type": "execute_result",
          "data": {
            "text/plain": [
              "{'the': 0.751488398196177,\n",
              " 'is': 0.2247474520689081,\n",
              " 'apple': 0.023764149734914898}"
            ]
          },
          "metadata": {},
          "execution_count": 44
        }
      ]
    },
    {
      "cell_type": "markdown",
      "metadata": {
        "id": "yn4nYu8DzCQc"
      },
      "source": [
        "Для удобства, преобразуем полученные словари в массивы (т.к. все слова все равно уже пронумерованы)."
      ]
    },
    {
      "cell_type": "code",
      "execution_count": 45,
      "metadata": {
        "id": "5by6wHhqzCQc"
      },
      "outputs": [],
      "source": [
        "keep_prob_dict = subsample_frequent_words(word_count_dict)\n",
        "assert keep_prob_dict.keys() == word_count_dict.keys()"
      ]
    },
    {
      "cell_type": "code",
      "execution_count": 46,
      "metadata": {
        "id": "9x5kvJGbzCQc"
      },
      "outputs": [],
      "source": [
        "negative_sampling_prob_dict = get_negative_sampling_prob(word_count_dict)\n",
        "assert negative_sampling_prob_dict.keys() == negative_sampling_prob_dict.keys()\n",
        "assert np.allclose(sum(negative_sampling_prob_dict.values()), 1)"
      ]
    },
    {
      "cell_type": "code",
      "execution_count": 47,
      "metadata": {
        "id": "8tz8KDh3zCQc"
      },
      "outputs": [],
      "source": [
        "keep_prob_array = np.array(\n",
        "    [keep_prob_dict[index_to_word[idx]] for idx in range(len(word_to_index))]\n",
        ")\n",
        "negative_sampling_prob_array = np.array(\n",
        "    [\n",
        "        negative_sampling_prob_dict[index_to_word[idx]]\n",
        "        for idx in range(len(word_to_index))\n",
        "    ]\n",
        ")"
      ]
    },
    {
      "cell_type": "markdown",
      "metadata": {
        "id": "8iOsf45IzCQc"
      },
      "source": [
        "Если все прошло успешно, функция ниже поможет вам с генерацией подвыборок (батчей)."
      ]
    },
    {
      "cell_type": "code",
      "execution_count": 48,
      "metadata": {
        "id": "ZByKzwNlzCQd"
      },
      "outputs": [],
      "source": [
        "def generate_batch_with_neg_samples(\n",
        "    context_pairs,\n",
        "    batch_size,\n",
        "    keep_prob_array,\n",
        "    word_to_index,\n",
        "    num_negatives,\n",
        "    negative_sampling_prob_array,\n",
        "):\n",
        "    batch = []\n",
        "    neg_samples = []\n",
        "\n",
        "    while len(batch) < batch_size:\n",
        "        center, context = random.choice(context_pairs)\n",
        "        if random.random() < keep_prob_array[center]:\n",
        "            batch.append((center, context))\n",
        "            neg_sample = np.random.choice(\n",
        "                range(len(negative_sampling_prob_array)),\n",
        "                size=num_negatives,\n",
        "                p=negative_sampling_prob_array,\n",
        "            )\n",
        "            neg_samples.append(neg_sample)\n",
        "    batch = np.array(batch)\n",
        "    neg_samples = np.vstack(neg_samples)\n",
        "    return batch, neg_samples"
      ]
    },
    {
      "cell_type": "code",
      "execution_count": 49,
      "metadata": {
        "id": "W5wPwFj_zCQd"
      },
      "outputs": [],
      "source": [
        "batch_size = 4\n",
        "num_negatives = 15\n",
        "batch, neg_samples = generate_batch_with_neg_samples(\n",
        "    context_pairs,\n",
        "    batch_size,\n",
        "    keep_prob_array,\n",
        "    word_to_index,\n",
        "    num_negatives,\n",
        "    negative_sampling_prob_array,\n",
        ")"
      ]
    },
    {
      "cell_type": "markdown",
      "metadata": {
        "id": "hUEiCUhezCQd"
      },
      "source": [
        "Наконец, время реализовать модель. Обращаем ваше внимание, использование линейных слоев (`nn.Linear`) далеко не всегда оправданно!\n",
        "\n",
        "Напомним, что в случае negative sampling решается задача максимизации следующего функционала:\n",
        "\n",
        "$$\n",
        "\\mathcal{L} = \\log \\sigma({\\mathbf{v}'_{w_O}}^\\top \\mathbf{v}_{w_I}) + \\sum_{i=1}^{k} \\mathbb{E}_{w_i \\sim P_n(w)} \\left[ \\log \\sigma({-\\mathbf{v}'_{w_i}}^\\top \\mathbf{v}_{w_I}) \\right],\n",
        "$$\n",
        "\n",
        "где:\n",
        "- $\\mathbf{v}_{w_I}$ – вектор центрального слова $w_I$,\n",
        "- $\\mathbf{v}'_{w_O}$ – вектор слова из контекста $w_O$,\n",
        "- $k$ – число negative samplesЮ,\n",
        "- $P_n(w)$ – распределение negative samples, заданное выше,\n",
        "- $\\sigma$ – сигмоида."
      ]
    },
    {
      "cell_type": "code",
      "execution_count": 50,
      "metadata": {
        "id": "Ov4gkFKSzCQd"
      },
      "outputs": [],
      "source": [
        "class SkipGramModelWithNegSampling(nn.Module):\n",
        "    def __init__(self, vocab_size, embedding_dim):\n",
        "        super().__init__()\n",
        "\n",
        "        self.center_embeddings = nn.Embedding(vocab_size, embedding_dim)\n",
        "        self.context_embeddings = nn.Embedding(vocab_size, embedding_dim)\n",
        "\n",
        "        self.center_embeddings.weight.data.uniform_(-1, 1)\n",
        "        self.context_embeddings.weight.data.uniform_(-1, 1)\n",
        "\n",
        "    def forward(self, center_words, pos_context_words, neg_context_words):\n",
        "        center_vecs = self.center_embeddings(center_words)\n",
        "        pos_context_vecs = self.context_embeddings(pos_context_words)\n",
        "        neg_context_vecs = self.context_embeddings(neg_context_words)\n",
        "\n",
        "\n",
        "        pos_scores = torch.sum(center_vecs * pos_context_vecs, dim=1)\n",
        "        neg_scores = torch.sum(center_vecs.unsqueeze(1) * neg_context_vecs, dim=2)\n",
        "\n",
        "        return pos_scores, neg_scores"
      ]
    },
    {
      "cell_type": "code",
      "execution_count": 51,
      "metadata": {
        "id": "Ids2z9F5zCQd"
      },
      "outputs": [],
      "source": [
        "device = torch.device(\"cpu\")"
      ]
    },
    {
      "cell_type": "code",
      "execution_count": 52,
      "metadata": {
        "id": "wjAIEaCvzCQd"
      },
      "outputs": [],
      "source": [
        "vocab_size = len(word_to_index)\n",
        "embedding_dim = 32\n",
        "num_negatives = 15\n",
        "\n",
        "model = SkipGramModelWithNegSampling(vocab_size, embedding_dim).to(device)\n",
        "optimizer = optim.Adam(model.parameters(), lr=0.05)\n",
        "lr_scheduler = ReduceLROnPlateau(optimizer, factor=0.5, patience=150)\n",
        "criterion = nn.BCEWithLogitsLoss()"
      ]
    },
    {
      "cell_type": "code",
      "execution_count": 53,
      "metadata": {
        "id": "sJbS9lbjzCQd"
      },
      "outputs": [],
      "source": [
        "params_counter = 0\n",
        "for weights in model.parameters():\n",
        "    params_counter += weights.shape.numel()\n",
        "assert params_counter == len(word_to_index) * embedding_dim * 2"
      ]
    },
    {
      "cell_type": "code",
      "execution_count": 54,
      "metadata": {
        "id": "e1WYygzezCQd"
      },
      "outputs": [],
      "source": [
        "def train_skipgram_with_neg_sampling(\n",
        "    model,\n",
        "    context_pairs,\n",
        "    keep_prob_array,\n",
        "    word_to_index,\n",
        "    batch_size,\n",
        "    num_negatives,\n",
        "    negative_sampling_prob_array,\n",
        "    steps,\n",
        "    optimizer=optimizer,\n",
        "    lr_scheduler=lr_scheduler,\n",
        "    device=device,\n",
        "):\n",
        "    pos_labels = torch.ones(batch_size).to(device)\n",
        "    neg_labels = torch.zeros(batch_size, num_negatives).to(device)\n",
        "    loss_history = []\n",
        "    for step in tqdma(range(steps)):\n",
        "        batch, neg_samples = generate_batch_with_neg_samples(\n",
        "            context_pairs,\n",
        "            batch_size,\n",
        "            keep_prob_array,\n",
        "            word_to_index,\n",
        "            num_negatives,\n",
        "            negative_sampling_prob_array,\n",
        "        )\n",
        "        center_words = torch.tensor([pair[0] for pair in batch], dtype=torch.long).to(\n",
        "            device\n",
        "        )\n",
        "        pos_context_words = torch.tensor(\n",
        "            [pair[1] for pair in batch], dtype=torch.long\n",
        "        ).to(device)\n",
        "        neg_context_words = torch.tensor(neg_samples, dtype=torch.long).to(device)\n",
        "\n",
        "        optimizer.zero_grad()\n",
        "        pos_scores, neg_scores = model(\n",
        "            center_words, pos_context_words, neg_context_words\n",
        "        )\n",
        "\n",
        "        loss_pos = criterion(pos_scores, pos_labels)\n",
        "        loss_neg = criterion(neg_scores, neg_labels)\n",
        "\n",
        "        loss = loss_pos + loss_neg\n",
        "        loss.backward()\n",
        "        optimizer.step()\n",
        "\n",
        "        loss_history.append(loss.item())\n",
        "        lr_scheduler.step(loss_history[-1])\n",
        "\n",
        "        if step % 100 == 0:\n",
        "            print(\n",
        "                f\"Step {step}, Loss: {np.mean(loss_history[-100:])}, learning rate: {lr_scheduler._last_lr}\"\n",
        "            )"
      ]
    },
    {
      "cell_type": "code",
      "execution_count": 55,
      "metadata": {
        "colab": {
          "base_uri": "https://localhost:8080/",
          "height": 496,
          "referenced_widgets": [
            "78f5d5125aac4f5f86752c719ea3ba4c",
            "9add1a227248424a829c88b71b09771b",
            "c1c690fbf75244db8087cd7517391a61",
            "f11bd3781f0d4fecb1900fb468462f4b",
            "a7c0687301c94ad0bc55c9fdb05c78f5",
            "397cf151974e4f1b9ea19a56e7ca758a",
            "26e12bae094d4119b047cfe82ea61524",
            "1bdcffd55e8f4bd5a3f228f79d20499d",
            "e11b4a7529cc40b08192fd9b7759fffd",
            "1ba7e2a55c214ab5b05295215ee68050",
            "6b3f05e18d0443ac85a66d3a72eeee31"
          ]
        },
        "id": "vhZDkDTKzCQd",
        "outputId": "524ccac4-4ba1-453e-bc6b-63c7f0db4605"
      },
      "outputs": [
        {
          "output_type": "display_data",
          "data": {
            "text/plain": [
              "  0%|          | 0/2500 [00:00<?, ?it/s]"
            ],
            "application/vnd.jupyter.widget-view+json": {
              "version_major": 2,
              "version_minor": 0,
              "model_id": "78f5d5125aac4f5f86752c719ea3ba4c"
            }
          },
          "metadata": {}
        },
        {
          "output_type": "stream",
          "name": "stdout",
          "text": [
            "Step 0, Loss: 2.0560386180877686, learning rate: [0.05]\n",
            "Step 100, Loss: 1.8563342213630676, learning rate: [0.05]\n",
            "Step 200, Loss: 1.7526602864265441, learning rate: [0.05]\n",
            "Step 300, Loss: 1.7499618864059447, learning rate: [0.05]\n",
            "Step 400, Loss: 1.8078623187541962, learning rate: [0.025]\n",
            "Step 500, Loss: 1.7262734150886536, learning rate: [0.025]\n",
            "Step 600, Loss: 1.6661257338523865, learning rate: [0.025]\n",
            "Step 700, Loss: 1.6363604056835175, learning rate: [0.025]\n",
            "Step 800, Loss: 1.6271368849277497, learning rate: [0.025]\n",
            "Step 900, Loss: 1.5938053441047668, learning rate: [0.0125]\n",
            "Step 1000, Loss: 1.5598675727844238, learning rate: [0.0125]\n",
            "Step 1100, Loss: 1.5170847189426422, learning rate: [0.0125]\n",
            "Step 1200, Loss: 1.5026591289043427, learning rate: [0.0125]\n",
            "Step 1300, Loss: 1.485668728351593, learning rate: [0.00625]\n",
            "Step 1400, Loss: 1.4574936878681184, learning rate: [0.00625]\n",
            "Step 1500, Loss: 1.4507606768608092, learning rate: [0.00625]\n",
            "Step 1600, Loss: 1.4272814571857453, learning rate: [0.003125]\n",
            "Step 1700, Loss: 1.4321920704841613, learning rate: [0.003125]\n",
            "Step 1800, Loss: 1.4159258544445037, learning rate: [0.0015625]\n",
            "Step 1900, Loss: 1.41733722448349, learning rate: [0.00078125]\n",
            "Step 2000, Loss: 1.4092347919940948, learning rate: [0.00078125]\n",
            "Step 2100, Loss: 1.4125504660606385, learning rate: [0.000390625]\n",
            "Step 2200, Loss: 1.4095092689990998, learning rate: [0.000390625]\n",
            "Step 2300, Loss: 1.4052895176410676, learning rate: [0.000390625]\n",
            "Step 2400, Loss: 1.4013947820663453, learning rate: [0.0001953125]\n"
          ]
        }
      ],
      "source": [
        "steps = 2500\n",
        "batch_size = 512\n",
        "train_skipgram_with_neg_sampling(\n",
        "    model,\n",
        "    context_pairs,\n",
        "    keep_prob_array,\n",
        "    word_to_index,\n",
        "    batch_size,\n",
        "    num_negatives,\n",
        "    negative_sampling_prob_array,\n",
        "    steps,\n",
        ")"
      ]
    },
    {
      "cell_type": "markdown",
      "metadata": {
        "id": "DKOiKXx5zCQd"
      },
      "source": [
        "Наконец, используйте полученную матрицу весов в качестве матрицы в векторными представлениями слов. Рекомендуем использовать для сдачи матрицу, которая отвечала за слова из контекста (т.е. декодера)."
      ]
    },
    {
      "cell_type": "code",
      "execution_count": 56,
      "metadata": {
        "id": "nvFaGHyLzCQd"
      },
      "outputs": [],
      "source": [
        "_model_parameters = model.parameters()\n",
        "embedding_matrix_center = next(\n",
        "    _model_parameters\n",
        ").detach()  # Assuming that first matrix was for central word\n",
        "embedding_matrix_context = next(\n",
        "    _model_parameters\n",
        ").detach()  # Assuming that second matrix was for context word"
      ]
    },
    {
      "cell_type": "code",
      "execution_count": 57,
      "metadata": {
        "id": "_LO2GDdLzCQf"
      },
      "outputs": [],
      "source": [
        "def get_word_vector(word, embedding_matrix, word_to_index=word_to_index):\n",
        "    return embedding_matrix[word_to_index[word]]"
      ]
    },
    {
      "cell_type": "markdown",
      "metadata": {
        "id": "rGKoXVw6zCQf"
      },
      "source": [
        "Простые проверки:"
      ]
    },
    {
      "cell_type": "code",
      "execution_count": 58,
      "metadata": {
        "id": "7ApOQzO1zCQi"
      },
      "outputs": [],
      "source": [
        "similarity_1 = F.cosine_similarity(\n",
        "    get_word_vector(\"iphone\", embedding_matrix_context)[None, :],\n",
        "    get_word_vector(\"apple\", embedding_matrix_context)[None, :],\n",
        ")\n",
        "similarity_2 = F.cosine_similarity(\n",
        "    get_word_vector(\"iphone\", embedding_matrix_context)[None, :],\n",
        "    get_word_vector(\"dell\", embedding_matrix_context)[None, :],\n",
        ")\n",
        "assert similarity_1 > similarity_2"
      ]
    },
    {
      "cell_type": "code",
      "execution_count": 59,
      "metadata": {
        "id": "deTH-1ApzCQi"
      },
      "outputs": [],
      "source": [
        "similarity_1 = F.cosine_similarity(\n",
        "    get_word_vector(\"windows\", embedding_matrix_context)[None, :],\n",
        "    get_word_vector(\"laptop\", embedding_matrix_context)[None, :],\n",
        ")\n",
        "similarity_2 = F.cosine_similarity(\n",
        "    get_word_vector(\"windows\", embedding_matrix_context)[None, :],\n",
        "    get_word_vector(\"macbook\", embedding_matrix_context)[None, :],\n",
        ")\n",
        "assert similarity_1 > similarity_2"
      ]
    },
    {
      "cell_type": "markdown",
      "metadata": {
        "id": "s01gF3XOzCQi"
      },
      "source": [
        "Наконец, взглянем на ближайшие по косинусной мере слова. Функция реализована ниже."
      ]
    },
    {
      "cell_type": "code",
      "execution_count": 60,
      "metadata": {
        "id": "dA0V6rOYtsLk"
      },
      "outputs": [],
      "source": [
        "def find_nearest(word, embedding_matrix, word_to_index=word_to_index, k=10):\n",
        "    word_vector = get_word_vector(word, embedding_matrix)[None, :]\n",
        "    dists = F.cosine_similarity(embedding_matrix, word_vector)\n",
        "    index_sorted = torch.argsort(dists)\n",
        "    top_k = index_sorted[-k:]\n",
        "    return [(index_to_word[x], dists[x].item()) for x in top_k.numpy()]"
      ]
    },
    {
      "cell_type": "code",
      "execution_count": 61,
      "metadata": {
        "colab": {
          "base_uri": "https://localhost:8080/"
        },
        "id": "xXBnbMAIzCQi",
        "outputId": "8e6edba2-9c02-41ea-e1c2-66793819877f"
      },
      "outputs": [
        {
          "output_type": "execute_result",
          "data": {
            "text/plain": [
              "[('fracsin', 0.6482111215591431),\n",
              " ('carlin', 0.6491943001747131),\n",
              " ('vienna', 0.6561061143875122),\n",
              " ('nb', 0.6623973846435547),\n",
              " ('reacting', 0.6638752818107605),\n",
              " ('500000', 0.6652529239654541),\n",
              " ('sutra', 0.6884869933128357),\n",
              " ('editor', 0.7142781615257263),\n",
              " ('overdrive', 0.725802481174469),\n",
              " ('python', 0.9999998807907104)]"
            ]
          },
          "metadata": {},
          "execution_count": 61
        }
      ],
      "source": [
        "find_nearest(\"python\", embedding_matrix_context, k=10)"
      ]
    },
    {
      "cell_type": "markdown",
      "metadata": {
        "id": "Jf-oRLPMzCQi"
      },
      "source": [
        "Также вы можете визуально проверить, как представлены в латентном пространстве часто встречающиеся слова."
      ]
    },
    {
      "cell_type": "code",
      "execution_count": 62,
      "metadata": {
        "id": "cI3KsQG9zCQj"
      },
      "outputs": [],
      "source": [
        "top_k = 5000\n",
        "_top_words = sorted([x for x in word_count_dict.items()], key=lambda x: x[1])[\n",
        "    -top_k - 100 : -100\n",
        "]  # ignoring 100 most frequent words\n",
        "top_words = [x[0] for x in _top_words]\n",
        "del _top_words"
      ]
    },
    {
      "cell_type": "code",
      "execution_count": 63,
      "metadata": {
        "id": "7wGmgYyezCQj"
      },
      "outputs": [],
      "source": [
        "word_embeddings = torch.cat(\n",
        "    [embedding_matrix_context[word_to_index[x]][None, :] for x in top_words], dim=0\n",
        ").numpy()"
      ]
    },
    {
      "cell_type": "code",
      "execution_count": 64,
      "metadata": {
        "id": "0_0wk7tTzCQj"
      },
      "outputs": [],
      "source": [
        "import bokeh.models as bm\n",
        "import bokeh.plotting as pl\n",
        "from bokeh.io import output_notebook\n",
        "\n",
        "output_notebook()\n",
        "\n",
        "\n",
        "def draw_vectors(\n",
        "    x,\n",
        "    y,\n",
        "    radius=10,\n",
        "    alpha=0.25,\n",
        "    color=\"blue\",\n",
        "    width=600,\n",
        "    height=400,\n",
        "    show=True,\n",
        "    **kwargs,\n",
        "):\n",
        "    \"\"\"draws an interactive plot for data points with auxilirary info on hover\"\"\"\n",
        "    if isinstance(color, str):\n",
        "        color = [color] * len(x)\n",
        "    data_source = bm.ColumnDataSource({\"x\": x, \"y\": y, \"color\": color, **kwargs})\n",
        "\n",
        "    fig = pl.figure(active_scroll=\"wheel_zoom\", width=width, height=height)\n",
        "    fig.scatter(\"x\", \"y\", size=radius, color=\"color\", alpha=alpha, source=data_source)\n",
        "\n",
        "    fig.add_tools(bm.HoverTool(tooltips=[(key, \"@\" + key) for key in kwargs.keys()]))\n",
        "    if show:\n",
        "        pl.show(fig)\n",
        "    return fig"
      ]
    },
    {
      "cell_type": "code",
      "execution_count": 65,
      "metadata": {
        "colab": {
          "base_uri": "https://localhost:8080/"
        },
        "id": "xKuLwospzCQj",
        "outputId": "aa77e38f-0bac-4c40-eb96-98ed851a762d"
      },
      "outputs": [
        {
          "output_type": "stream",
          "name": "stderr",
          "text": [
            "/usr/local/lib/python3.11/dist-packages/sklearn/utils/deprecation.py:151: FutureWarning: 'force_all_finite' was renamed to 'ensure_all_finite' in 1.6 and will be removed in 1.8.\n",
            "  warnings.warn(\n"
          ]
        }
      ],
      "source": [
        "embedding = umap.UMAP(n_neighbors=5).fit_transform(word_embeddings)"
      ]
    },
    {
      "cell_type": "code",
      "execution_count": 66,
      "metadata": {
        "colab": {
          "base_uri": "https://localhost:8080/",
          "height": 434
        },
        "id": "ZLMm-CFizCQj",
        "outputId": "a7e8c6d8-27ae-46ed-b157-c503995059d7"
      },
      "outputs": [
        {
          "output_type": "display_data",
          "data": {
            "application/javascript": [
              "'use strict';\n",
              "(function(root) {\n",
              "  function now() {\n",
              "    return new Date();\n",
              "  }\n",
              "\n",
              "  const force = true;\n",
              "\n",
              "  if (typeof root._bokeh_onload_callbacks === \"undefined\" || force === true) {\n",
              "    root._bokeh_onload_callbacks = [];\n",
              "    root._bokeh_is_loading = undefined;\n",
              "  }\n",
              "\n",
              "const JS_MIME_TYPE = 'application/javascript';\n",
              "  const HTML_MIME_TYPE = 'text/html';\n",
              "  const EXEC_MIME_TYPE = 'application/vnd.bokehjs_exec.v0+json';\n",
              "  const CLASS_NAME = 'output_bokeh rendered_html';\n",
              "\n",
              "  /**\n",
              "   * Render data to the DOM node\n",
              "   */\n",
              "  function render(props, node) {\n",
              "    const script = document.createElement(\"script\");\n",
              "    node.appendChild(script);\n",
              "  }\n",
              "\n",
              "  /**\n",
              "   * Handle when an output is cleared or removed\n",
              "   */\n",
              "  function handleClearOutput(event, handle) {\n",
              "    function drop(id) {\n",
              "      const view = Bokeh.index.get_by_id(id)\n",
              "      if (view != null) {\n",
              "        view.model.document.clear()\n",
              "        Bokeh.index.delete(view)\n",
              "      }\n",
              "    }\n",
              "\n",
              "    const cell = handle.cell;\n",
              "\n",
              "    const id = cell.output_area._bokeh_element_id;\n",
              "    const server_id = cell.output_area._bokeh_server_id;\n",
              "\n",
              "    // Clean up Bokeh references\n",
              "    if (id != null) {\n",
              "      drop(id)\n",
              "    }\n",
              "\n",
              "    if (server_id !== undefined) {\n",
              "      // Clean up Bokeh references\n",
              "      const cmd_clean = \"from bokeh.io.state import curstate; print(curstate().uuid_to_server['\" + server_id + \"'].get_sessions()[0].document.roots[0]._id)\";\n",
              "      cell.notebook.kernel.execute(cmd_clean, {\n",
              "        iopub: {\n",
              "          output: function(msg) {\n",
              "            const id = msg.content.text.trim()\n",
              "            drop(id)\n",
              "          }\n",
              "        }\n",
              "      });\n",
              "      // Destroy server and session\n",
              "      const cmd_destroy = \"import bokeh.io.notebook as ion; ion.destroy_server('\" + server_id + \"')\";\n",
              "      cell.notebook.kernel.execute(cmd_destroy);\n",
              "    }\n",
              "  }\n",
              "\n",
              "  /**\n",
              "   * Handle when a new output is added\n",
              "   */\n",
              "  function handleAddOutput(event, handle) {\n",
              "    const output_area = handle.output_area;\n",
              "    const output = handle.output;\n",
              "\n",
              "    // limit handleAddOutput to display_data with EXEC_MIME_TYPE content only\n",
              "    if ((output.output_type != \"display_data\") || (!Object.prototype.hasOwnProperty.call(output.data, EXEC_MIME_TYPE))) {\n",
              "      return\n",
              "    }\n",
              "\n",
              "    const toinsert = output_area.element.find(\".\" + CLASS_NAME.split(' ')[0]);\n",
              "\n",
              "    if (output.metadata[EXEC_MIME_TYPE][\"id\"] !== undefined) {\n",
              "      toinsert[toinsert.length - 1].firstChild.textContent = output.data[JS_MIME_TYPE];\n",
              "      // store reference to embed id on output_area\n",
              "      output_area._bokeh_element_id = output.metadata[EXEC_MIME_TYPE][\"id\"];\n",
              "    }\n",
              "    if (output.metadata[EXEC_MIME_TYPE][\"server_id\"] !== undefined) {\n",
              "      const bk_div = document.createElement(\"div\");\n",
              "      bk_div.innerHTML = output.data[HTML_MIME_TYPE];\n",
              "      const script_attrs = bk_div.children[0].attributes;\n",
              "      for (let i = 0; i < script_attrs.length; i++) {\n",
              "        toinsert[toinsert.length - 1].firstChild.setAttribute(script_attrs[i].name, script_attrs[i].value);\n",
              "        toinsert[toinsert.length - 1].firstChild.textContent = bk_div.children[0].textContent\n",
              "      }\n",
              "      // store reference to server id on output_area\n",
              "      output_area._bokeh_server_id = output.metadata[EXEC_MIME_TYPE][\"server_id\"];\n",
              "    }\n",
              "  }\n",
              "\n",
              "  function register_renderer(events, OutputArea) {\n",
              "\n",
              "    function append_mime(data, metadata, element) {\n",
              "      // create a DOM node to render to\n",
              "      const toinsert = this.create_output_subarea(\n",
              "        metadata,\n",
              "        CLASS_NAME,\n",
              "        EXEC_MIME_TYPE\n",
              "      );\n",
              "      this.keyboard_manager.register_events(toinsert);\n",
              "      // Render to node\n",
              "      const props = {data: data, metadata: metadata[EXEC_MIME_TYPE]};\n",
              "      render(props, toinsert[toinsert.length - 1]);\n",
              "      element.append(toinsert);\n",
              "      return toinsert\n",
              "    }\n",
              "\n",
              "    /* Handle when an output is cleared or removed */\n",
              "    events.on('clear_output.CodeCell', handleClearOutput);\n",
              "    events.on('delete.Cell', handleClearOutput);\n",
              "\n",
              "    /* Handle when a new output is added */\n",
              "    events.on('output_added.OutputArea', handleAddOutput);\n",
              "\n",
              "    /**\n",
              "     * Register the mime type and append_mime function with output_area\n",
              "     */\n",
              "    OutputArea.prototype.register_mime_type(EXEC_MIME_TYPE, append_mime, {\n",
              "      /* Is output safe? */\n",
              "      safe: true,\n",
              "      /* Index of renderer in `output_area.display_order` */\n",
              "      index: 0\n",
              "    });\n",
              "  }\n",
              "\n",
              "  // register the mime type if in Jupyter Notebook environment and previously unregistered\n",
              "  if (root.Jupyter !== undefined) {\n",
              "    const events = require('base/js/events');\n",
              "    const OutputArea = require('notebook/js/outputarea').OutputArea;\n",
              "\n",
              "    if (OutputArea.prototype.mime_types().indexOf(EXEC_MIME_TYPE) == -1) {\n",
              "      register_renderer(events, OutputArea);\n",
              "    }\n",
              "  }\n",
              "  if (typeof (root._bokeh_timeout) === \"undefined\" || force === true) {\n",
              "    root._bokeh_timeout = Date.now() + 5000;\n",
              "    root._bokeh_failed_load = false;\n",
              "  }\n",
              "\n",
              "  const NB_LOAD_WARNING = {'data': {'text/html':\n",
              "     \"<div style='background-color: #fdd'>\\n\"+\n",
              "     \"<p>\\n\"+\n",
              "     \"BokehJS does not appear to have successfully loaded. If loading BokehJS from CDN, this \\n\"+\n",
              "     \"may be due to a slow or bad network connection. Possible fixes:\\n\"+\n",
              "     \"</p>\\n\"+\n",
              "     \"<ul>\\n\"+\n",
              "     \"<li>re-rerun `output_notebook()` to attempt to load from CDN again, or</li>\\n\"+\n",
              "     \"<li>use INLINE resources instead, as so:</li>\\n\"+\n",
              "     \"</ul>\\n\"+\n",
              "     \"<code>\\n\"+\n",
              "     \"from bokeh.resources import INLINE\\n\"+\n",
              "     \"output_notebook(resources=INLINE)\\n\"+\n",
              "     \"</code>\\n\"+\n",
              "     \"</div>\"}};\n",
              "\n",
              "  function display_loaded(error = null) {\n",
              "    const el = document.getElementById(null);\n",
              "    if (el != null) {\n",
              "      const html = (() => {\n",
              "        if (typeof root.Bokeh === \"undefined\") {\n",
              "          if (error == null) {\n",
              "            return \"BokehJS is loading ...\";\n",
              "          } else {\n",
              "            return \"BokehJS failed to load.\";\n",
              "          }\n",
              "        } else {\n",
              "          const prefix = `BokehJS ${root.Bokeh.version}`;\n",
              "          if (error == null) {\n",
              "            return `${prefix} successfully loaded.`;\n",
              "          } else {\n",
              "            return `${prefix} <b>encountered errors</b> while loading and may not function as expected.`;\n",
              "          }\n",
              "        }\n",
              "      })();\n",
              "      el.innerHTML = html;\n",
              "\n",
              "      if (error != null) {\n",
              "        const wrapper = document.createElement(\"div\");\n",
              "        wrapper.style.overflow = \"auto\";\n",
              "        wrapper.style.height = \"5em\";\n",
              "        wrapper.style.resize = \"vertical\";\n",
              "        const content = document.createElement(\"div\");\n",
              "        content.style.fontFamily = \"monospace\";\n",
              "        content.style.whiteSpace = \"pre-wrap\";\n",
              "        content.style.backgroundColor = \"rgb(255, 221, 221)\";\n",
              "        content.textContent = error.stack ?? error.toString();\n",
              "        wrapper.append(content);\n",
              "        el.append(wrapper);\n",
              "      }\n",
              "    } else if (Date.now() < root._bokeh_timeout) {\n",
              "      setTimeout(() => display_loaded(error), 100);\n",
              "    }\n",
              "  }\n",
              "\n",
              "  function run_callbacks() {\n",
              "    try {\n",
              "      root._bokeh_onload_callbacks.forEach(function(callback) {\n",
              "        if (callback != null)\n",
              "          callback();\n",
              "      });\n",
              "    } finally {\n",
              "      delete root._bokeh_onload_callbacks\n",
              "    }\n",
              "    console.debug(\"Bokeh: all callbacks have finished\");\n",
              "  }\n",
              "\n",
              "  function load_libs(css_urls, js_urls, callback) {\n",
              "    if (css_urls == null) css_urls = [];\n",
              "    if (js_urls == null) js_urls = [];\n",
              "\n",
              "    root._bokeh_onload_callbacks.push(callback);\n",
              "    if (root._bokeh_is_loading > 0) {\n",
              "      console.debug(\"Bokeh: BokehJS is being loaded, scheduling callback at\", now());\n",
              "      return null;\n",
              "    }\n",
              "    if (js_urls == null || js_urls.length === 0) {\n",
              "      run_callbacks();\n",
              "      return null;\n",
              "    }\n",
              "    console.debug(\"Bokeh: BokehJS not loaded, scheduling load and callback at\", now());\n",
              "    root._bokeh_is_loading = css_urls.length + js_urls.length;\n",
              "\n",
              "    function on_load() {\n",
              "      root._bokeh_is_loading--;\n",
              "      if (root._bokeh_is_loading === 0) {\n",
              "        console.debug(\"Bokeh: all BokehJS libraries/stylesheets loaded\");\n",
              "        run_callbacks()\n",
              "      }\n",
              "    }\n",
              "\n",
              "    function on_error(url) {\n",
              "      console.error(\"failed to load \" + url);\n",
              "    }\n",
              "\n",
              "    for (let i = 0; i < css_urls.length; i++) {\n",
              "      const url = css_urls[i];\n",
              "      const element = document.createElement(\"link\");\n",
              "      element.onload = on_load;\n",
              "      element.onerror = on_error.bind(null, url);\n",
              "      element.rel = \"stylesheet\";\n",
              "      element.type = \"text/css\";\n",
              "      element.href = url;\n",
              "      console.debug(\"Bokeh: injecting link tag for BokehJS stylesheet: \", url);\n",
              "      document.body.appendChild(element);\n",
              "    }\n",
              "\n",
              "    for (let i = 0; i < js_urls.length; i++) {\n",
              "      const url = js_urls[i];\n",
              "      const element = document.createElement('script');\n",
              "      element.onload = on_load;\n",
              "      element.onerror = on_error.bind(null, url);\n",
              "      element.async = false;\n",
              "      element.src = url;\n",
              "      console.debug(\"Bokeh: injecting script tag for BokehJS library: \", url);\n",
              "      document.head.appendChild(element);\n",
              "    }\n",
              "  };\n",
              "\n",
              "  function inject_raw_css(css) {\n",
              "    const element = document.createElement(\"style\");\n",
              "    element.appendChild(document.createTextNode(css));\n",
              "    document.body.appendChild(element);\n",
              "  }\n",
              "\n",
              "  const js_urls = [\"https://cdn.bokeh.org/bokeh/release/bokeh-3.6.3.min.js\", \"https://cdn.bokeh.org/bokeh/release/bokeh-gl-3.6.3.min.js\", \"https://cdn.bokeh.org/bokeh/release/bokeh-widgets-3.6.3.min.js\", \"https://cdn.bokeh.org/bokeh/release/bokeh-tables-3.6.3.min.js\", \"https://cdn.bokeh.org/bokeh/release/bokeh-mathjax-3.6.3.min.js\"];\n",
              "  const css_urls = [];\n",
              "\n",
              "  const inline_js = [    function(Bokeh) {\n",
              "      Bokeh.set_log_level(\"info\");\n",
              "    },\n",
              "function(Bokeh) {\n",
              "    }\n",
              "  ];\n",
              "\n",
              "  function run_inline_js() {\n",
              "    if (root.Bokeh !== undefined || force === true) {\n",
              "      try {\n",
              "            for (let i = 0; i < inline_js.length; i++) {\n",
              "      inline_js[i].call(root, root.Bokeh);\n",
              "    }\n",
              "\n",
              "      } catch (error) {throw error;\n",
              "      }} else if (Date.now() < root._bokeh_timeout) {\n",
              "      setTimeout(run_inline_js, 100);\n",
              "    } else if (!root._bokeh_failed_load) {\n",
              "      console.log(\"Bokeh: BokehJS failed to load within specified timeout.\");\n",
              "      root._bokeh_failed_load = true;\n",
              "    } else if (force !== true) {\n",
              "      const cell = $(document.getElementById(null)).parents('.cell').data().cell;\n",
              "      cell.output_area.append_execute_result(NB_LOAD_WARNING)\n",
              "    }\n",
              "  }\n",
              "\n",
              "  if (root._bokeh_is_loading === 0) {\n",
              "    console.debug(\"Bokeh: BokehJS loaded, going straight to plotting\");\n",
              "    run_inline_js();\n",
              "  } else {\n",
              "    load_libs(css_urls, js_urls, function() {\n",
              "      console.debug(\"Bokeh: BokehJS plotting callback run at\", now());\n",
              "      run_inline_js();\n",
              "    });\n",
              "  }\n",
              "}(window));"
            ],
            "application/vnd.bokehjs_load.v0+json": "'use strict';\n(function(root) {\n  function now() {\n    return new Date();\n  }\n\n  const force = true;\n\n  if (typeof root._bokeh_onload_callbacks === \"undefined\" || force === true) {\n    root._bokeh_onload_callbacks = [];\n    root._bokeh_is_loading = undefined;\n  }\n\n\n  if (typeof (root._bokeh_timeout) === \"undefined\" || force === true) {\n    root._bokeh_timeout = Date.now() + 5000;\n    root._bokeh_failed_load = false;\n  }\n\n  const NB_LOAD_WARNING = {'data': {'text/html':\n     \"<div style='background-color: #fdd'>\\n\"+\n     \"<p>\\n\"+\n     \"BokehJS does not appear to have successfully loaded. If loading BokehJS from CDN, this \\n\"+\n     \"may be due to a slow or bad network connection. Possible fixes:\\n\"+\n     \"</p>\\n\"+\n     \"<ul>\\n\"+\n     \"<li>re-rerun `output_notebook()` to attempt to load from CDN again, or</li>\\n\"+\n     \"<li>use INLINE resources instead, as so:</li>\\n\"+\n     \"</ul>\\n\"+\n     \"<code>\\n\"+\n     \"from bokeh.resources import INLINE\\n\"+\n     \"output_notebook(resources=INLINE)\\n\"+\n     \"</code>\\n\"+\n     \"</div>\"}};\n\n  function display_loaded(error = null) {\n    const el = document.getElementById(null);\n    if (el != null) {\n      const html = (() => {\n        if (typeof root.Bokeh === \"undefined\") {\n          if (error == null) {\n            return \"BokehJS is loading ...\";\n          } else {\n            return \"BokehJS failed to load.\";\n          }\n        } else {\n          const prefix = `BokehJS ${root.Bokeh.version}`;\n          if (error == null) {\n            return `${prefix} successfully loaded.`;\n          } else {\n            return `${prefix} <b>encountered errors</b> while loading and may not function as expected.`;\n          }\n        }\n      })();\n      el.innerHTML = html;\n\n      if (error != null) {\n        const wrapper = document.createElement(\"div\");\n        wrapper.style.overflow = \"auto\";\n        wrapper.style.height = \"5em\";\n        wrapper.style.resize = \"vertical\";\n        const content = document.createElement(\"div\");\n        content.style.fontFamily = \"monospace\";\n        content.style.whiteSpace = \"pre-wrap\";\n        content.style.backgroundColor = \"rgb(255, 221, 221)\";\n        content.textContent = error.stack ?? error.toString();\n        wrapper.append(content);\n        el.append(wrapper);\n      }\n    } else if (Date.now() < root._bokeh_timeout) {\n      setTimeout(() => display_loaded(error), 100);\n    }\n  }\n\n  function run_callbacks() {\n    try {\n      root._bokeh_onload_callbacks.forEach(function(callback) {\n        if (callback != null)\n          callback();\n      });\n    } finally {\n      delete root._bokeh_onload_callbacks\n    }\n    console.debug(\"Bokeh: all callbacks have finished\");\n  }\n\n  function load_libs(css_urls, js_urls, callback) {\n    if (css_urls == null) css_urls = [];\n    if (js_urls == null) js_urls = [];\n\n    root._bokeh_onload_callbacks.push(callback);\n    if (root._bokeh_is_loading > 0) {\n      console.debug(\"Bokeh: BokehJS is being loaded, scheduling callback at\", now());\n      return null;\n    }\n    if (js_urls == null || js_urls.length === 0) {\n      run_callbacks();\n      return null;\n    }\n    console.debug(\"Bokeh: BokehJS not loaded, scheduling load and callback at\", now());\n    root._bokeh_is_loading = css_urls.length + js_urls.length;\n\n    function on_load() {\n      root._bokeh_is_loading--;\n      if (root._bokeh_is_loading === 0) {\n        console.debug(\"Bokeh: all BokehJS libraries/stylesheets loaded\");\n        run_callbacks()\n      }\n    }\n\n    function on_error(url) {\n      console.error(\"failed to load \" + url);\n    }\n\n    for (let i = 0; i < css_urls.length; i++) {\n      const url = css_urls[i];\n      const element = document.createElement(\"link\");\n      element.onload = on_load;\n      element.onerror = on_error.bind(null, url);\n      element.rel = \"stylesheet\";\n      element.type = \"text/css\";\n      element.href = url;\n      console.debug(\"Bokeh: injecting link tag for BokehJS stylesheet: \", url);\n      document.body.appendChild(element);\n    }\n\n    for (let i = 0; i < js_urls.length; i++) {\n      const url = js_urls[i];\n      const element = document.createElement('script');\n      element.onload = on_load;\n      element.onerror = on_error.bind(null, url);\n      element.async = false;\n      element.src = url;\n      console.debug(\"Bokeh: injecting script tag for BokehJS library: \", url);\n      document.head.appendChild(element);\n    }\n  };\n\n  function inject_raw_css(css) {\n    const element = document.createElement(\"style\");\n    element.appendChild(document.createTextNode(css));\n    document.body.appendChild(element);\n  }\n\n  const js_urls = [\"https://cdn.bokeh.org/bokeh/release/bokeh-3.6.3.min.js\", \"https://cdn.bokeh.org/bokeh/release/bokeh-gl-3.6.3.min.js\", \"https://cdn.bokeh.org/bokeh/release/bokeh-widgets-3.6.3.min.js\", \"https://cdn.bokeh.org/bokeh/release/bokeh-tables-3.6.3.min.js\", \"https://cdn.bokeh.org/bokeh/release/bokeh-mathjax-3.6.3.min.js\"];\n  const css_urls = [];\n\n  const inline_js = [    function(Bokeh) {\n      Bokeh.set_log_level(\"info\");\n    },\nfunction(Bokeh) {\n    }\n  ];\n\n  function run_inline_js() {\n    if (root.Bokeh !== undefined || force === true) {\n      try {\n            for (let i = 0; i < inline_js.length; i++) {\n      inline_js[i].call(root, root.Bokeh);\n    }\n\n      } catch (error) {throw error;\n      }} else if (Date.now() < root._bokeh_timeout) {\n      setTimeout(run_inline_js, 100);\n    } else if (!root._bokeh_failed_load) {\n      console.log(\"Bokeh: BokehJS failed to load within specified timeout.\");\n      root._bokeh_failed_load = true;\n    } else if (force !== true) {\n      const cell = $(document.getElementById(null)).parents('.cell').data().cell;\n      cell.output_area.append_execute_result(NB_LOAD_WARNING)\n    }\n  }\n\n  if (root._bokeh_is_loading === 0) {\n    console.debug(\"Bokeh: BokehJS loaded, going straight to plotting\");\n    run_inline_js();\n  } else {\n    load_libs(css_urls, js_urls, function() {\n      console.debug(\"Bokeh: BokehJS plotting callback run at\", now());\n      run_inline_js();\n    });\n  }\n}(window));"
          },
          "metadata": {}
        },
        {
          "output_type": "display_data",
          "data": {
            "text/html": [
              "\n",
              "  <div id=\"f95df39f-110f-4307-9f5b-714372703cc9\" data-root-id=\"p1004\" style=\"display: contents;\"></div>\n"
            ]
          },
          "metadata": {}
        },
        {
          "output_type": "display_data",
          "data": {
            "application/javascript": [
              "(function(root) {\n",
              "  function embed_document(root) {\n",
              "  const docs_json = {\"59a76624-9dfe-495a-8bfa-56a4ee182c49\":{\"version\":\"3.6.3\",\"title\":\"Bokeh Application\",\"roots\":[{\"type\":\"object\",\"name\":\"Figure\",\"id\":\"p1004\",\"attributes\":{\"height\":400,\"x_range\":{\"type\":\"object\",\"name\":\"DataRange1d\",\"id\":\"p1005\"},\"y_range\":{\"type\":\"object\",\"name\":\"DataRange1d\",\"id\":\"p1006\"},\"x_scale\":{\"type\":\"object\",\"name\":\"LinearScale\",\"id\":\"p1013\"},\"y_scale\":{\"type\":\"object\",\"name\":\"LinearScale\",\"id\":\"p1014\"},\"title\":{\"type\":\"object\",\"name\":\"Title\",\"id\":\"p1011\"},\"renderers\":[{\"type\":\"object\",\"name\":\"GlyphRenderer\",\"id\":\"p1044\",\"attributes\":{\"data_source\":{\"type\":\"object\",\"name\":\"ColumnDataSource\",\"id\":\"p1001\",\"attributes\":{\"selected\":{\"type\":\"object\",\"name\":\"Selection\",\"id\":\"p1002\",\"attributes\":{\"indices\":[],\"line_indices\":[]}},\"selection_policy\":{\"type\":\"object\",\"name\":\"UnionRenderers\",\"id\":\"p1003\"},\"data\":{\"type\":\"map\",\"entries\":[[\"x\",{\"type\":\"ndarray\",\"array\":{\"type\":\"bytes\",\"data\":\"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\"},\"shape\":[5000],\"dtype\":\"float32\",\"order\":\"little\"}],[\"y\",{\"type\":\"ndarray\",\"array\":{\"type\":\"bytes\",\"data\":\"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\"},\"shape\":[5000],\"dtype\":\"float32\",\"order\":\"little\"}],[\"color\",[\"blue\",\"blue\",\"blue\",\"blue\",\"blue\",\"blue\",\"blue\",\"blue\",\"blue\",\"blue\",\"blue\",\"blue\",\"blue\",\"blue\",\"blue\",\"blue\",\"blue\",\"blue\",\"blue\",\"blue\",\"blue\",\"blue\",\"blue\",\"blue\",\"blue\",\"blue\",\"blue\",\"blue\",\"blue\",\"blue\",\"blue\",\"blue\",\"blue\",\"blue\",\"blue\",\"blue\",\"blue\",\"blue\",\"blue\",\"blue\",\"blue\",\"blue\",\"blue\",\"blue\",\"blue\",\"blue\",\"blue\",\"blue\",\"blue\",\"blue\",\"blue\",\"blue\",\"blue\",\"blue\",\"blue\",\"blue\",\"blue\",\"blue\",\"blue\",\"blue\",\"blue\",\"blue\",\"blue\",\"blue\",\"blue\",\"blue\",\"blue\",\"blue\",\"blue\",\"blue\",\"blue\",\"blue\",\"blue\",\"blue\",\"blue\",\"blue\",\"blue\",\"blue\",\"blue\",\"blue\",\"blue\",\"blue\",\"blue\",\"blue\",\"blue\",\"blue\",\"blue\",\"blue\",\"blue\",\"blue\",\"blue\",\"blue\",\"blue\",\"blue\",\"blue\",\"blue\",\"blue\",\"blue\",\"blue\",\"blue\",\"blue\",\"blue\",\"blue\",\"blue\",\"blue\",\"blue\",\"blue\",\"blue\",\"blue\",\"blue\",\"blue\",\"blue\",\"blue\",\"blue\",\"blue\",\"blue\",\"blue\",\"blue\",\"blue\",\"blue\",\"blue\",\"blue\",\"blue\",\"blue\",\"blue\",\"blue\",\"blue\",\"blue\",\"blue\",\"blue\",\"blue\",\"blue\",\"blue\",\"blue\",\"blue\",\"blue\",\"blue\",\"blue\",\"blue\",\"blue\",\"blue\",\"blue\",\"blue\",\"blue\",\"blue\",\"blue\",\"blue\",\"blue\",\"blue\",\"blue\",\"blue\",\"blue\",\"blue\",\"blue\",\"blue\",\"blue\",\"blue\",\"blue\",\"blue\",\"blue\",\"blue\",\"blue\",\"blue\",\"blue\",\"blue\",\"blue\",\"blue\",\"blue\",\"blue\",\"blue\",\"blue\",\"blue\",\"blue\",\"blue\",\"blue\",\"blue\",\"blue\",\"blue\",\"blue\",\"blue\",\"blue\",\"blue\",\"blue\",\"blue\",\"blue\",\"blue\",\"blue\",\"blue\",\"blue\",\"blue\",\"blue\",\"blue\",\"blue\",\"blue\",\"blue\",\"blue\",\"blue\",\"blue\",\"blue\",\"blue\",\"blue\",\"blue\",\"blue\",\"blue\",\"blue\",\"blue\",\"blue\",\"blue\",\"blue\",\"blue\",\"blue\",\"blue\",\"blue\",\"blue\",\"blue\",\"blue\",\"blue\",\"blue\",\"blue\",\"blue\",\"blue\",\"blue\",\"blue\",\"blue\",\"blue\",\"blue\",\"blue\",\"blue\",\"blue\",\"blue\",\"blue\",\"blue\",\"blue\",\"blue\",\"blue\",\"blue\",\"blue\",\"blue\",\"blue\",\"blue\",\"blue\",\"blue\",\"blue\",\"blue\",\"blue\",\"blue\",\"blue\",\"blue\",\"blue\",\"blue\",\"blue\",\"blue\",\"blue\",\"blue\",\"blue\",\"blue\",\"blue\",\"blue\",\"blue\",\"blue\",\"blue\",\"blue\",\"blue\",\"blue\",\"blue\",\"blue\",\"blue\",\"blue\",\"blue\",\"blue\",\"blue\",\"blue\",\"blue\",\"blue\",\"blue\",\"blue\",\"blue\",\"blue\",\"blue\",\"blue\",\"blue\",\"blue\",\"blue\",\"blue\",\"blue\",\"blue\",\"blue\",\"blue\",\"blue\",\"blue\",\"blue\",\"blue\",\"blue\",\"blue\",\"blue\",\"blue\",\"blue\",\"blue\",\"blue\",\"blue\",\"blue\",\"blue\",\"blue\",\"blue\",\"blue\",\"blue\",\"blue\",\"blue\",\"blue\",\"blue\",\"blue\",\"blue\",\"blue\",\"blue\",\"blue\",\"blue\",\"blue\",\"blue\",\"blue\",\"blue\",\"blue\",\"blue\",\"blue\",\"blue\",\"blue\",\"blue\",\"blue\",\"blue\",\"blue\",\"blue\",\"blue\",\"blue\",\"blue\",\"blue\",\"blue\",\"blue\",\"blue\",\"blue\",\"blue\",\"blue\",\"blue\",\"blue\",\"blue\",\"blue\",\"blue\",\"blue\",\"blue\",\"blue\",\"blue\",\"blue\",\"blue\",\"blue\",\"blue\",\"blue\",\"blue\",\"blue\",\"blue\",\"blue\",\"blue\",\"blue\",\"blue\",\"blue\",\"blue\",\"blue\",\"blue\",\"blue\",\"blue\",\"blue\",\"blue\",\"blue\",\"blue\",\"blue\",\"blue\",\"blue\",\"blue\",\"blue\",\"blue\",\"blue\",\"blue\",\"blue\",\"blue\",\"blue\",\"blue\",\"blue\",\"blue\",\"blue\",\"blue\",\"blue\",\"blue\",\"blue\",\"blue\",\"blue\",\"blue\",\"blue\",\"blue\",\"blue\",\"blue\",\"blue\",\"blue\",\"blue\",\"blue\",\"blue\",\"blue\",\"blue\",\"blue\",\"blue\",\"blue\",\"blue\",\"blue\",\"blue\",\"blue\",\"blue\",\"blue\",\"blue\",\"blue\",\"blue\",\"blue\",\"blue\",\"blue\",\"blue\",\"blue\",\"blue\",\"blue\",\"blue\",\"blue\",\"blue\",\"blue\",\"blue\",\"blue\",\"blue\",\"blue\",\"blue\",\"blue\",\"blue\",\"blue\",\"blue\",\"blue\",\"blue\",\"blue\",\"blue\",\"blue\",\"blue\",\"blue\",\"blue\",\"blue\",\"blue\",\"blue\",\"blue\",\"blue\",\"blue\",\"blue\",\"blue\",\"blue\",\"blue\",\"blue\",\"blue\",\"blue\",\"blue\",\"blue\",\"blue\",\"blue\",\"blue\",\"blue\",\"blue\",\"blue\",\"blue\",\"blue\",\"blue\",\"blue\",\"blue\",\"blue\",\"blue\",\"blue\",\"blue\",\"blue\",\"blue\",\"blue\",\"blue\",\"blue\",\"blue\",\"blue\",\"blue\",\"blue\",\"blue\",\"blue\",\"blue\",\"blue\",\"blue\",\"blue\",\"blue\",\"blue\",\"blue\",\"blue\",\"blue\",\"blue\",\"blue\",\"blue\",\"blue\",\"blue\",\"blue\",\"blue\",\"blue\",\"blue\",\"blue\",\"blue\",\"blue\",\"blue\",\"blue\",\"blue\",\"blue\",\"blue\",\"blue\",\"blue\",\"blue\",\"blue\",\"blue\",\"blue\",\"blue\",\"blue\",\"blue\",\"blue\",\"blue\",\"blue\",\"blue\",\"blue\",\"blue\",\"blue\",\"blue\",\"blue\",\"blue\",\"blue\",\"blue\",\"blue\",\"blue\",\"blue\",\"blue\",\"blue\",\"blue\",\"blue\",\"blue\",\"blue\",\"blue\",\"blue\",\"blue\",\"blue\",\"blue\",\"blue\",\"blue\",\"blue\",\"blue\",\"blue\",\"blue\",\"blue\",\"blue\",\"blue\",\"blue\",\"blue\",\"blue\",\"blue\",\"blue\",\"blue\",\"blue\",\"blue\",\"blue\",\"blue\",\"blue\",\"blue\",\"blue\",\"blue\",\"blue\",\"blue\",\"blue\",\"blue\",\"blue\",\"blue\",\"blue\",\"blue\",\"blue\",\"blue\",\"blue\",\"blue\",\"blue\",\"blue\",\"blue\",\"blue\",\"blue\",\"blue\",\"blue\",\"blue\",\"blue\",\"blue\",\"blue\",\"blue\",\"blue\",\"blue\",\"blue\",\"blue\",\"blue\",\"blue\",\"blue\",\"blue\",\"blue\",\"blue\",\"blue\",\"blue\",\"blue\",\"blue\",\"blue\",\"blue\",\"blue\",\"blue\",\"blue\",\"blue\",\"blue\",\"blue\",\"blue\",\"blue\",\"blue\",\"blue\",\"blue\",\"blue\",\"blue\",\"blue\",\"blue\",\"blue\",\"blue\",\"blue\",\"blue\",\"blue\",\"blue\",\"blue\",\"blue\",\"blue\",\"blue\",\"blue\",\"blue\",\"blue\",\"blue\",\"blue\",\"blue\",\"blue\",\"blue\",\"blue\",\"blue\",\"blue\",\"blue\",\"blue\",\"blue\",\"blue\",\"blue\",\"blue\",\"blue\",\"blue\",\"blue\",\"blue\",\"blue\",\"blue\",\"blue\",\"blue\",\"blue\",\"blue\",\"blue\",\"blue\",\"blue\",\"blue\",\"blue\",\"blue\",\"blue\",\"blue\",\"blue\",\"blue\",\"blue\",\"blue\",\"blue\",\"blue\",\"blue\",\"blue\",\"blue\",\"blue\",\"blue\",\"blue\",\"blue\",\"blue\",\"blue\",\"blue\",\"blue\",\"blue\",\"blue\",\"blue\",\"blue\",\"blue\",\"blue\",\"blue\",\"blue\",\"blue\",\"blue\",\"blue\",\"blue\",\"blue\",\"blue\",\"blue\",\"blue\",\"blue\",\"blue\",\"blue\",\"blue\",\"blue\",\"blue\",\"blue\",\"blue\",\"blue\",\"blue\",\"blue\",\"blue\",\"blue\",\"blue\",\"blue\",\"blue\",\"blue\",\"blue\",\"blue\",\"blue\",\"blue\",\"blue\",\"blue\",\"blue\",\"blue\",\"blue\",\"blue\",\"blue\",\"blue\",\"blue\",\"blue\",\"blue\",\"blue\",\"blue\",\"blue\",\"blue\",\"blue\",\"blue\",\"blue\",\"blue\",\"blue\",\"blue\",\"blue\",\"blue\",\"blue\",\"blue\",\"blue\",\"blue\",\"blue\",\"blue\",\"blue\",\"blue\",\"blue\",\"blue\",\"blue\",\"blue\",\"blue\",\"blue\",\"blue\",\"blue\",\"blue\",\"blue\",\"blue\",\"blue\",\"blue\",\"blue\",\"blue\",\"blue\",\"blue\",\"blue\",\"blue\",\"blue\",\"blue\",\"blue\",\"blue\",\"blue\",\"blue\",\"blue\",\"blue\",\"blue\",\"blue\",\"blue\",\"blue\",\"blue\",\"blue\",\"blue\",\"blue\",\"blue\",\"blue\",\"blue\",\"blue\",\"blue\",\"blue\",\"blue\",\"blue\",\"blue\",\"blue\",\"blue\",\"blue\",\"blue\",\"blue\",\"blue\",\"blue\",\"blue\",\"blue\",\"blue\",\"blue\",\"blue\",\"blue\",\"blue\",\"blue\",\"blue\",\"blue\",\"blue\",\"blue\",\"blue\",\"blue\",\"blue\",\"blue\",\"blue\",\"blue\",\"blue\",\"blue\",\"blue\",\"blue\",\"blue\",\"blue\",\"blue\",\"blue\",\"blue\",\"blue\",\"blue\",\"blue\",\"blue\",\"blue\",\"blue\",\"blue\",\"blue\",\"blue\",\"blue\",\"blue\",\"blue\",\"blue\",\"blue\",\"blue\",\"blue\",\"blue\",\"blue\",\"blue\",\"blue\",\"blue\",\"blue\",\"blue\",\"blue\",\"blue\",\"blue\",\"blue\",\"blue\",\"blue\",\"blue\",\"blue\",\"blue\",\"blue\",\"blue\",\"blue\",\"blue\",\"blue\",\"blue\",\"blue\",\"blue\",\"blue\",\"blue\",\"blue\",\"blue\",\"blue\",\"blue\",\"blue\",\"blue\",\"blue\",\"blue\",\"blue\",\"blue\",\"blue\",\"blue\",\"blue\",\"blue\",\"blue\",\"blue\",\"blue\",\"blue\",\"blue\",\"blue\",\"blue\",\"blue\",\"blue\",\"blue\",\"blue\",\"blue\",\"blue\",\"blue\",\"blue\",\"blue\",\"blue\",\"blue\",\"blue\",\"blue\",\"blue\",\"blue\",\"blue\",\"blue\",\"blue\",\"blue\",\"blue\",\"blue\",\"blue\",\"blue\",\"blue\",\"blue\",\"blue\",\"blue\",\"blue\",\"blue\",\"blue\",\"blue\",\"blue\",\"blue\",\"blue\",\"blue\",\"blue\",\"blue\",\"blue\",\"blue\",\"blue\",\"blue\",\"blue\",\"blue\",\"blue\",\"blue\",\"blue\",\"blue\",\"blue\",\"blue\",\"blue\",\"blue\",\"blue\",\"blue\",\"blue\",\"blue\",\"blue\",\"blue\",\"blue\",\"blue\",\"blue\",\"blue\",\"blue\",\"blue\",\"blue\",\"blue\",\"blue\",\"blue\",\"blue\",\"blue\",\"blue\",\"blue\",\"blue\",\"blue\",\"blue\",\"blue\",\"blue\",\"blue\",\"blue\",\"blue\",\"blue\",\"blue\",\"blue\",\"blue\",\"blue\",\"blue\",\"blue\",\"blue\",\"blue\",\"blue\",\"blue\",\"blue\",\"blue\",\"blue\",\"blue\",\"blue\",\"blue\",\"blue\",\"blue\",\"blue\",\"blue\",\"blue\",\"blue\",\"blue\",\"blue\",\"blue\",\"blue\",\"blue\",\"blue\",\"blue\",\"blue\",\"blue\",\"blue\",\"blue\",\"blue\",\"blue\",\"blue\",\"blue\",\"blue\",\"blue\",\"blue\",\"blue\",\"blue\",\"blue\",\"blue\",\"blue\",\"blue\",\"blue\",\"blue\",\"blue\",\"blue\",\"blue\",\"blue\",\"blue\",\"blue\",\"blue\",\"blue\",\"blue\",\"blue\",\"blue\",\"blue\",\"blue\",\"blue\",\"blue\",\"blue\",\"blue\",\"blue\",\"blue\",\"blue\",\"blue\",\"blue\",\"blue\",\"blue\",\"blue\",\"blue\",\"blue\",\"blue\",\"blue\",\"blue\",\"blue\",\"blue\",\"blue\",\"blue\",\"blue\",\"blue\",\"blue\",\"blue\",\"blue\",\"blue\",\"blue\",\"blue\",\"blue\",\"blue\",\"blue\",\"blue\",\"blue\",\"blue\",\"blue\",\"blue\",\"blue\",\"blue\",\"blue\",\"blue\",\"blue\",\"blue\",\"blue\",\"blue\",\"blue\",\"blue\",\"blue\",\"blue\",\"blue\",\"blue\",\"blue\",\"blue\",\"blue\",\"blue\",\"blue\",\"blue\",\"blue\",\"blue\",\"blue\",\"blue\",\"blue\",\"blue\",\"blue\",\"blue\",\"blue\",\"blue\",\"blue\",\"blue\",\"blue\",\"blue\",\"blue\",\"blue\",\"blue\",\"blue\",\"blue\",\"blue\",\"blue\",\"blue\",\"blue\",\"blue\",\"blue\",\"blue\",\"blue\",\"blue\",\"blue\",\"blue\",\"blue\",\"blue\",\"blue\",\"blue\",\"blue\",\"blue\",\"blue\",\"blue\",\"blue\",\"blue\",\"blue\",\"blue\",\"blue\",\"blue\",\"blue\",\"blue\",\"blue\",\"blue\",\"blue\",\"blue\",\"blue\",\"blue\",\"blue\",\"blue\",\"blue\",\"blue\",\"blue\",\"blue\",\"blue\",\"blue\",\"blue\",\"blue\",\"blue\",\"blue\",\"blue\",\"blue\",\"blue\",\"blue\",\"blue\",\"blue\",\"blue\",\"blue\",\"blue\",\"blue\",\"blue\",\"blue\",\"blue\",\"blue\",\"blue\",\"blue\",\"blue\",\"blue\",\"blue\",\"blue\",\"blue\",\"blue\",\"blue\",\"blue\",\"blue\",\"blue\",\"blue\",\"blue\",\"blue\",\"blue\",\"blue\",\"blue\",\"blue\",\"blue\",\"blue\",\"blue\",\"blue\",\"blue\",\"blue\",\"blue\",\"blue\",\"blue\",\"blue\",\"blue\",\"blue\",\"blue\",\"blue\",\"blue\",\"blue\",\"blue\",\"blue\",\"blue\",\"blue\",\"blue\",\"blue\",\"blue\",\"blue\",\"blue\",\"blue\",\"blue\",\"blue\",\"blue\",\"blue\",\"blue\",\"blue\",\"blue\",\"blue\",\"blue\",\"blue\",\"blue\",\"blue\",\"blue\",\"blue\",\"blue\",\"blue\",\"blue\",\"blue\",\"blue\",\"blue\",\"blue\",\"blue\",\"blue\",\"blue\",\"blue\",\"blue\",\"blue\",\"blue\",\"blue\",\"blue\",\"blue\",\"blue\",\"blue\",\"blue\",\"blue\",\"blue\",\"blue\",\"blue\",\"blue\",\"blue\",\"blue\",\"blue\",\"blue\",\"blue\",\"blue\",\"blue\",\"blue\",\"blue\",\"blue\",\"blue\",\"blue\",\"blue\",\"blue\",\"blue\",\"blue\",\"blue\",\"blue\",\"blue\",\"blue\",\"blue\",\"blue\",\"blue\",\"blue\",\"blue\",\"blue\",\"blue\",\"blue\",\"blue\",\"blue\",\"blue\",\"blue\",\"blue\",\"blue\",\"blue\",\"blue\",\"blue\",\"blue\",\"blue\",\"blue\",\"blue\",\"blue\",\"blue\",\"blue\",\"blue\",\"blue\",\"blue\",\"blue\",\"blue\",\"blue\",\"blue\",\"blue\",\"blue\",\"blue\",\"blue\",\"blue\",\"blue\",\"blue\",\"blue\",\"blue\",\"blue\",\"blue\",\"blue\",\"blue\",\"blue\",\"blue\",\"blue\",\"blue\",\"blue\",\"blue\",\"blue\",\"blue\",\"blue\",\"blue\",\"blue\",\"blue\",\"blue\",\"blue\",\"blue\",\"blue\",\"blue\",\"blue\",\"blue\",\"blue\",\"blue\",\"blue\",\"blue\",\"blue\",\"blue\",\"blue\",\"blue\",\"blue\",\"blue\",\"blue\",\"blue\",\"blue\",\"blue\",\"blue\",\"blue\",\"blue\",\"blue\",\"blue\",\"blue\",\"blue\",\"blue\",\"blue\",\"blue\",\"blue\",\"blue\",\"blue\",\"blue\",\"blue\",\"blue\",\"blue\",\"blue\",\"blue\",\"blue\",\"blue\",\"blue\",\"blue\",\"blue\",\"blue\",\"blue\",\"blue\",\"blue\",\"blue\",\"blue\",\"blue\",\"blue\",\"blue\",\"blue\",\"blue\",\"blue\",\"blue\",\"blue\",\"blue\",\"blue\",\"blue\",\"blue\",\"blue\",\"blue\",\"blue\",\"blue\",\"blue\",\"blue\",\"blue\",\"blue\",\"blue\",\"blue\",\"blue\",\"blue\",\"blue\",\"blue\",\"blue\",\"blue\",\"blue\",\"blue\",\"blue\",\"blue\",\"blue\",\"blue\",\"blue\",\"blue\",\"blue\",\"blue\",\"blue\",\"blue\",\"blue\",\"blue\",\"blue\",\"blue\",\"blue\",\"blue\",\"blue\",\"blue\",\"blue\",\"blue\",\"blue\",\"blue\",\"blue\",\"blue\",\"blue\",\"blue\",\"blue\",\"blue\",\"blue\",\"blue\",\"blue\",\"blue\",\"blue\",\"blue\",\"blue\",\"blue\",\"blue\",\"blue\",\"blue\",\"blue\",\"blue\",\"blue\",\"blue\",\"blue\",\"blue\",\"blue\",\"blue\",\"blue\",\"blue\",\"blue\",\"blue\",\"blue\",\"blue\",\"blue\",\"blue\",\"blue\",\"blue\",\"blue\",\"blue\",\"blue\",\"blue\",\"blue\",\"blue\",\"blue\",\"blue\",\"blue\",\"blue\",\"blue\",\"blue\",\"blue\",\"blue\",\"blue\",\"blue\",\"blue\",\"blue\",\"blue\",\"blue\",\"blue\",\"blue\",\"blue\",\"blue\",\"blue\",\"blue\",\"blue\",\"blue\",\"blue\",\"blue\",\"blue\",\"blue\",\"blue\",\"blue\",\"blue\",\"blue\",\"blue\",\"blue\",\"blue\",\"blue\",\"blue\",\"blue\",\"blue\",\"blue\",\"blue\",\"blue\",\"blue\",\"blue\",\"blue\",\"blue\",\"blue\",\"blue\",\"blue\",\"blue\",\"blue\",\"blue\",\"blue\",\"blue\",\"blue\",\"blue\",\"blue\",\"blue\",\"blue\",\"blue\",\"blue\",\"blue\",\"blue\",\"blue\",\"blue\",\"blue\",\"blue\",\"blue\",\"blue\",\"blue\",\"blue\",\"blue\",\"blue\",\"blue\",\"blue\",\"blue\",\"blue\",\"blue\",\"blue\",\"blue\",\"blue\",\"blue\",\"blue\",\"blue\",\"blue\",\"blue\",\"blue\",\"blue\",\"blue\",\"blue\",\"blue\",\"blue\",\"blue\",\"blue\",\"blue\",\"blue\",\"blue\",\"blue\",\"blue\",\"blue\",\"blue\",\"blue\",\"blue\",\"blue\",\"blue\",\"blue\",\"blue\",\"blue\",\"blue\",\"blue\",\"blue\",\"blue\",\"blue\",\"blue\",\"blue\",\"blue\",\"blue\",\"blue\",\"blue\",\"blue\",\"blue\",\"blue\",\"blue\",\"blue\",\"blue\",\"blue\",\"blue\",\"blue\",\"blue\",\"blue\",\"blue\",\"blue\",\"blue\",\"blue\",\"blue\",\"blue\",\"blue\",\"blue\",\"blue\",\"blue\",\"blue\",\"blue\",\"blue\",\"blue\",\"blue\",\"blue\",\"blue\",\"blue\",\"blue\",\"blue\",\"blue\",\"blue\",\"blue\",\"blue\",\"blue\",\"blue\",\"blue\",\"blue\",\"blue\",\"blue\",\"blue\",\"blue\",\"blue\",\"blue\",\"blue\",\"blue\",\"blue\",\"blue\",\"blue\",\"blue\",\"blue\",\"blue\",\"blue\",\"blue\",\"blue\",\"blue\",\"blue\",\"blue\",\"blue\",\"blue\",\"blue\",\"blue\",\"blue\",\"blue\",\"blue\",\"blue\",\"blue\",\"blue\",\"blue\",\"blue\",\"blue\",\"blue\",\"blue\",\"blue\",\"blue\",\"blue\",\"blue\",\"blue\",\"blue\",\"blue\",\"blue\",\"blue\",\"blue\",\"blue\",\"blue\",\"blue\",\"blue\",\"blue\",\"blue\",\"blue\",\"blue\",\"blue\",\"blue\",\"blue\",\"blue\",\"blue\",\"blue\",\"blue\",\"blue\",\"blue\",\"blue\",\"blue\",\"blue\",\"blue\",\"blue\",\"blue\",\"blue\",\"blue\",\"blue\",\"blue\",\"blue\",\"blue\",\"blue\",\"blue\",\"blue\",\"blue\",\"blue\",\"blue\",\"blue\",\"blue\",\"blue\",\"blue\",\"blue\",\"blue\",\"blue\",\"blue\",\"blue\",\"blue\",\"blue\",\"blue\",\"blue\",\"blue\",\"blue\",\"blue\",\"blue\",\"blue\",\"blue\",\"blue\",\"blue\",\"blue\",\"blue\",\"blue\",\"blue\",\"blue\",\"blue\",\"blue\",\"blue\",\"blue\",\"blue\",\"blue\",\"blue\",\"blue\",\"blue\",\"blue\",\"blue\",\"blue\",\"blue\",\"blue\",\"blue\",\"blue\",\"blue\",\"blue\",\"blue\",\"blue\",\"blue\",\"blue\",\"blue\",\"blue\",\"blue\",\"blue\",\"blue\",\"blue\",\"blue\",\"blue\",\"blue\",\"blue\",\"blue\",\"blue\",\"blue\",\"blue\",\"blue\",\"blue\",\"blue\",\"blue\",\"blue\",\"blue\",\"blue\",\"blue\",\"blue\",\"blue\",\"blue\",\"blue\",\"blue\",\"blue\",\"blue\",\"blue\",\"blue\",\"blue\",\"blue\",\"blue\",\"blue\",\"blue\",\"blue\",\"blue\",\"blue\",\"blue\",\"blue\",\"blue\",\"blue\",\"blue\",\"blue\",\"blue\",\"blue\",\"blue\",\"blue\",\"blue\",\"blue\",\"blue\",\"blue\",\"blue\",\"blue\",\"blue\",\"blue\",\"blue\",\"blue\",\"blue\",\"blue\",\"blue\",\"blue\",\"blue\",\"blue\",\"blue\",\"blue\",\"blue\",\"blue\",\"blue\",\"blue\",\"blue\",\"blue\",\"blue\",\"blue\",\"blue\",\"blue\",\"blue\",\"blue\",\"blue\",\"blue\",\"blue\",\"blue\",\"blue\",\"blue\",\"blue\",\"blue\",\"blue\",\"blue\",\"blue\",\"blue\",\"blue\",\"blue\",\"blue\",\"blue\",\"blue\",\"blue\",\"blue\",\"blue\",\"blue\",\"blue\",\"blue\",\"blue\",\"blue\",\"blue\",\"blue\",\"blue\",\"blue\",\"blue\",\"blue\",\"blue\",\"blue\",\"blue\",\"blue\",\"blue\",\"blue\",\"blue\",\"blue\",\"blue\",\"blue\",\"blue\",\"blue\",\"blue\",\"blue\",\"blue\",\"blue\",\"blue\",\"blue\",\"blue\",\"blue\",\"blue\",\"blue\",\"blue\",\"blue\",\"blue\",\"blue\",\"blue\",\"blue\",\"blue\",\"blue\",\"blue\",\"blue\",\"blue\",\"blue\",\"blue\",\"blue\",\"blue\",\"blue\",\"blue\",\"blue\",\"blue\",\"blue\",\"blue\",\"blue\",\"blue\",\"blue\",\"blue\",\"blue\",\"blue\",\"blue\",\"blue\",\"blue\",\"blue\",\"blue\",\"blue\",\"blue\",\"blue\",\"blue\",\"blue\",\"blue\",\"blue\",\"blue\",\"blue\",\"blue\",\"blue\",\"blue\",\"blue\",\"blue\",\"blue\",\"blue\",\"blue\",\"blue\",\"blue\",\"blue\",\"blue\",\"blue\",\"blue\",\"blue\",\"blue\",\"blue\",\"blue\",\"blue\",\"blue\",\"blue\",\"blue\",\"blue\",\"blue\",\"blue\",\"blue\",\"blue\",\"blue\",\"blue\",\"blue\",\"blue\",\"blue\",\"blue\",\"blue\",\"blue\",\"blue\",\"blue\",\"blue\",\"blue\",\"blue\",\"blue\",\"blue\",\"blue\",\"blue\",\"blue\",\"blue\",\"blue\",\"blue\",\"blue\",\"blue\",\"blue\",\"blue\",\"blue\",\"blue\",\"blue\",\"blue\",\"blue\",\"blue\",\"blue\",\"blue\",\"blue\",\"blue\",\"blue\",\"blue\",\"blue\",\"blue\",\"blue\",\"blue\",\"blue\",\"blue\",\"blue\",\"blue\",\"blue\",\"blue\",\"blue\",\"blue\",\"blue\",\"blue\",\"blue\",\"blue\",\"blue\",\"blue\",\"blue\",\"blue\",\"blue\",\"blue\",\"blue\",\"blue\",\"blue\",\"blue\",\"blue\",\"blue\",\"blue\",\"blue\",\"blue\",\"blue\",\"blue\",\"blue\",\"blue\",\"blue\",\"blue\",\"blue\",\"blue\",\"blue\",\"blue\",\"blue\",\"blue\",\"blue\",\"blue\",\"blue\",\"blue\",\"blue\",\"blue\",\"blue\",\"blue\",\"blue\",\"blue\",\"blue\",\"blue\",\"blue\",\"blue\",\"blue\",\"blue\",\"blue\",\"blue\",\"blue\",\"blue\",\"blue\",\"blue\",\"blue\",\"blue\",\"blue\",\"blue\",\"blue\",\"blue\",\"blue\",\"blue\",\"blue\",\"blue\",\"blue\",\"blue\",\"blue\",\"blue\",\"blue\",\"blue\",\"blue\",\"blue\",\"blue\",\"blue\",\"blue\",\"blue\",\"blue\",\"blue\",\"blue\",\"blue\",\"blue\",\"blue\",\"blue\",\"blue\",\"blue\",\"blue\",\"blue\",\"blue\",\"blue\",\"blue\",\"blue\",\"blue\",\"blue\",\"blue\",\"blue\",\"blue\",\"blue\",\"blue\",\"blue\",\"blue\",\"blue\",\"blue\",\"blue\",\"blue\",\"blue\",\"blue\",\"blue\",\"blue\",\"blue\",\"blue\",\"blue\",\"blue\",\"blue\",\"blue\",\"blue\",\"blue\",\"blue\",\"blue\",\"blue\",\"blue\",\"blue\",\"blue\",\"blue\",\"blue\",\"blue\",\"blue\",\"blue\",\"blue\",\"blue\",\"blue\",\"blue\",\"blue\",\"blue\",\"blue\",\"blue\",\"blue\",\"blue\",\"blue\",\"blue\",\"blue\",\"blue\",\"blue\",\"blue\",\"blue\",\"blue\",\"blue\",\"blue\",\"blue\",\"blue\",\"blue\",\"blue\",\"blue\",\"blue\",\"blue\",\"blue\",\"blue\",\"blue\",\"blue\",\"blue\",\"blue\",\"blue\",\"blue\",\"blue\",\"blue\",\"blue\",\"blue\",\"blue\",\"blue\",\"blue\",\"blue\",\"blue\",\"blue\",\"blue\",\"blue\",\"blue\",\"blue\",\"blue\",\"blue\",\"blue\",\"blue\",\"blue\",\"blue\",\"blue\",\"blue\",\"blue\",\"blue\",\"blue\",\"blue\",\"blue\",\"blue\",\"blue\",\"blue\",\"blue\",\"blue\",\"blue\",\"blue\",\"blue\",\"blue\",\"blue\",\"blue\",\"blue\",\"blue\",\"blue\",\"blue\",\"blue\",\"blue\",\"blue\",\"blue\",\"blue\",\"blue\",\"blue\",\"blue\",\"blue\",\"blue\",\"blue\",\"blue\",\"blue\",\"blue\",\"blue\",\"blue\",\"blue\",\"blue\",\"blue\",\"blue\",\"blue\",\"blue\",\"blue\",\"blue\",\"blue\",\"blue\",\"blue\",\"blue\",\"blue\",\"blue\",\"blue\",\"blue\",\"blue\",\"blue\",\"blue\",\"blue\",\"blue\",\"blue\",\"blue\",\"blue\",\"blue\",\"blue\",\"blue\",\"blue\",\"blue\",\"blue\",\"blue\",\"blue\",\"blue\",\"blue\",\"blue\",\"blue\",\"blue\",\"blue\",\"blue\",\"blue\",\"blue\",\"blue\",\"blue\",\"blue\",\"blue\",\"blue\",\"blue\",\"blue\",\"blue\",\"blue\",\"blue\",\"blue\",\"blue\",\"blue\",\"blue\",\"blue\",\"blue\",\"blue\",\"blue\",\"blue\",\"blue\",\"blue\",\"blue\",\"blue\",\"blue\",\"blue\",\"blue\",\"blue\",\"blue\",\"blue\",\"blue\",\"blue\",\"blue\",\"blue\",\"blue\",\"blue\",\"blue\",\"blue\",\"blue\",\"blue\",\"blue\",\"blue\",\"blue\",\"blue\",\"blue\",\"blue\",\"blue\",\"blue\",\"blue\",\"blue\",\"blue\",\"blue\",\"blue\",\"blue\",\"blue\",\"blue\",\"blue\",\"blue\",\"blue\",\"blue\",\"blue\",\"blue\",\"blue\",\"blue\",\"blue\",\"blue\",\"blue\",\"blue\",\"blue\",\"blue\",\"blue\",\"blue\",\"blue\",\"blue\",\"blue\",\"blue\",\"blue\",\"blue\",\"blue\",\"blue\",\"blue\",\"blue\",\"blue\",\"blue\",\"blue\",\"blue\",\"blue\",\"blue\",\"blue\",\"blue\",\"blue\",\"blue\",\"blue\",\"blue\",\"blue\",\"blue\",\"blue\",\"blue\",\"blue\",\"blue\",\"blue\",\"blue\",\"blue\",\"blue\",\"blue\",\"blue\",\"blue\",\"blue\",\"blue\",\"blue\",\"blue\",\"blue\",\"blue\",\"blue\",\"blue\",\"blue\",\"blue\",\"blue\",\"blue\",\"blue\",\"blue\",\"blue\",\"blue\",\"blue\",\"blue\",\"blue\",\"blue\",\"blue\",\"blue\",\"blue\",\"blue\",\"blue\",\"blue\",\"blue\",\"blue\",\"blue\",\"blue\",\"blue\",\"blue\",\"blue\",\"blue\",\"blue\",\"blue\",\"blue\",\"blue\",\"blue\",\"blue\",\"blue\",\"blue\",\"blue\",\"blue\",\"blue\",\"blue\",\"blue\",\"blue\",\"blue\",\"blue\",\"blue\",\"blue\",\"blue\",\"blue\",\"blue\",\"blue\",\"blue\",\"blue\",\"blue\",\"blue\",\"blue\",\"blue\",\"blue\",\"blue\",\"blue\",\"blue\",\"blue\",\"blue\",\"blue\",\"blue\",\"blue\",\"blue\",\"blue\",\"blue\",\"blue\",\"blue\",\"blue\",\"blue\",\"blue\",\"blue\",\"blue\",\"blue\",\"blue\",\"blue\",\"blue\",\"blue\",\"blue\",\"blue\",\"blue\",\"blue\",\"blue\",\"blue\",\"blue\",\"blue\",\"blue\",\"blue\",\"blue\",\"blue\",\"blue\",\"blue\",\"blue\",\"blue\",\"blue\",\"blue\",\"blue\",\"blue\",\"blue\",\"blue\",\"blue\",\"blue\",\"blue\",\"blue\",\"blue\",\"blue\",\"blue\",\"blue\",\"blue\",\"blue\",\"blue\",\"blue\",\"blue\",\"blue\",\"blue\",\"blue\",\"blue\",\"blue\",\"blue\",\"blue\",\"blue\",\"blue\",\"blue\",\"blue\",\"blue\",\"blue\",\"blue\",\"blue\",\"blue\",\"blue\",\"blue\",\"blue\",\"blue\",\"blue\",\"blue\",\"blue\",\"blue\",\"blue\",\"blue\",\"blue\",\"blue\",\"blue\",\"blue\",\"blue\",\"blue\",\"blue\",\"blue\",\"blue\",\"blue\",\"blue\",\"blue\",\"blue\",\"blue\",\"blue\",\"blue\",\"blue\",\"blue\",\"blue\",\"blue\",\"blue\",\"blue\",\"blue\",\"blue\",\"blue\",\"blue\",\"blue\",\"blue\",\"blue\",\"blue\",\"blue\",\"blue\",\"blue\",\"blue\",\"blue\",\"blue\",\"blue\",\"blue\",\"blue\",\"blue\",\"blue\",\"blue\",\"blue\",\"blue\",\"blue\",\"blue\",\"blue\",\"blue\",\"blue\",\"blue\",\"blue\",\"blue\",\"blue\",\"blue\",\"blue\",\"blue\",\"blue\",\"blue\",\"blue\",\"blue\",\"blue\",\"blue\",\"blue\",\"blue\",\"blue\",\"blue\",\"blue\",\"blue\",\"blue\",\"blue\",\"blue\",\"blue\",\"blue\",\"blue\",\"blue\",\"blue\",\"blue\",\"blue\",\"blue\",\"blue\",\"blue\",\"blue\",\"blue\",\"blue\",\"blue\",\"blue\",\"blue\",\"blue\",\"blue\",\"blue\",\"blue\",\"blue\",\"blue\",\"blue\",\"blue\",\"blue\",\"blue\",\"blue\",\"blue\",\"blue\",\"blue\",\"blue\",\"blue\",\"blue\",\"blue\",\"blue\",\"blue\",\"blue\",\"blue\",\"blue\",\"blue\",\"blue\",\"blue\",\"blue\",\"blue\",\"blue\",\"blue\",\"blue\",\"blue\",\"blue\",\"blue\",\"blue\",\"blue\",\"blue\",\"blue\",\"blue\",\"blue\",\"blue\",\"blue\",\"blue\",\"blue\",\"blue\",\"blue\",\"blue\",\"blue\",\"blue\",\"blue\",\"blue\",\"blue\",\"blue\",\"blue\",\"blue\",\"blue\",\"blue\",\"blue\",\"blue\",\"blue\",\"blue\",\"blue\",\"blue\",\"blue\",\"blue\",\"blue\",\"blue\",\"blue\",\"blue\",\"blue\",\"blue\",\"blue\",\"blue\",\"blue\",\"blue\",\"blue\",\"blue\",\"blue\",\"blue\",\"blue\",\"blue\",\"blue\",\"blue\",\"blue\",\"blue\",\"blue\",\"blue\",\"blue\",\"blue\",\"blue\",\"blue\",\"blue\",\"blue\",\"blue\",\"blue\",\"blue\",\"blue\",\"blue\",\"blue\",\"blue\",\"blue\",\"blue\",\"blue\",\"blue\",\"blue\",\"blue\",\"blue\",\"blue\",\"blue\",\"blue\",\"blue\",\"blue\",\"blue\",\"blue\",\"blue\",\"blue\",\"blue\",\"blue\",\"blue\",\"blue\",\"blue\",\"blue\",\"blue\",\"blue\",\"blue\",\"blue\",\"blue\",\"blue\",\"blue\",\"blue\",\"blue\",\"blue\",\"blue\",\"blue\",\"blue\",\"blue\",\"blue\",\"blue\",\"blue\",\"blue\",\"blue\",\"blue\",\"blue\",\"blue\",\"blue\",\"blue\",\"blue\",\"blue\",\"blue\",\"blue\",\"blue\",\"blue\",\"blue\",\"blue\",\"blue\",\"blue\",\"blue\",\"blue\",\"blue\",\"blue\",\"blue\",\"blue\",\"blue\",\"blue\",\"blue\",\"blue\",\"blue\",\"blue\",\"blue\",\"blue\",\"blue\",\"blue\",\"blue\",\"blue\",\"blue\",\"blue\",\"blue\",\"blue\",\"blue\",\"blue\",\"blue\",\"blue\",\"blue\",\"blue\",\"blue\",\"blue\",\"blue\",\"blue\",\"blue\",\"blue\",\"blue\",\"blue\",\"blue\",\"blue\",\"blue\",\"blue\",\"blue\",\"blue\",\"blue\",\"blue\",\"blue\",\"blue\",\"blue\",\"blue\",\"blue\",\"blue\",\"blue\",\"blue\",\"blue\",\"blue\",\"blue\",\"blue\",\"blue\",\"blue\",\"blue\",\"blue\",\"blue\",\"blue\",\"blue\",\"blue\",\"blue\",\"blue\",\"blue\",\"blue\",\"blue\",\"blue\",\"blue\",\"blue\",\"blue\",\"blue\",\"blue\",\"blue\",\"blue\",\"blue\",\"blue\",\"blue\",\"blue\",\"blue\",\"blue\",\"blue\",\"blue\",\"blue\",\"blue\",\"blue\",\"blue\",\"blue\",\"blue\",\"blue\",\"blue\",\"blue\",\"blue\",\"blue\",\"blue\",\"blue\",\"blue\",\"blue\",\"blue\",\"blue\",\"blue\",\"blue\",\"blue\",\"blue\",\"blue\",\"blue\",\"blue\",\"blue\",\"blue\",\"blue\",\"blue\",\"blue\",\"blue\",\"blue\",\"blue\",\"blue\",\"blue\",\"blue\",\"blue\",\"blue\",\"blue\",\"blue\",\"blue\",\"blue\",\"blue\",\"blue\",\"blue\",\"blue\",\"blue\",\"blue\",\"blue\",\"blue\",\"blue\",\"blue\",\"blue\",\"blue\",\"blue\",\"blue\",\"blue\",\"blue\",\"blue\",\"blue\",\"blue\",\"blue\",\"blue\",\"blue\",\"blue\",\"blue\",\"blue\",\"blue\",\"blue\",\"blue\",\"blue\",\"blue\",\"blue\",\"blue\",\"blue\",\"blue\",\"blue\",\"blue\",\"blue\",\"blue\",\"blue\",\"blue\",\"blue\",\"blue\",\"blue\",\"blue\",\"blue\",\"blue\",\"blue\",\"blue\",\"blue\",\"blue\",\"blue\",\"blue\",\"blue\",\"blue\",\"blue\",\"blue\",\"blue\",\"blue\",\"blue\",\"blue\",\"blue\",\"blue\",\"blue\",\"blue\",\"blue\",\"blue\",\"blue\",\"blue\",\"blue\",\"blue\",\"blue\",\"blue\",\"blue\",\"blue\",\"blue\",\"blue\",\"blue\",\"blue\",\"blue\",\"blue\",\"blue\",\"blue\",\"blue\",\"blue\",\"blue\",\"blue\",\"blue\",\"blue\",\"blue\",\"blue\",\"blue\",\"blue\",\"blue\",\"blue\",\"blue\",\"blue\",\"blue\",\"blue\",\"blue\",\"blue\",\"blue\",\"blue\",\"blue\",\"blue\",\"blue\",\"blue\",\"blue\",\"blue\",\"blue\",\"blue\",\"blue\",\"blue\",\"blue\",\"blue\",\"blue\",\"blue\",\"blue\",\"blue\",\"blue\",\"blue\",\"blue\",\"blue\",\"blue\",\"blue\",\"blue\",\"blue\",\"blue\",\"blue\",\"blue\",\"blue\",\"blue\",\"blue\",\"blue\",\"blue\",\"blue\",\"blue\",\"blue\",\"blue\",\"blue\",\"blue\",\"blue\",\"blue\",\"blue\",\"blue\",\"blue\",\"blue\",\"blue\",\"blue\",\"blue\",\"blue\",\"blue\",\"blue\",\"blue\",\"blue\",\"blue\",\"blue\",\"blue\",\"blue\",\"blue\",\"blue\",\"blue\",\"blue\",\"blue\",\"blue\",\"blue\",\"blue\",\"blue\",\"blue\",\"blue\",\"blue\",\"blue\",\"blue\",\"blue\",\"blue\",\"blue\",\"blue\",\"blue\",\"blue\",\"blue\",\"blue\",\"blue\",\"blue\",\"blue\",\"blue\",\"blue\",\"blue\",\"blue\",\"blue\",\"blue\",\"blue\",\"blue\",\"blue\",\"blue\",\"blue\",\"blue\",\"blue\",\"blue\",\"blue\",\"blue\",\"blue\",\"blue\",\"blue\",\"blue\",\"blue\",\"blue\",\"blue\",\"blue\",\"blue\",\"blue\",\"blue\",\"blue\",\"blue\",\"blue\",\"blue\",\"blue\",\"blue\",\"blue\",\"blue\",\"blue\",\"blue\",\"blue\",\"blue\",\"blue\",\"blue\",\"blue\",\"blue\",\"blue\",\"blue\",\"blue\",\"blue\",\"blue\",\"blue\",\"blue\",\"blue\",\"blue\",\"blue\",\"blue\",\"blue\",\"blue\",\"blue\",\"blue\",\"blue\",\"blue\",\"blue\",\"blue\",\"blue\",\"blue\",\"blue\",\"blue\",\"blue\",\"blue\",\"blue\",\"blue\",\"blue\",\"blue\",\"blue\",\"blue\",\"blue\",\"blue\",\"blue\",\"blue\",\"blue\",\"blue\",\"blue\",\"blue\",\"blue\",\"blue\",\"blue\",\"blue\",\"blue\",\"blue\",\"blue\",\"blue\",\"blue\",\"blue\",\"blue\",\"blue\",\"blue\",\"blue\",\"blue\",\"blue\",\"blue\",\"blue\",\"blue\",\"blue\",\"blue\",\"blue\",\"blue\",\"blue\",\"blue\",\"blue\",\"blue\",\"blue\",\"blue\",\"blue\",\"blue\",\"blue\",\"blue\",\"blue\",\"blue\",\"blue\",\"blue\",\"blue\",\"blue\",\"blue\",\"blue\",\"blue\",\"blue\",\"blue\",\"blue\",\"blue\",\"blue\",\"blue\",\"blue\",\"blue\",\"blue\",\"blue\",\"blue\",\"blue\",\"blue\",\"blue\",\"blue\",\"blue\",\"blue\",\"blue\",\"blue\",\"blue\",\"blue\",\"blue\",\"blue\",\"blue\",\"blue\",\"blue\",\"blue\",\"blue\",\"blue\",\"blue\",\"blue\",\"blue\",\"blue\",\"blue\",\"blue\",\"blue\",\"blue\",\"blue\",\"blue\",\"blue\",\"blue\",\"blue\",\"blue\",\"blue\",\"blue\",\"blue\",\"blue\",\"blue\",\"blue\",\"blue\",\"blue\",\"blue\",\"blue\",\"blue\",\"blue\",\"blue\",\"blue\",\"blue\",\"blue\",\"blue\",\"blue\",\"blue\",\"blue\",\"blue\",\"blue\",\"blue\",\"blue\",\"blue\",\"blue\",\"blue\",\"blue\",\"blue\",\"blue\",\"blue\",\"blue\",\"blue\",\"blue\",\"blue\",\"blue\",\"blue\",\"blue\",\"blue\",\"blue\",\"blue\",\"blue\",\"blue\",\"blue\",\"blue\",\"blue\",\"blue\",\"blue\",\"blue\",\"blue\",\"blue\",\"blue\",\"blue\",\"blue\",\"blue\",\"blue\",\"blue\",\"blue\",\"blue\",\"blue\",\"blue\",\"blue\",\"blue\",\"blue\",\"blue\",\"blue\",\"blue\",\"blue\",\"blue\",\"blue\",\"blue\",\"blue\",\"blue\",\"blue\",\"blue\",\"blue\",\"blue\",\"blue\",\"blue\",\"blue\",\"blue\",\"blue\",\"blue\",\"blue\",\"blue\",\"blue\",\"blue\",\"blue\",\"blue\",\"blue\",\"blue\",\"blue\",\"blue\",\"blue\",\"blue\",\"blue\",\"blue\",\"blue\",\"blue\",\"blue\",\"blue\",\"blue\",\"blue\",\"blue\",\"blue\",\"blue\",\"blue\",\"blue\",\"blue\",\"blue\",\"blue\",\"blue\",\"blue\",\"blue\",\"blue\",\"blue\",\"blue\",\"blue\",\"blue\",\"blue\",\"blue\",\"blue\",\"blue\",\"blue\",\"blue\",\"blue\",\"blue\",\"blue\",\"blue\",\"blue\",\"blue\",\"blue\",\"blue\",\"blue\",\"blue\",\"blue\",\"blue\",\"blue\",\"blue\",\"blue\",\"blue\",\"blue\",\"blue\",\"blue\",\"blue\",\"blue\",\"blue\",\"blue\",\"blue\",\"blue\",\"blue\",\"blue\",\"blue\",\"blue\",\"blue\",\"blue\",\"blue\",\"blue\",\"blue\",\"blue\",\"blue\",\"blue\",\"blue\",\"blue\",\"blue\",\"blue\",\"blue\",\"blue\",\"blue\",\"blue\",\"blue\",\"blue\",\"blue\",\"blue\",\"blue\",\"blue\",\"blue\",\"blue\",\"blue\",\"blue\",\"blue\",\"blue\",\"blue\",\"blue\",\"blue\",\"blue\",\"blue\",\"blue\",\"blue\",\"blue\",\"blue\",\"blue\",\"blue\",\"blue\",\"blue\",\"blue\",\"blue\",\"blue\",\"blue\",\"blue\",\"blue\",\"blue\",\"blue\",\"blue\",\"blue\",\"blue\",\"blue\",\"blue\",\"blue\",\"blue\",\"blue\",\"blue\",\"blue\",\"blue\",\"blue\",\"blue\",\"blue\",\"blue\",\"blue\",\"blue\",\"blue\",\"blue\",\"blue\",\"blue\",\"blue\",\"blue\",\"blue\",\"blue\",\"blue\",\"blue\",\"blue\",\"blue\",\"blue\",\"blue\",\"blue\",\"blue\",\"blue\",\"blue\",\"blue\",\"blue\",\"blue\",\"blue\",\"blue\",\"blue\",\"blue\",\"blue\",\"blue\",\"blue\",\"blue\",\"blue\",\"blue\",\"blue\",\"blue\",\"blue\",\"blue\",\"blue\",\"blue\",\"blue\",\"blue\",\"blue\",\"blue\",\"blue\",\"blue\",\"blue\",\"blue\",\"blue\",\"blue\",\"blue\",\"blue\",\"blue\",\"blue\",\"blue\",\"blue\",\"blue\",\"blue\",\"blue\",\"blue\",\"blue\",\"blue\",\"blue\",\"blue\",\"blue\",\"blue\",\"blue\",\"blue\",\"blue\",\"blue\",\"blue\",\"blue\",\"blue\",\"blue\",\"blue\",\"blue\",\"blue\",\"blue\",\"blue\",\"blue\",\"blue\",\"blue\",\"blue\",\"blue\",\"blue\",\"blue\",\"blue\",\"blue\",\"blue\",\"blue\",\"blue\",\"blue\",\"blue\",\"blue\",\"blue\",\"blue\",\"blue\",\"blue\",\"blue\",\"blue\",\"blue\",\"blue\",\"blue\",\"blue\",\"blue\",\"blue\",\"blue\",\"blue\",\"blue\",\"blue\",\"blue\",\"blue\",\"blue\",\"blue\",\"blue\",\"blue\",\"blue\",\"blue\",\"blue\",\"blue\",\"blue\",\"blue\",\"blue\",\"blue\",\"blue\",\"blue\",\"blue\",\"blue\",\"blue\",\"blue\",\"blue\",\"blue\",\"blue\",\"blue\",\"blue\",\"blue\",\"blue\",\"blue\",\"blue\",\"blue\",\"blue\",\"blue\",\"blue\",\"blue\",\"blue\",\"blue\",\"blue\",\"blue\",\"blue\",\"blue\",\"blue\",\"blue\",\"blue\",\"blue\",\"blue\",\"blue\",\"blue\",\"blue\",\"blue\",\"blue\",\"blue\",\"blue\",\"blue\",\"blue\",\"blue\",\"blue\",\"blue\",\"blue\",\"blue\",\"blue\",\"blue\",\"blue\",\"blue\",\"blue\",\"blue\",\"blue\",\"blue\",\"blue\",\"blue\",\"blue\",\"blue\",\"blue\",\"blue\",\"blue\",\"blue\",\"blue\",\"blue\",\"blue\",\"blue\",\"blue\",\"blue\",\"blue\",\"blue\",\"blue\",\"blue\",\"blue\",\"blue\",\"blue\",\"blue\",\"blue\",\"blue\",\"blue\",\"blue\",\"blue\",\"blue\",\"blue\",\"blue\",\"blue\",\"blue\",\"blue\",\"blue\",\"blue\",\"blue\",\"blue\",\"blue\",\"blue\",\"blue\",\"blue\",\"blue\",\"blue\",\"blue\",\"blue\",\"blue\",\"blue\",\"blue\",\"blue\",\"blue\",\"blue\",\"blue\",\"blue\",\"blue\",\"blue\",\"blue\",\"blue\",\"blue\",\"blue\",\"blue\",\"blue\",\"blue\",\"blue\",\"blue\",\"blue\",\"blue\",\"blue\",\"blue\",\"blue\",\"blue\",\"blue\",\"blue\",\"blue\",\"blue\",\"blue\",\"blue\",\"blue\",\"blue\",\"blue\",\"blue\",\"blue\",\"blue\",\"blue\",\"blue\",\"blue\",\"blue\",\"blue\",\"blue\",\"blue\",\"blue\",\"blue\",\"blue\",\"blue\",\"blue\",\"blue\",\"blue\",\"blue\",\"blue\",\"blue\",\"blue\",\"blue\",\"blue\",\"blue\",\"blue\",\"blue\",\"blue\",\"blue\",\"blue\",\"blue\",\"blue\",\"blue\",\"blue\",\"blue\",\"blue\",\"blue\",\"blue\",\"blue\",\"blue\",\"blue\",\"blue\",\"blue\",\"blue\",\"blue\",\"blue\",\"blue\",\"blue\",\"blue\",\"blue\",\"blue\",\"blue\",\"blue\",\"blue\",\"blue\",\"blue\",\"blue\",\"blue\",\"blue\",\"blue\",\"blue\",\"blue\",\"blue\",\"blue\",\"blue\",\"blue\",\"blue\",\"blue\",\"blue\",\"blue\",\"blue\",\"blue\",\"blue\",\"blue\",\"blue\",\"blue\",\"blue\",\"blue\",\"blue\",\"blue\",\"blue\",\"blue\",\"blue\",\"blue\",\"blue\",\"blue\",\"blue\",\"blue\",\"blue\",\"blue\",\"blue\",\"blue\",\"blue\",\"blue\",\"blue\",\"blue\",\"blue\",\"blue\",\"blue\",\"blue\",\"blue\",\"blue\",\"blue\",\"blue\",\"blue\",\"blue\",\"blue\",\"blue\",\"blue\",\"blue\",\"blue\",\"blue\",\"blue\",\"blue\",\"blue\",\"blue\",\"blue\",\"blue\",\"blue\",\"blue\",\"blue\",\"blue\",\"blue\",\"blue\",\"blue\",\"blue\",\"blue\",\"blue\",\"blue\",\"blue\",\"blue\",\"blue\",\"blue\",\"blue\",\"blue\",\"blue\",\"blue\",\"blue\",\"blue\",\"blue\",\"blue\",\"blue\",\"blue\",\"blue\",\"blue\",\"blue\",\"blue\",\"blue\",\"blue\",\"blue\",\"blue\",\"blue\",\"blue\",\"blue\",\"blue\",\"blue\",\"blue\",\"blue\",\"blue\",\"blue\",\"blue\",\"blue\",\"blue\",\"blue\",\"blue\",\"blue\",\"blue\",\"blue\",\"blue\",\"blue\",\"blue\",\"blue\",\"blue\",\"blue\",\"blue\",\"blue\",\"blue\",\"blue\",\"blue\",\"blue\",\"blue\",\"blue\",\"blue\",\"blue\",\"blue\",\"blue\",\"blue\",\"blue\",\"blue\",\"blue\",\"blue\",\"blue\",\"blue\",\"blue\",\"blue\",\"blue\",\"blue\",\"blue\",\"blue\",\"blue\",\"blue\",\"blue\",\"blue\",\"blue\",\"blue\",\"blue\",\"blue\",\"blue\",\"blue\",\"blue\",\"blue\",\"blue\",\"blue\",\"blue\",\"blue\",\"blue\",\"blue\",\"blue\",\"blue\",\"blue\",\"blue\",\"blue\",\"blue\",\"blue\",\"blue\",\"blue\",\"blue\",\"blue\",\"blue\",\"blue\",\"blue\",\"blue\",\"blue\",\"blue\",\"blue\",\"blue\",\"blue\",\"blue\",\"blue\",\"blue\",\"blue\",\"blue\",\"blue\",\"blue\",\"blue\",\"blue\",\"blue\",\"blue\",\"blue\",\"blue\",\"blue\",\"blue\",\"blue\",\"blue\",\"blue\",\"blue\",\"blue\",\"blue\",\"blue\",\"blue\",\"blue\",\"blue\",\"blue\",\"blue\",\"blue\",\"blue\",\"blue\",\"blue\",\"blue\",\"blue\",\"blue\",\"blue\",\"blue\",\"blue\",\"blue\",\"blue\",\"blue\",\"blue\",\"blue\",\"blue\",\"blue\",\"blue\",\"blue\",\"blue\",\"blue\",\"blue\",\"blue\",\"blue\",\"blue\",\"blue\",\"blue\",\"blue\",\"blue\",\"blue\",\"blue\",\"blue\",\"blue\",\"blue\",\"blue\",\"blue\",\"blue\",\"blue\",\"blue\",\"blue\",\"blue\",\"blue\",\"blue\",\"blue\",\"blue\",\"blue\",\"blue\",\"blue\",\"blue\",\"blue\",\"blue\",\"blue\",\"blue\",\"blue\",\"blue\",\"blue\",\"blue\",\"blue\",\"blue\",\"blue\",\"blue\",\"blue\",\"blue\",\"blue\",\"blue\",\"blue\",\"blue\",\"blue\",\"blue\",\"blue\",\"blue\",\"blue\",\"blue\",\"blue\",\"blue\",\"blue\",\"blue\",\"blue\",\"blue\",\"blue\",\"blue\",\"blue\",\"blue\",\"blue\",\"blue\",\"blue\",\"blue\",\"blue\",\"blue\",\"blue\",\"blue\",\"blue\",\"blue\",\"blue\",\"blue\",\"blue\",\"blue\",\"blue\",\"blue\",\"blue\",\"blue\",\"blue\",\"blue\",\"blue\",\"blue\",\"blue\",\"blue\",\"blue\",\"blue\",\"blue\",\"blue\",\"blue\",\"blue\",\"blue\",\"blue\",\"blue\",\"blue\",\"blue\",\"blue\",\"blue\",\"blue\",\"blue\",\"blue\",\"blue\",\"blue\",\"blue\",\"blue\",\"blue\",\"blue\",\"blue\",\"blue\",\"blue\",\"blue\",\"blue\",\"blue\",\"blue\",\"blue\",\"blue\",\"blue\",\"blue\",\"blue\",\"blue\",\"blue\",\"blue\",\"blue\",\"blue\",\"blue\",\"blue\",\"blue\",\"blue\",\"blue\",\"blue\",\"blue\",\"blue\",\"blue\",\"blue\",\"blue\",\"blue\",\"blue\",\"blue\",\"blue\",\"blue\",\"blue\",\"blue\",\"blue\",\"blue\",\"blue\",\"blue\",\"blue\",\"blue\",\"blue\",\"blue\",\"blue\",\"blue\",\"blue\",\"blue\",\"blue\",\"blue\",\"blue\",\"blue\",\"blue\",\"blue\",\"blue\",\"blue\",\"blue\",\"blue\",\"blue\",\"blue\",\"blue\",\"blue\",\"blue\",\"blue\",\"blue\",\"blue\",\"blue\",\"blue\",\"blue\",\"blue\",\"blue\",\"blue\",\"blue\",\"blue\",\"blue\",\"blue\",\"blue\",\"blue\",\"blue\",\"blue\",\"blue\",\"blue\",\"blue\",\"blue\",\"blue\",\"blue\",\"blue\",\"blue\",\"blue\",\"blue\",\"blue\",\"blue\",\"blue\",\"blue\",\"blue\",\"blue\",\"blue\",\"blue\",\"blue\",\"blue\",\"blue\",\"blue\",\"blue\",\"blue\",\"blue\",\"blue\",\"blue\",\"blue\",\"blue\",\"blue\",\"blue\",\"blue\",\"blue\",\"blue\",\"blue\",\"blue\",\"blue\",\"blue\",\"blue\",\"blue\",\"blue\",\"blue\",\"blue\",\"blue\",\"blue\",\"blue\",\"blue\",\"blue\",\"blue\",\"blue\",\"blue\",\"blue\",\"blue\",\"blue\",\"blue\",\"blue\",\"blue\",\"blue\",\"blue\",\"blue\",\"blue\",\"blue\",\"blue\",\"blue\",\"blue\",\"blue\",\"blue\",\"blue\",\"blue\",\"blue\",\"blue\",\"blue\",\"blue\",\"blue\",\"blue\",\"blue\",\"blue\",\"blue\",\"blue\",\"blue\",\"blue\",\"blue\",\"blue\",\"blue\",\"blue\",\"blue\",\"blue\",\"blue\",\"blue\",\"blue\",\"blue\",\"blue\",\"blue\",\"blue\",\"blue\",\"blue\",\"blue\",\"blue\",\"blue\",\"blue\",\"blue\",\"blue\",\"blue\",\"blue\",\"blue\",\"blue\",\"blue\",\"blue\",\"blue\",\"blue\",\"blue\",\"blue\",\"blue\",\"blue\",\"blue\",\"blue\",\"blue\",\"blue\",\"blue\",\"blue\",\"blue\",\"blue\",\"blue\",\"blue\",\"blue\",\"blue\",\"blue\",\"blue\",\"blue\",\"blue\",\"blue\",\"blue\",\"blue\",\"blue\",\"blue\",\"blue\",\"blue\",\"blue\",\"blue\",\"blue\",\"blue\",\"blue\",\"blue\",\"blue\",\"blue\",\"blue\",\"blue\",\"blue\",\"blue\",\"blue\",\"blue\",\"blue\",\"blue\",\"blue\",\"blue\",\"blue\",\"blue\",\"blue\",\"blue\",\"blue\",\"blue\",\"blue\",\"blue\",\"blue\",\"blue\",\"blue\",\"blue\",\"blue\",\"blue\",\"blue\",\"blue\",\"blue\",\"blue\",\"blue\",\"blue\",\"blue\",\"blue\",\"blue\",\"blue\",\"blue\",\"blue\",\"blue\",\"blue\",\"blue\",\"blue\",\"blue\",\"blue\",\"blue\",\"blue\",\"blue\",\"blue\",\"blue\",\"blue\",\"blue\",\"blue\",\"blue\",\"blue\",\"blue\",\"blue\",\"blue\",\"blue\",\"blue\",\"blue\",\"blue\",\"blue\",\"blue\",\"blue\",\"blue\",\"blue\",\"blue\",\"blue\",\"blue\",\"blue\",\"blue\",\"blue\",\"blue\",\"blue\",\"blue\",\"blue\",\"blue\",\"blue\",\"blue\",\"blue\",\"blue\",\"blue\",\"blue\",\"blue\",\"blue\",\"blue\",\"blue\",\"blue\",\"blue\",\"blue\",\"blue\",\"blue\",\"blue\",\"blue\",\"blue\",\"blue\",\"blue\",\"blue\",\"blue\",\"blue\",\"blue\",\"blue\",\"blue\",\"blue\",\"blue\",\"blue\",\"blue\",\"blue\",\"blue\",\"blue\",\"blue\",\"blue\",\"blue\",\"blue\",\"blue\",\"blue\",\"blue\",\"blue\",\"blue\",\"blue\",\"blue\",\"blue\",\"blue\",\"blue\",\"blue\",\"blue\",\"blue\",\"blue\",\"blue\",\"blue\",\"blue\",\"blue\",\"blue\",\"blue\",\"blue\",\"blue\",\"blue\",\"blue\",\"blue\",\"blue\",\"blue\",\"blue\",\"blue\",\"blue\",\"blue\",\"blue\",\"blue\",\"blue\",\"blue\",\"blue\",\"blue\",\"blue\",\"blue\",\"blue\",\"blue\",\"blue\",\"blue\",\"blue\",\"blue\",\"blue\",\"blue\",\"blue\",\"blue\",\"blue\",\"blue\",\"blue\",\"blue\",\"blue\",\"blue\",\"blue\",\"blue\",\"blue\",\"blue\",\"blue\",\"blue\",\"blue\",\"blue\",\"blue\",\"blue\",\"blue\",\"blue\",\"blue\",\"blue\",\"blue\",\"blue\",\"blue\",\"blue\",\"blue\",\"blue\",\"blue\",\"blue\",\"blue\",\"blue\",\"blue\",\"blue\",\"blue\",\"blue\",\"blue\",\"blue\",\"blue\",\"blue\",\"blue\",\"blue\",\"blue\",\"blue\",\"blue\",\"blue\",\"blue\",\"blue\",\"blue\",\"blue\",\"blue\",\"blue\",\"blue\",\"blue\",\"blue\",\"blue\",\"blue\",\"blue\",\"blue\",\"blue\",\"blue\",\"blue\",\"blue\",\"blue\",\"blue\",\"blue\",\"blue\",\"blue\",\"blue\",\"blue\",\"blue\",\"blue\",\"blue\",\"blue\",\"blue\",\"blue\",\"blue\",\"blue\",\"blue\",\"blue\",\"blue\",\"blue\",\"blue\",\"blue\",\"blue\",\"blue\",\"blue\",\"blue\",\"blue\",\"blue\",\"blue\",\"blue\",\"blue\",\"blue\",\"blue\",\"blue\",\"blue\",\"blue\",\"blue\",\"blue\",\"blue\",\"blue\",\"blue\",\"blue\",\"blue\",\"blue\",\"blue\",\"blue\",\"blue\",\"blue\",\"blue\",\"blue\",\"blue\",\"blue\",\"blue\",\"blue\",\"blue\",\"blue\",\"blue\",\"blue\",\"blue\",\"blue\",\"blue\",\"blue\",\"blue\",\"blue\",\"blue\",\"blue\",\"blue\",\"blue\",\"blue\",\"blue\",\"blue\",\"blue\",\"blue\",\"blue\",\"blue\",\"blue\",\"blue\",\"blue\",\"blue\",\"blue\",\"blue\",\"blue\",\"blue\",\"blue\",\"blue\",\"blue\",\"blue\",\"blue\",\"blue\",\"blue\",\"blue\",\"blue\",\"blue\",\"blue\",\"blue\",\"blue\",\"blue\",\"blue\",\"blue\",\"blue\",\"blue\",\"blue\",\"blue\",\"blue\",\"blue\",\"blue\",\"blue\",\"blue\",\"blue\",\"blue\",\"blue\",\"blue\",\"blue\",\"blue\",\"blue\",\"blue\",\"blue\",\"blue\",\"blue\",\"blue\",\"blue\",\"blue\",\"blue\",\"blue\",\"blue\",\"blue\",\"blue\",\"blue\",\"blue\",\"blue\",\"blue\",\"blue\",\"blue\",\"blue\",\"blue\",\"blue\",\"blue\",\"blue\",\"blue\",\"blue\",\"blue\",\"blue\",\"blue\",\"blue\",\"blue\",\"blue\",\"blue\",\"blue\",\"blue\",\"blue\",\"blue\",\"blue\",\"blue\",\"blue\",\"blue\",\"blue\",\"blue\",\"blue\",\"blue\",\"blue\",\"blue\",\"blue\",\"blue\",\"blue\",\"blue\",\"blue\",\"blue\",\"blue\",\"blue\",\"blue\",\"blue\",\"blue\",\"blue\",\"blue\",\"blue\",\"blue\",\"blue\",\"blue\",\"blue\",\"blue\",\"blue\",\"blue\",\"blue\",\"blue\",\"blue\",\"blue\",\"blue\",\"blue\",\"blue\",\"blue\",\"blue\",\"blue\",\"blue\",\"blue\",\"blue\",\"blue\",\"blue\",\"blue\",\"blue\",\"blue\",\"blue\",\"blue\",\"blue\",\"blue\",\"blue\",\"blue\",\"blue\",\"blue\",\"blue\",\"blue\",\"blue\",\"blue\",\"blue\",\"blue\",\"blue\",\"blue\",\"blue\",\"blue\",\"blue\",\"blue\",\"blue\",\"blue\",\"blue\",\"blue\",\"blue\",\"blue\",\"blue\",\"blue\",\"blue\",\"blue\",\"blue\",\"blue\",\"blue\",\"blue\",\"blue\",\"blue\",\"blue\",\"blue\",\"blue\",\"blue\",\"blue\",\"blue\",\"blue\",\"blue\",\"blue\",\"blue\",\"blue\",\"blue\",\"blue\",\"blue\",\"blue\",\"blue\",\"blue\",\"blue\",\"blue\",\"blue\",\"blue\",\"blue\",\"blue\",\"blue\",\"blue\",\"blue\",\"blue\",\"blue\",\"blue\",\"blue\",\"blue\",\"blue\",\"blue\",\"blue\",\"blue\",\"blue\",\"blue\",\"blue\",\"blue\",\"blue\",\"blue\",\"blue\",\"blue\",\"blue\",\"blue\",\"blue\",\"blue\",\"blue\",\"blue\",\"blue\",\"blue\",\"blue\",\"blue\",\"blue\",\"blue\",\"blue\",\"blue\",\"blue\",\"blue\",\"blue\",\"blue\",\"blue\",\"blue\",\"blue\",\"blue\",\"blue\",\"blue\",\"blue\",\"blue\",\"blue\",\"blue\",\"blue\",\"blue\",\"blue\",\"blue\",\"blue\",\"blue\",\"blue\",\"blue\",\"blue\",\"blue\",\"blue\",\"blue\",\"blue\",\"blue\",\"blue\",\"blue\",\"blue\",\"blue\",\"blue\",\"blue\",\"blue\",\"blue\",\"blue\",\"blue\",\"blue\",\"blue\",\"blue\",\"blue\",\"blue\",\"blue\",\"blue\",\"blue\",\"blue\",\"blue\",\"blue\",\"blue\",\"blue\",\"blue\",\"blue\",\"blue\",\"blue\",\"blue\",\"blue\",\"blue\",\"blue\",\"blue\",\"blue\",\"blue\",\"blue\",\"blue\",\"blue\",\"blue\",\"blue\",\"blue\",\"blue\",\"blue\",\"blue\",\"blue\",\"blue\",\"blue\",\"blue\",\"blue\",\"blue\",\"blue\",\"blue\",\"blue\",\"blue\",\"blue\",\"blue\",\"blue\",\"blue\",\"blue\",\"blue\",\"blue\",\"blue\",\"blue\",\"blue\",\"blue\",\"blue\",\"blue\",\"blue\",\"blue\",\"blue\",\"blue\",\"blue\",\"blue\",\"blue\",\"blue\",\"blue\",\"blue\",\"blue\",\"blue\",\"blue\",\"blue\",\"blue\",\"blue\",\"blue\",\"blue\",\"blue\",\"blue\",\"blue\",\"blue\",\"blue\",\"blue\",\"blue\",\"blue\",\"blue\",\"blue\",\"blue\",\"blue\",\"blue\",\"blue\",\"blue\",\"blue\",\"blue\",\"blue\",\"blue\",\"blue\",\"blue\",\"blue\",\"blue\",\"blue\",\"blue\",\"blue\",\"blue\",\"blue\",\"blue\",\"blue\",\"blue\",\"blue\",\"blue\",\"blue\",\"blue\",\"blue\",\"blue\",\"blue\",\"blue\",\"blue\",\"blue\",\"blue\",\"blue\",\"blue\",\"blue\"]],[\"token\",[\"verified\",\"2gb\",\"illinois\",\"jazz\",\"checking\",\"telescope\",\"seasons\",\"astrologer\",\"contribution\",\"homemade\",\"heroes\",\"warcraft\",\"kumar\",\"tester\",\"politically\",\"conquer\",\"columbia\",\"quiet\",\"repeat\",\"kapil\",\"involve\",\"mckinsey\",\"switched\",\"att\",\"instance\",\"innocent\",\"portuguese\",\"subscribers\",\"cabinet\",\"terror\",\"85\",\"rotation\",\"shirts\",\"drawn\",\"bi\",\"aspergers\",\"inspiration\",\"beats\",\"\\u00a3\",\"approximately\",\"asset\",\"empathy\",\"rooting\",\"ia\",\"dandruff\",\"slab\",\"operator\",\"horrible\",\"dominant\",\"ocd\",\"spacetime\",\"blow\",\"installing\",\"learnt\",\"separation\",\"institution\",\"temples\",\"hons\",\"pound\",\"removing\",\"unemployment\",\"greenlit\",\"audit\",\"supplement\",\"roller\",\"dota\",\"tiny\",\"equally\",\"braces\",\"aggressive\",\"corn\",\"camps\",\"additional\",\"consent\",\"granted\",\"welfare\",\"myths\",\"stations\",\"timeline\",\"psychologist\",\"nagpur\",\"herself\",\"cooper\",\"exgirlfriend\",\"intercourse\",\"flip\",\"hurts\",\"lpa\",\"nerve\",\"tvs\",\"halloween\",\"screenshot\",\"biomedical\",\"covered\",\"milky\",\"onsite\",\"aside\",\"meaningful\",\"stretch\",\"joker\",\"encounter\",\"tone\",\"founders\",\"talked\",\"respectively\",\"downloads\",\"cocaine\",\"toxic\",\"sword\",\"fuck\",\"trainer\",\"partition\",\"boxing\",\"grid\",\"practicing\",\"menu\",\"cms\",\"indore\",\"ate\",\"volunteer\",\"misconceptions\",\"pics\",\"flies\",\"instantly\",\"trans\",\"friday\",\"sociopaths\",\"ctc\",\"hoax\",\"detailed\",\"sizes\",\"rejection\",\"limitations\",\"bharat\",\"kissing\",\"renewable\",\"oriented\",\"countrys\",\"dumps\",\"spiders\",\"technological\",\"advertisement\",\"headache\",\"zodiac\",\"accommodation\",\"venus\",\"calcium\",\"passenger\",\"falls\",\"overnight\",\"pickup\",\"gary\",\"transportation\",\"odds\",\"jupiter\",\"purchasing\",\"fluently\",\"flu\",\"photons\",\"conductor\",\"ohio\",\"balaji\",\"mcdonalds\",\"betting\",\"irrational\",\"sachin\",\"deactivate\",\"estimate\",\"hairs\",\"fluent\",\"errors\",\"remaining\",\"marriages\",\"medieval\",\"charles\",\"spider\",\"oxford\",\"gita\",\"races\",\"liquor\",\"poland\",\"lease\",\"co2\",\"selenium\",\"attempts\",\"crystal\",\"manaphy\",\"knight\",\"collapsed\",\"wheels\",\"behaviour\",\"bitcoins\",\"parliament\",\"himher\",\"handsome\",\"thousands\",\"caring\",\"kings\",\"lucky\",\"workplace\",\"condom\",\"intuitive\",\"chronic\",\"eyesight\",\"simulation\",\"prank\",\"quickest\",\"concert\",\"popularity\",\"connections\",\"disorders\",\"scripting\",\"appearance\",\"js\",\"depth\",\"cheque\",\"longterm\",\"documentaries\",\"dioxide\",\"bright\",\"info\",\"diseases\",\"appeal\",\"snap\",\"smoked\",\"singers\",\"boil\",\"probably\",\"temperatures\",\"appearing\",\"olive\",\"ntse\",\"telecom\",\"brief\",\"discrimination\",\"ethnic\",\"cache\",\"passionate\",\"shoulder\",\"assault\",\"marshmallow\",\"momentum\",\"yr\",\"migrate\",\"retire\",\"cet\",\"canvas\",\"vietnamese\",\"institutions\",\"meter\",\"roots\",\"integer\",\"imported\",\"ants\",\"lyft\",\"piercing\",\"il\",\"poop\",\"organisms\",\"ve\",\"entropy\",\"calm\",\"saddest\",\"toward\",\"myth\",\"sight\",\"filling\",\"hdmi\",\"satisfied\",\"transactions\",\"pharmacy\",\"nursing\",\"correlation\",\"regression\",\"awake\",\"md\",\"nri\",\"recommendations\",\"bin\",\"finland\",\"multi\",\"voted\",\"discovery\",\"edward\",\"touching\",\"immigrant\",\"geometry\",\"indicate\",\"ourselves\",\"texting\",\"seek\",\"expecting\",\"dj\",\"brake\",\"helicopter\",\"blonde\",\"triple\",\"ladies\",\"vivekananda\",\"switching\",\"prostitution\",\"banana\",\"magazines\",\"shippuden\",\"lucknow\",\"2019\",\"failing\",\"elizabeth\",\"irish\",\"ebook\",\"temporary\",\"governor\",\"wasting\",\"weekends\",\"cpt\",\"wax\",\"labor\",\"instruments\",\"instrumentation\",\"hates\",\"hip\",\"arnab\",\"bubble\",\"employers\",\"aadhaar\",\"boyfriends\",\"jake\",\"explained\",\"yesterday\",\"beta\",\"extrovert\",\"andhra\",\"micromax\",\"vertical\",\"lay\",\"nonprofit\",\"dubbed\",\"typing\",\"automotive\",\"thomas\",\"procedures\",\"priority\",\"funded\",\"arabs\",\"siblings\",\"guinea\",\"missile\",\"luck\",\"strategic\",\"defend\",\"module\",\"tuition\",\"acids\",\"controller\",\"committee\",\"housing\",\"integral\",\"peaceful\",\"refugees\",\"prescription\",\"interns\",\"supported\",\"womans\",\"dentist\",\"wives\",\"village\",\"affecting\",\"lte\",\"beaches\",\"austin\",\"substance\",\"engagement\",\"trainee\",\"measures\",\"trailer\",\"purchased\",\"15000\",\"uttar\",\"glue\",\"dtu\",\"medal\",\"photon\",\"engg\",\"violin\",\"column\",\"somehow\",\"rotate\",\"3000\",\"virat\",\"forgotten\",\"fingers\",\"slim\",\"arrest\",\"covalent\",\"ncert\",\"kernel\",\"da\",\"alarm\",\"ngo\",\"4gb\",\"productivity\",\"planned\",\"district\",\"berlin\",\"lists\",\"leads\",\"slang\",\"defence\",\"aspiring\",\"56\",\"enemy\",\"farming\",\"muller\",\"pays\",\"liver\",\"membrane\",\"secretly\",\"plug\",\"gum\",\"eclipse\",\"chewing\",\"labs\",\"zombie\",\"authority\",\"males\",\"argentina\",\"tasks\",\"fell\",\"nails\",\"palestine\",\"tanks\",\"identical\",\"deck\",\"qualification\",\"leadership\",\"kohli\",\"pronunciation\",\"hello\",\"violent\",\"sabha\",\"respiration\",\"transform\",\"warranty\",\"faculty\",\"adolf\",\"expenses\",\"jersey\",\"mercury\",\"whiskey\",\"tackle\",\"tweet\",\"blame\",\"cruise\",\"mahindra\",\"discharge\",\"reduced\",\"vodka\",\"mahatma\",\"bass\",\"compete\",\"stains\",\"pill\",\"swim\",\"ali\",\"gf\",\"ford\",\"prince\",\"sweat\",\"performing\",\"limits\",\"leonardo\",\"cow\",\"resolve\",\"matters\",\"pharmaceutical\",\"ray\",\"remotely\",\"pf\",\"clinical\",\"bpo\",\"homeless\",\"husbands\",\"rising\",\"newtons\",\"outcome\",\"derivative\",\"alpha\",\"grown\",\"capitalism\",\"astronaut\",\"hybrid\",\"palm\",\"teens\",\"hits\",\"airplanes\",\"none\",\"admin\",\"applicable\",\"amcat\",\"spam\",\"neutrality\",\"pixel\",\"festival\",\"faces\",\"molar\",\"snakes\",\"sip\",\"kik\",\"farm\",\"ltd\",\"votes\",\"publishing\",\"comfort\",\"frontend\",\"spin\",\"diagnosed\",\"buildings\",\"\\u00b0\",\"cashless\",\"addictive\",\"extinct\",\"ugc\",\"coke\",\"llb\",\"phrases\",\"struggle\",\"drives\",\"fiber\",\"grocery\",\"achieved\",\"penny\",\"bath\",\"allies\",\"uninstall\",\"ny\",\"appears\",\"effort\",\"satellites\",\"confirmed\",\"loneliness\",\"illuminati\",\"uri\",\"lucid\",\"preferably\",\"neither\",\"\\u221a\",\"pacific\",\"americas\",\"bs\",\"graduated\",\"bills\",\"tube\",\"germans\",\"assume\",\"cleared\",\"mate\",\"divide\",\"versions\",\"fallen\",\"journey\",\"anthem\",\"certificates\",\"looked\",\"sponsor\",\"useless\",\"dependent\",\"invite\",\"guru\",\"keyword\",\"aipmt\",\"clone\",\"kgs\",\"chip\",\"origins\",\"wide\",\"motivational\",\"elite\",\"wanna\",\"unity\",\"cough\",\"connecting\",\"mystery\",\"kim\",\"syrian\",\"voldemort\",\"responsibilities\",\"molecules\",\"boobs\",\"holidays\",\"tutorial\",\"circumstances\",\"fiitjee\",\"islands\",\"bypass\",\"slowly\",\"mixture\",\"aluminum\",\"salesforce\",\"twin\",\"iot\",\"remedy\",\"sheets\",\"pole\",\"hated\",\"females\",\"protected\",\"irs\",\"insecure\",\"entering\",\"neuroscience\",\"offices\",\"delta\",\"suggestion\",\"snapdeal\",\"backstory\",\"periodic\",\"cancelled\",\"mans\",\"complicated\",\"bitsat\",\"pleasure\",\"loop\",\"dropbox\",\"selfish\",\"nude\",\"20000\",\"voter\",\"variables\",\"victory\",\"closest\",\"compensation\",\"extended\",\"locations\",\"cracked\",\"perks\",\"ended\",\"exit\",\"awareness\",\"pakistanis\",\"ebooks\",\"bull\",\"unblock\",\"100000\",\"entrepreneurship\",\"infrastructure\",\"scotland\",\"guest\",\"attacked\",\"hurting\",\"lion\",\"reject\",\"purposes\",\"knife\",\"thai\",\"ipl\",\"knee\",\"accepting\",\"spent\",\"punjabi\",\"tab\",\"quoras\",\"caffeine\",\"athletes\",\"ink\",\"cooked\",\"improving\",\"invaded\",\"allah\",\"thermodynamics\",\"mortgage\",\"firsttime\",\"achievements\",\"issued\",\"breath\",\"award\",\"llc\",\"legends\",\"mood\",\"influenced\",\"proteins\",\"holy\",\"performed\",\"pee\",\"blocks\",\"molecule\",\"interests\",\"imei\",\"requires\",\"cisco\",\"moves\",\"marrying\",\"mca\",\"perfectly\",\"iisc\",\"corporation\",\"shiva\",\"viruses\",\"difficulty\",\"50000\",\"volte\",\"shampoo\",\"secular\",\"transplant\",\"ghz\",\"ahead\",\"crew\",\"interact\",\"depend\",\"hawaii\",\"hiv\",\"evening\",\"vegetable\",\"revenge\",\"suppose\",\"busy\",\"label\",\"rogue\",\"rational\",\"hillstation\",\"brains\",\"urdu\",\"imagine\",\"salaries\",\"survey\",\"g4\",\"butt\",\"manufacturers\",\"saas\",\"residency\",\"recommendation\",\"purple\",\"fault\",\"aadhar\",\"aging\",\"bhopal\",\"conducted\",\"loses\",\"infection\",\"forest\",\"impacts\",\"collection\",\"fridge\",\"diamond\",\"mis\",\"recorded\",\"march\",\"conditioner\",\"signature\",\"listed\",\"branches\",\"manchester\",\"wanting\",\"perception\",\"absolutely\",\"servers\",\"soluble\",\"swami\",\"lumia\",\"directors\",\"52\",\"2008\",\"gaining\",\"stereotypes\",\"homes\",\"vegas\",\"jam\",\"behave\",\"relatively\",\"forum\",\"ib\",\"earphones\",\"facilities\",\"april\",\"finally\",\"tail\",\"capacitor\",\"tiger\",\"deaf\",\"deliver\",\"django\",\"expand\",\"skip\",\"nearly\",\"maybe\",\"task\",\"gateway\",\"strangest\",\"abstract\",\"adding\",\"suck\",\"tim\",\"printed\",\"sigma\",\"immigrate\",\"decline\",\"arrested\",\"95\",\"narcissistic\",\"freelancing\",\"patterns\",\"expired\",\"casual\",\"tablets\",\"patients\",\"lean\",\"pieces\",\"laymans\",\"whatever\",\"polish\",\"lemon\",\"abortion\",\"i3\",\"theorem\",\"h\",\"compulsory\",\"helped\",\"sons\",\"feminism\",\"compiler\",\"tested\",\"enhance\",\"adhd\",\"manhattan\",\"iii\",\"nail\",\"eee\",\"deals\",\"excellent\",\"ipo\",\"folder\",\"sand\",\"continuous\",\"capable\",\"libraries\",\"aggregate\",\"64\",\"bsnl\",\"profiles\",\"spirit\",\"pulled\",\"owns\",\"deloitte\",\"therapist\",\"acts\",\"millions\",\"authors\",\"marathi\",\"dvd\",\"coconut\",\"swiss\",\"interaction\",\"ncr\",\"kannada\",\"smallest\",\"advisable\",\"smartest\",\"sorry\",\"normally\",\"ends\",\"rome\",\"spectrum\",\"cousin\",\"75\",\"suzuki\",\"nights\",\"cap\",\"enable\",\"counselling\",\"proxy\",\"margin\",\"shops\",\"hackers\",\"tatkal\",\"opened\",\"cinema\",\"consumption\",\"coal\",\"silent\",\"choosing\",\"introduction\",\"electromagnetic\",\"hcl\",\"complaint\",\"puppies\",\"vc\",\"symbols\",\"lenses\",\"username\",\"arrow\",\"adopted\",\"affects\",\"sudden\",\"pcm\",\"gel\",\"affair\",\"pinterest\",\"statements\",\"supplements\",\"justified\",\"turns\",\"santa\",\"shoe\",\"trek\",\"headphone\",\"girlfriends\",\"verizon\",\"rocket\",\"conference\",\"ego\",\"srm\",\"afghanistan\",\"nucleus\",\"generated\",\"chinas\",\"ww1\",\"consultancy\",\"socially\",\"allen\",\"berkeley\",\"missed\",\"crying\",\"introduced\",\"ps3\",\"flour\",\"brought\",\"elder\",\"minecraft\",\"9th\",\"freelancer\",\"circles\",\"scars\",\"entertainment\",\"turbine\",\"deeply\",\"rom\",\"evolved\",\"nato\",\"strengths\",\"ide\",\"tweets\",\"scholarships\",\"mentor\",\"collect\",\"hdfc\",\"mandarin\",\"solo\",\"terrible\",\"influential\",\"professionals\",\"65\",\"recognition\",\"nvidia\",\"cia\",\"designs\",\"10k\",\"creation\",\"tom\",\"rated\",\"introverts\",\"boiling\",\"communism\",\"treaty\",\"whereas\",\"thanks\",\"cigarette\",\"bengaluru\",\"oneplus\",\"reserve\",\"advertise\",\"nits\",\"helping\",\"bruce\",\"mp3\",\"severe\",\"proposal\",\"cultures\",\"tap\",\"animated\",\"planes\",\"hall\",\"cognitive\",\"supports\",\"keys\",\"gotten\",\"feedback\",\"recording\",\"proceed\",\"membership\",\"console\",\"overseas\",\"hows\",\"william\",\"billionaires\",\"updated\",\"pre\",\"organizations\",\"messi\",\"unexpected\",\"nitrogen\",\"hungry\",\"nigeria\",\"sync\",\"arduino\",\"gross\",\"outer\",\"searching\",\"workers\",\"outlook\",\"europeans\",\"founder\",\"lectures\",\"legitimate\",\"camp\",\"ordinary\",\"investments\",\"bone\",\"raising\",\"quite\",\"ages\",\"joint\",\"johnson\",\"destination\",\"concerned\",\"belief\",\"refrigerator\",\"implications\",\"manga\",\"mandatory\",\"obamas\",\"lawyers\",\"bedroom\",\"icon\",\"qualifications\",\"qa\",\"bikes\",\"boston\",\"holding\",\"session\",\"appointment\",\"weaknesses\",\"iphones\",\"motorcycle\",\"schizophrenia\",\"5th\",\"intellectual\",\"eaten\",\"attending\",\"medals\",\"adsense\",\"nda\",\"6th\",\"kali\",\"georgia\",\"wechat\",\"earlier\",\"drone\",\"truck\",\"horse\",\"merchant\",\"torque\",\"seed\",\"backend\",\"holmes\",\"graduating\",\"400\",\"bones\",\"sufficient\",\"participate\",\"rifle\",\"shock\",\"downloaded\",\"earthquake\",\"breasts\",\"secretary\",\"insert\",\"damaged\",\"massive\",\"standing\",\"remainder\",\"programme\",\"holocaust\",\"totally\",\"belt\",\"affairs\",\"nokia\",\"mechanism\",\"pin\",\"scan\",\"fought\",\"superpower\",\"poetry\",\"signals\",\"educated\",\"scariest\",\"trains\",\"closer\",\"weapon\",\"icici\",\"serial\",\"bicycle\",\"terminal\",\"finished\",\"stolen\",\"inspiring\",\"cuisine\",\"spark\",\"sounds\",\"pricing\",\"click\",\"underwear\",\"kidney\",\"bengal\",\"invention\",\"discount\",\"chase\",\"evaluate\",\"distributed\",\"themes\",\"amd\",\"stem\",\"st\",\"genre\",\"vegetables\",\"council\",\"bihar\",\"thick\",\"mouse\",\"worry\",\"newly\",\"updates\",\"candy\",\"prepaid\",\"wet\",\"rap\",\"motors\",\"implemented\",\"theoretical\",\"fabric\",\"mexican\",\"portfolio\",\"technique\",\"icse\",\"expansion\",\"evolutionary\",\"justify\",\"trick\",\"attached\",\"lightning\",\"pitch\",\"armed\",\"einstein\",\"conversion\",\"iitjee\",\"declared\",\"admit\",\"acquisition\",\"innovation\",\"runs\",\"wwe\",\"trial\",\"memories\",\"refuse\",\"netherlands\",\"committed\",\"fraud\",\"jailbreak\",\"settle\",\"badly\",\"approved\",\"eligibility\",\"trend\",\"increases\",\"comic\",\"quorans\",\"cellular\",\"matches\",\"receiving\",\"bmw\",\"vlsi\",\"signed\",\"lakes\",\"350\",\"communications\",\"pork\",\"joined\",\"anyway\",\"differentiate\",\"actresses\",\"29\",\"ethics\",\"premier\",\"hearing\",\"vehicles\",\"drama\",\"instant\",\"lips\",\"dates\",\"july\",\"holiday\",\"coach\",\"malayalam\",\"superior\",\"soviet\",\"plate\",\"throw\",\"worship\",\"bars\",\"sharma\",\"mothers\",\"integrated\",\"clubs\",\"bug\",\"melbourne\",\"co\",\"bisexual\",\"regions\",\"lesson\",\"heads\",\"reader\",\"snake\",\"qualify\",\"paul\",\"causing\",\"disappear\",\"era\",\"lets\",\"qualified\",\"spiritual\",\"wolf\",\"requirement\",\"journalism\",\"studied\",\"lowest\",\"vader\",\"coursera\",\"stark\",\"configuration\",\"verbal\",\"undergrad\",\"dimensions\",\"transition\",\"efficiently\",\"interstellar\",\"locked\",\"summary\",\"chandigarh\",\"ghosts\",\"included\",\"operate\",\"dimension\",\"mount\",\"noticed\",\"rating\",\"somewhere\",\"martin\",\"bra\",\"bird\",\"zuckerberg\",\"sensor\",\"audience\",\"dirty\",\"starbucks\",\"permission\",\"residential\",\"wholesale\",\"assets\",\"clearly\",\"km\",\"invade\",\"ipcc\",\"fb\",\"shell\",\"shave\",\"loud\",\"tip\",\"seeds\",\"sets\",\"polar\",\"although\",\"june\",\"judaism\",\"anti\",\"instrument\",\"seven\",\"shooting\",\"j\",\"portal\",\"tower\",\"github\",\"linked\",\"admitted\",\"punishment\",\"mid\",\"micro\",\"cured\",\"lifestyle\",\"nor\",\"upset\",\"challenge\",\"soap\",\"standards\",\"integration\",\"lottery\",\"lab\",\"williams\",\"odd\",\"soil\",\"sensitive\",\"route\",\"tattoos\",\"coin\",\"declare\",\"frame\",\"differential\",\"bowl\",\"softwares\",\"notifications\",\"maintenance\",\"inner\",\"apples\",\"converted\",\"recruiter\",\"bombay\",\"command\",\"posting\",\"controlled\",\"balls\",\"personally\",\"poker\",\"extract\",\"hired\",\"bugs\",\"providers\",\"loans\",\"calculator\",\"attractions\",\"torrents\",\"keywords\",\"profession\",\"blogging\",\"transport\",\"sue\",\"anonymously\",\"compounds\",\"robot\",\"buddhism\",\"sweet\",\"defense\",\"nobody\",\"uc\",\"defined\",\"division\",\"bags\",\"epic\",\"unhealthy\",\"craziest\",\"urban\",\"combination\",\"pair\",\"laugh\",\"cv\",\"usd\",\"launched\",\"usps\",\"visited\",\"nexus\",\"regularly\",\"brothers\",\"broker\",\"concentrate\",\"agreement\",\"nervous\",\"frozen\",\"detail\",\"sir\",\"situations\",\"borderline\",\"angularjs\",\"abusive\",\"tourism\",\"relate\",\"august\",\"communist\",\"accountant\",\"dumb\",\"arab\",\"b2b\",\"du\",\"thermal\",\"asians\",\"threat\",\"karma\",\"passive\",\"homosexuality\",\"putting\",\"quantitative\",\"relativity\",\"sanskrit\",\"opinions\",\"verify\",\"bear\",\"roll\",\"expanding\",\"teenage\",\"jeans\",\"providing\",\"shared\",\"extreme\",\"mi\",\"vr\",\"progress\",\"greece\",\"cpu\",\"ips\",\"merge\",\"reputation\",\"loving\",\"salman\",\"iss\",\"warm\",\"dental\",\"extension\",\"attraction\",\"fictional\",\"journal\",\"login\",\"secondary\",\"recognize\",\"southern\",\"ph\",\"lunch\",\"wallet\",\"ronaldo\",\"larger\",\"actions\",\"fathers\",\"adopt\",\"claims\",\"bottom\",\"therapy\",\"patient\",\"described\",\"virginity\",\"functional\",\"ionic\",\"chartered\",\"discover\",\"55\",\"21st\",\"biased\",\"mad\",\"northern\",\"onto\",\"liberals\",\"premium\",\"neutral\",\"detect\",\"diagram\",\"sperm\",\"ga\",\"bleach\",\"spread\",\"contributions\",\"activate\",\"prior\",\"safest\",\"holder\",\"360\",\"aim\",\"rental\",\"families\",\"everybody\",\"shut\",\"payments\",\"150\",\"cube\",\"vegan\",\"newspaper\",\"beef\",\"houses\",\"preferred\",\"simultaneously\",\"marked\",\"reactions\",\"emergency\",\"protection\",\"cab\",\"forex\",\"norway\",\"immigrants\",\"googles\",\"ssb\",\"wing\",\"yrs\",\"ensure\",\"spy\",\"reasoning\",\"strange\",\"forgive\",\"turkish\",\"tag\",\"ranking\",\"platforms\",\"fox\",\"existed\",\"walmart\",\"lazy\",\"ears\",\"clock\",\"beam\",\"rare\",\"bush\",\"2011\",\"stops\",\"batteries\",\"certified\",\"naked\",\"worldwide\",\"staying\",\"lifetime\",\"ted\",\"lake\",\"wealthy\",\"transit\",\"stephen\",\"rural\",\"versa\",\"pets\",\"commonly\",\"adults\",\"ultimate\",\"genius\",\"vinegar\",\"allows\",\"aid\",\"retirement\",\"airtel\",\"sciences\",\"mountain\",\"drinks\",\"tour\",\"wind\",\"seattle\",\"disabled\",\"bodies\",\"lesbian\",\"governments\",\"kinetic\",\"tumblr\",\"absolute\",\"author\",\"toilet\",\"whey\",\"sleepy\",\"molecular\",\"watches\",\"inventions\",\"rain\",\"34\",\"angular\",\"o\",\"dish\",\"however\",\"agents\",\"abs\",\"switzerland\",\"transformer\",\"clearing\",\"consciousness\",\"broadband\",\"uae\",\"automatic\",\"opposed\",\"geography\",\"astronauts\",\"decisions\",\"cement\",\"induction\",\"luxury\",\"upvotes\",\"politicians\",\"posted\",\"toefl\",\"kitchen\",\"noise\",\"radius\",\"dye\",\"miles\",\"risks\",\"scientifically\",\"mnc\",\"propose\",\"prepared\",\"iiit\",\"mention\",\"equipment\",\"darth\",\"january\",\"surname\",\"raised\",\"attitude\",\"gta\",\"david\",\"hike\",\"awkward\",\"proven\",\"productive\",\"lg\",\"filled\",\"atmosphere\",\"lee\",\"irctc\",\"addicted\",\"dynamic\",\"employment\",\"weekend\",\"replacement\",\"singing\",\"owners\",\"bipolar\",\"tomorrow\",\"poems\",\"default\",\"kvpy\",\"sauce\",\"competitors\",\"russians\",\"sample\",\"crimes\",\"hang\",\"inspired\",\"furniture\",\"throughout\",\"presence\",\"efficiency\",\"leg\",\"biological\",\"pilani\",\"conversations\",\"inspirational\",\"bachelor\",\"centers\",\"withdraw\",\"fundamental\",\"comparison\",\"november\",\"fifa\",\"penalty\",\"algebra\",\"joke\",\"htc\",\"pilots\",\"collapse\",\"texts\",\"vocabulary\",\"moved\",\"sc\",\"smile\",\"october\",\"dot\",\"genetic\",\"architect\",\"url\",\"51\",\"sore\",\"uniform\",\"re\",\"rails\",\"smaller\",\"marine\",\"terrorists\",\"nazi\",\"breast\",\"politician\",\"subtitles\",\"chosen\",\"egypt\",\"thin\",\"packages\",\"editor\",\"bands\",\"mythology\",\"reasonable\",\"permit\",\"acceptable\",\"seriously\",\"iraq\",\"fever\",\"visitor\",\"honest\",\"friction\",\"offering\",\"smarter\",\"ahmedabad\",\"replaced\",\"resolution\",\"burning\",\"bridge\",\"catholic\",\"calendar\",\"resident\",\"policies\",\"forced\",\"leading\",\"arm\",\"deserve\",\"context\",\"coolest\",\"arranged\",\"arizona\",\"comics\",\"harm\",\"democrats\",\"jail\",\"breed\",\"anywhere\",\"psu\",\"christ\",\"violence\",\"agriculture\",\"objective\",\"moments\",\"infinity\",\"supporting\",\"critical\",\"trees\",\"beyond\",\"bag\",\"vitamin\",\"assembly\",\"solved\",\"array\",\"perspective\",\"pas\",\"wwii\",\"skinny\",\"contains\",\"lift\",\"cleaning\",\"peter\",\"aap\",\"pimples\",\"initial\",\"lesserknown\",\"sights\",\"principles\",\"realize\",\"millionaire\",\"faux\",\"orbit\",\"desire\",\"hi\",\"prophet\",\"suits\",\"careers\",\"thinks\",\"quantity\",\"spots\",\"wage\",\"asleep\",\"sociology\",\"guard\",\"units\",\"structural\",\"operation\",\"pants\",\"w\",\"bulk\",\"possibly\",\"drunk\",\"fired\",\"accident\",\"inch\",\"bottle\",\"aerospace\",\"narcissist\",\"ux\",\"angeles\",\"wood\",\"index\",\"safely\",\"robotics\",\"edition\",\"metals\",\"practices\",\"scheme\",\"interior\",\"diabetes\",\"nobel\",\"youth\",\"lived\",\"september\",\"chief\",\"proposed\",\"assuming\",\"sin\",\"counter\",\"disable\",\"introduce\",\"restore\",\"swimming\",\"intern\",\"answering\",\"mentioned\",\"crash\",\"laser\",\"teenagers\",\"presentation\",\"quran\",\"classified\",\"demonetisation\",\"communicate\",\"cotton\",\"autism\",\"anger\",\"environmental\",\"stable\",\"7th\",\"bread\",\"invited\",\"wisdom\",\"wrote\",\"widely\",\"minor\",\"formal\",\"dreaming\",\"managers\",\"escape\",\"pollution\",\"taiwan\",\"verification\",\"los\",\"figures\",\"26\",\"illness\",\"sides\",\"compatible\",\"pack\",\"conspiracy\",\"hedge\",\"flights\",\"dropped\",\"former\",\"suffer\",\"aware\",\"designers\",\"mahabharata\",\"evolve\",\"weigh\",\"dies\",\"fruits\",\"cc\",\"butter\",\"sharing\",\"atoms\",\"tongue\",\"transaction\",\"poverty\",\"suffering\",\"presidents\",\"resistance\",\"adam\",\"civilization\",\"mining\",\"toronto\",\"stick\",\"increased\",\"wild\",\"freelance\",\"removal\",\"aws\",\"rio\",\"principle\",\"asus\",\"cute\",\"consumer\",\"pool\",\"variable\",\"tutorials\",\"advance\",\"keeping\",\"visible\",\"cognizant\",\"equations\",\"rooms\",\"krishna\",\"printer\",\"tooth\",\"mentally\",\"realistic\",\"automobile\",\"cake\",\"tie\",\"beach\",\"ghost\",\"comfortable\",\"mysql\",\"oral\",\"closed\",\"helps\",\"maharashtra\",\"admissions\",\"i5\",\"partners\",\"axis\",\"beliefs\",\"neck\",\"clans\",\"hidden\",\"cyber\",\"voting\",\"bacteria\",\"layer\",\"chhattisgarh\",\"5000\",\"sitting\",\"murder\",\"argument\",\"f\",\"privacy\",\"syndrome\",\"2010\",\"bite\",\"vacation\",\"isro\",\"trouble\",\"records\",\"answered\",\"digit\",\"defeat\",\"childhood\",\"5s\",\"gates\",\"f1\",\"town\",\"anal\",\"copper\",\"talks\",\"affiliate\",\"sociopath\",\"installed\",\"static\",\"copyright\",\"animation\",\"donate\",\"stranger\",\"bcom\",\"destroyed\",\"gujarat\",\"foundation\",\"prize\",\"components\",\"foreigner\",\"arms\",\"unlimited\",\"needing\",\"settings\",\"item\",\"eve\",\"competition\",\"landing\",\"beard\",\"patent\",\"ending\",\"2020\",\"incident\",\"petroleum\",\"florida\",\"particularly\",\"ups\",\"generator\",\"leather\",\"heal\",\"experiment\",\"28\",\"passing\",\"talent\",\"remote\",\"300\",\"published\",\"impossible\",\"steam\",\"80\",\"washing\",\"guilty\",\"punjab\",\"70\",\"album\",\"bullet\",\"paris\",\"interface\",\"agencies\",\"mission\",\"digits\",\"modis\",\"recruitment\",\"manipal\",\"telling\",\"meal\",\"orange\",\"stone\",\"links\",\"ab\",\"upper\",\"cameras\",\"p\",\"combat\",\"passion\",\"shower\",\"thailand\",\"beings\",\"grad\",\"27\",\"finger\",\"jump\",\"lights\",\"ui\",\"bba\",\"sweden\",\"arrive\",\"4th\",\"amendment\",\"window\",\"satellite\",\"al\",\"matlab\",\"jokes\",\"muhammad\",\"expression\",\"booking\",\"dinner\",\"skype\",\"lots\",\"2018\",\"teen\",\"finish\",\"dslr\",\"mens\",\"proud\",\"entrepreneurs\",\"ukraine\",\"coins\",\"scenario\",\"transmission\",\"ignore\",\"pride\",\"contribute\",\"grand\",\"curve\",\"false\",\"operations\",\"breakup\",\"eventually\",\"acquire\",\"commission\",\"lies\",\"spoken\",\"pills\",\"masturbating\",\"jackson\",\"airbnb\",\"delivered\",\"disk\",\"radiation\",\"plays\",\"marvel\",\"particle\",\"breakfast\",\"smartphones\",\"relevant\",\"quota\",\"refund\",\"inches\",\"telugu\",\"angel\",\"eastern\",\"inflation\",\"predict\",\"annoying\",\"obc\",\"tough\",\"conduct\",\"originate\",\"notification\",\"backup\",\"harder\",\"richest\",\"pronounce\",\"sri\",\"wheel\",\"wasnt\",\"oldest\",\"sheet\",\"soda\",\"20s\",\"wipro\",\"awesome\",\"facial\",\"z\",\"noida\",\"confident\",\"fbi\",\"corrupt\",\"succeed\",\"reddit\",\"associate\",\"input\",\"guns\",\"rahul\",\"baking\",\"description\",\"musical\",\"apache\",\"nowadays\",\"fluid\",\"capacity\",\"loose\",\"freshman\",\"cfa\",\"optional\",\"theres\",\"ps4\",\"trends\",\"jon\",\"richard\",\"legit\",\"nodejs\",\"document\",\"sexually\",\"particles\",\"singer\",\"printing\",\"captain\",\"valuable\",\"several\",\"aiims\",\"boot\",\"sit\",\"zone\",\"billionaire\",\"floor\",\"gravitational\",\"export\",\"motivation\",\"golden\",\"transgender\",\"healthcare\",\"heaven\",\"81\",\"leaves\",\"listening\",\"overall\",\"press\",\"dishes\",\"railways\",\"warming\",\"enfield\",\"extent\",\"acceleration\",\"afford\",\"bonds\",\"border\",\"registration\",\"cast\",\"hope\",\"shipping\",\"karnataka\",\"specifically\",\"opportunity\",\"arabia\",\"pump\",\"pg\",\"carrier\",\"plot\",\"kingdom\",\"contract\",\"painful\",\"kindle\",\"boring\",\"essential\",\"disney\",\"charger\",\"seconds\",\"measured\",\"honda\",\"ba\",\"makeup\",\"\\u2013\",\"mini\",\"annual\",\"traits\",\"retrieve\",\"willing\",\"swift\",\"consume\",\"hindus\",\"psychopath\",\"tells\",\"solving\",\"conditions\",\"artists\",\"spotify\",\"bomb\",\"integrate\",\"stuck\",\"nikon\",\"gadgets\",\"womens\",\"judge\",\"republicans\",\"vacuum\",\"felt\",\"putin\",\"tennis\",\"concentration\",\"fans\",\"constantly\",\"matrix\",\"secrets\",\"spot\",\"soft\",\"stored\",\"neural\",\"submit\",\"scores\",\"ola\",\"wire\",\"gdp\",\"jaipur\",\"typically\",\"airline\",\"roles\",\"cheaper\",\"machines\",\"shift\",\"impress\",\"basics\",\"32\",\"conservative\",\"birds\",\"tend\",\"duty\",\"setup\",\"rude\",\"pink\",\"church\",\"mine\",\"jack\",\"sending\",\"cooking\",\"versus\",\"expert\",\"olympic\",\"biotechnology\",\"gurgaon\",\"worked\",\"codes\",\"successfully\",\"hardware\",\"faith\",\"pr\",\"television\",\"compound\",\"vit\",\"universal\",\"thank\",\"grammatically\",\"chicago\",\"ivy\",\"worried\",\"enterprise\",\"sodium\",\"railway\",\"remedies\",\"racism\",\"tracking\",\"psychological\",\"apartment\",\"magazine\",\"martial\",\"beauty\",\"waiting\",\"attacks\",\"horror\",\"fantasy\",\"ma\",\"select\",\"increasing\",\"metro\",\"opt\",\"map\",\"watched\",\"gear\",\"icloud\",\"james\",\"comedy\",\"lollipop\",\"ireland\",\"upcoming\",\"italian\",\"oven\",\"emotionally\",\"decided\",\"lakh\",\"grey\",\"kept\",\"produced\",\"mouth\",\"manual\",\"dhoni\",\"fill\",\"throat\",\"shoot\",\"liked\",\"innovative\",\"immediately\",\"lonely\",\"fighting\",\"max\",\"accidentally\",\"schedule\",\"orgasm\",\"rape\",\"ride\",\"muscles\",\"graduates\",\"taller\",\"boost\",\"lakhs\",\"microwave\",\"electrons\",\"upon\",\"attract\",\"ap\",\"abuse\",\"earths\",\"forever\",\"underrated\",\"facing\",\"terrorist\",\"alien\",\"celebrity\",\"frequently\",\"vpn\",\"wales\",\"powder\",\"superman\",\"mixed\",\"caught\",\"goods\",\"beginning\",\"starts\",\"atomic\",\"associated\",\"triangle\",\"parties\",\"banning\",\"k\",\"honey\",\"monitor\",\"graph\",\"leaders\",\"embedded\",\"juice\",\"split\",\"lady\",\"sequence\",\"911\",\"harassment\",\"nepal\",\"pop\",\"habit\",\"setting\",\"edge\",\"ww2\",\"gps\",\"federal\",\"charged\",\"lying\",\"empty\",\"whenever\",\"airplane\",\"jet\",\"destroy\",\"ies\",\"wouldnt\",\"quick\",\"decrease\",\"robert\",\"pradesh\",\"professors\",\"massage\",\"held\",\"spending\",\"markets\",\"objects\",\"chart\",\"mechanics\",\"silver\",\"usage\",\"basketball\",\"gen\",\"periods\",\"identity\",\"individuals\",\"css\",\"soul\",\"ipod\",\"chest\",\"understanding\",\"coast\",\"classic\",\"spain\",\"babies\",\"sd\",\"hostel\",\"shirt\",\"further\",\"logical\",\"franchise\",\"obtain\",\"foreigners\",\"fully\",\"region\",\"designed\",\"cheated\",\"beneficial\",\"shes\",\"accent\",\"couldnt\",\"queen\",\"sick\",\"blowing\",\"properly\",\"stronger\",\"returns\",\"condition\",\"musk\",\"ugly\",\"teams\",\"filter\",\"snow\",\"glasses\",\"employer\",\"solid\",\"followed\",\"embarrassing\",\"auto\",\"meeting\",\"belong\",\"strike\",\"internships\",\"bachelors\",\"administration\",\"temple\",\"wealth\",\"retail\",\"speakers\",\"electoral\",\"headphones\",\"streaming\",\"mirror\",\"diesel\",\"republic\",\"antivirus\",\"customers\",\"atm\",\"vagina\",\"cigarettes\",\"aptitude\",\"lewis\",\"saudi\",\"puppy\",\"recovery\",\"jimmy\",\"obsessed\",\"domestic\",\"pen\",\"batch\",\"de\",\"drawing\",\"ai\",\"medium\",\"simply\",\"photoshop\",\"sms\",\"turning\",\"nadu\",\"appropriate\",\"adobe\",\"substitute\",\"fruit\",\"recipes\",\"fighter\",\"saving\",\"greater\",\"cheat\",\"routine\",\"push\",\"sherlock\",\"arguments\",\"sony\",\"import\",\"soldiers\",\"charges\",\"emotions\",\"ibm\",\"un\",\"innovations\",\"itunes\",\"consultant\",\"iims\",\"relations\",\"psychopaths\",\"existing\",\"angle\",\"clash\",\"bus\",\"australian\",\"crazy\",\"pull\",\"theories\",\"savings\",\"suit\",\"contrast\",\"calculus\",\"pi\",\"credits\",\"bluetooth\",\"himself\",\"traveling\",\"criminal\",\"xiaomi\",\"zealand\",\"seats\",\"electron\",\"script\",\"11th\",\"lessons\",\"programmers\",\"december\",\"flag\",\"singh\",\"arabic\",\"sale\",\"nfl\",\"grammar\",\"killing\",\"virgin\",\"differently\",\"poem\",\"provided\",\"automation\",\"shy\",\"translation\",\"mathematical\",\"45\",\"celebrities\",\"spring\",\"downloading\",\"dr\",\"organization\",\"majority\",\"clients\",\"hd\",\"motivate\",\"thats\",\"thesis\",\"door\",\"weakest\",\"saw\",\"canon\",\"younger\",\"costs\",\"river\",\"rings\",\"factory\",\"decent\",\"clintons\",\"holes\",\"desert\",\"divorce\",\"sold\",\"cheese\",\"atom\",\"taught\",\"minute\",\"ocean\",\"crisis\",\"represent\",\"surgical\",\"parent\",\"brexit\",\"possibility\",\"longest\",\"edit\",\"scholarship\",\"motivated\",\"chocolate\",\"faced\",\"90\",\"parallel\",\"foot\",\"examination\",\"friendly\",\"kinds\",\"wins\",\"islamic\",\"degrees\",\"registered\",\"distribution\",\"junior\",\"gave\",\"sing\",\"articles\",\"hadoop\",\"saved\",\"hero\",\"ear\",\"asks\",\"improved\",\"teenager\",\"forms\",\"wash\",\"provides\",\"washington\",\"strikes\",\"binary\",\"syria\",\"indonesia\",\"powers\",\"highly\",\"heshe\",\"happiness\",\"director\",\"citizenship\",\"knew\",\"humanity\",\"translate\",\"nba\",\"permanently\",\"soccer\",\"todays\",\"challenges\",\"barack\",\"title\",\"latin\",\"fitness\",\"genuine\",\"investor\",\"dislike\",\"scenes\",\"hacker\",\"bangladesh\",\"ebay\",\"earning\",\"dell\",\"paytm\",\"spouse\",\"bored\",\"roman\",\"official\",\"dragon\",\"park\",\"except\",\"habits\",\"quote\",\"astrology\",\"congress\",\"automatically\",\"island\",\"religions\",\"christianity\",\"supreme\",\"owner\",\"hell\",\"wikipedia\",\"cancel\",\"industries\",\"actress\",\"client\",\"visual\",\"michael\",\"remain\",\"ability\",\"concrete\",\"conflict\",\"string\",\"linear\",\"supposed\",\"engines\",\"2012\",\"\\u2018\",\"lesser\",\"traditional\",\"episodes\",\"goals\",\"tata\",\"opening\",\"target\",\"weak\",\"anonymous\",\"bjp\",\"resource\",\"concepts\",\"ruby\",\"friendship\",\"nyc\",\"pretty\",\"implement\",\"painting\",\"ill\",\"agency\",\"reverse\",\"confused\",\"italy\",\"response\",\"yellow\",\"dance\",\"contain\",\"vice\",\"editing\",\"acting\",\"weirdest\",\"feels\",\"govt\",\"accounting\",\"rise\",\"wise\",\"leaving\",\"lens\",\"artist\",\"arvind\",\"pattern\",\"scared\",\"attention\",\"airlines\",\"sky\",\"malaysia\",\"port\",\"attempt\",\"element\",\"classical\",\"shown\",\"safety\",\"including\",\"tablet\",\"la\",\"terrorism\",\"commit\",\"maps\",\"african\",\"viewed\",\"calling\",\"6s\",\"agent\",\"output\",\"justice\",\"don\",\"addiction\",\"lock\",\"vegetarian\",\"britain\",\"percent\",\"meditation\",\"ibps\",\"monthly\",\"writers\",\"forward\",\"stuff\",\"mr\",\"ready\",\"forgot\",\"flying\",\"recommended\",\"fields\",\"blind\",\"l\",\"hinduism\",\"desktop\",\"host\",\"tattoo\",\"maintain\",\"boards\",\"helpful\",\"semester\",\"load\",\"tier\",\"agree\",\"factor\",\"elon\",\"freshers\",\"sql\",\"cases\",\"exact\",\"confidence\",\"behavior\",\"hacked\",\"quotes\",\"hydrogen\",\"pakistani\",\"masturbate\",\"divided\",\"skill\",\"fine\",\"falling\",\"chess\",\"charging\",\"pages\",\"vector\",\"supporters\",\"waste\",\"sanders\",\"affordable\",\"unlock\",\"techniques\",\"wine\",\"keyboard\",\"cm\",\"wireless\",\"lawyer\",\"egg\",\"cope\",\"mindblowing\",\"recipe\",\"corruption\",\"scored\",\"secure\",\"teaching\",\"opposite\",\"educational\",\"bernie\",\"y\",\"library\",\"models\",\"kid\",\"stack\",\"separate\",\"19\",\"extremely\",\"properties\",\"cable\",\"magic\",\"removed\",\"computing\",\"hospital\",\"beer\",\"christians\",\"twice\",\"kg\",\"consulting\",\"whose\",\"serious\",\"petrol\",\"travelling\",\"revolution\",\"custom\",\"structures\",\"guide\",\"celebrate\",\"lenovo\",\"turned\",\"ielts\",\"grades\",\"fuel\",\"relative\",\"oracle\",\"academy\",\"lack\",\"passed\",\"relation\",\"values\",\"movement\",\"strategies\",\"eu\",\"emotional\",\"legs\",\"pokemon\",\"3g\",\"iran\",\"mostly\",\"jewish\",\"offered\",\"log\",\"hasnt\",\"explanation\",\"signal\",\"stores\",\"syllabus\",\"bits\",\"yoga\",\"weapons\",\"gods\",\"10000\",\"delivery\",\"gb\",\"sum\",\"letters\",\"venture\",\"selection\",\"winning\",\"35\",\"comment\",\"consequences\",\"sport\",\"items\",\"seems\",\"ring\",\"jealous\",\"laptops\",\"criteria\",\"fresh\",\"reference\",\"bitcoin\",\"infinite\",\"perform\",\"brazil\",\"density\",\"plans\",\"hosting\",\"clothing\",\"hong\",\"dying\",\"heavy\",\"steve\",\"gone\",\"damage\",\"missing\",\"ethical\",\"republican\",\"contacts\",\"activity\",\"electronic\",\"qualities\",\"piano\",\"hisher\",\"repair\",\"posts\",\"disease\",\"winter\",\"ten\",\"publish\",\"paint\",\"physically\",\"executive\",\"deposit\",\"elements\",\"xbox\",\"ceo\",\"visitors\",\"discovered\",\"tickets\",\"literature\",\"primary\",\"naturally\",\"senior\",\"u\",\"hardest\",\"debate\",\"frequency\",\"vietnam\",\"cry\",\"assistant\",\"gifts\",\"practical\",\"funny\",\"valid\",\"liberal\",\"refer\",\"beat\",\"shape\",\"institutes\",\"msc\",\"internal\",\"located\",\"significant\",\"scientists\",\"g\",\"ship\",\"proper\",\"independence\",\"added\",\"hes\",\"catch\",\"urine\",\"effectively\",\"named\",\"responsible\",\"strength\",\"whos\",\"immigration\",\"vehicle\",\"tesla\",\"kong\",\"meth\",\"england\",\"huge\",\"pizza\",\"rejected\",\"george\",\"fan\",\"salt\",\"browser\",\"sat\",\"loved\",\"fees\",\"walking\",\"symbol\",\"equity\",\"ubuntu\",\"alternatives\",\"theme\",\"virus\",\"manufacturing\",\"cutoff\",\"pure\",\"22\",\"introvert\",\"unable\",\"greek\",\"rice\",\"gst\",\"happening\",\"centre\",\"kiss\",\"prison\",\"bigger\",\"font\",\"construction\",\"exercises\",\"keeps\",\"gmat\",\"offers\",\"cross\",\"nasa\",\"unit\",\"advertising\",\"cup\",\"fixed\",\"limited\",\"billion\",\"subjects\",\"arts\",\"worlds\",\"stupid\",\"breaking\",\"funding\",\"tank\",\"generate\",\"efficient\",\"exists\",\"atheist\",\"entrepreneur\",\"direction\",\"broken\",\"offline\",\"firms\",\"station\",\"magnetic\",\"include\",\"aliens\",\"tinder\",\"logo\",\"photography\",\"worse\",\"besides\",\"path\",\"somebody\",\"interviews\",\"persons\",\"figure\",\"placed\",\"nation\",\"knows\",\"unmarried\",\"hp\",\"profitable\",\"tricks\",\"boss\",\"reply\",\"scam\",\"circle\",\"processor\",\"debt\",\"growing\",\"royal\",\"fiction\",\"department\",\"mistake\",\"weird\",\"graphics\",\"external\",\"article\",\"volume\",\"scratch\",\"chain\",\"protect\",\"storage\",\"texas\",\"liquid\",\"circuit\",\"graphic\",\"tired\",\"weather\",\"oxygen\",\"velocity\",\"dad\",\"band\",\"teachers\",\"drugs\",\"complex\",\"studio\",\"accenture\",\"leader\",\"levels\",\"goal\",\"logic\",\"acne\",\"plastic\",\"motion\",\"button\",\"peoples\",\"vision\",\"gap\",\"dollar\",\"computers\",\"stomach\",\"sources\",\"constant\",\"draw\",\"dress\",\"calculated\",\"sort\",\"3rd\",\"club\",\"channels\",\"creating\",\"candidates\",\"kejriwal\",\"broke\",\"sentences\",\"format\",\"emails\",\"raw\",\"stanford\",\"completed\",\"documents\",\"pan\",\"showing\",\"enter\",\"unknown\",\"bought\",\"router\",\"claim\",\"six\",\"technologies\",\"\\u20b9\",\"flipkart\",\"infosys\",\"mutual\",\"angry\",\"iits\",\"affected\",\"prices\",\"shares\",\"naruto\",\"processing\",\"finding\",\"democratic\",\"evolution\",\"harmful\",\"dual\",\"virtual\",\"member\",\"wave\",\"actual\",\"extra\",\"radio\",\"citizens\",\"e\",\"hr\",\"previous\",\"stopped\",\"walk\",\"redmi\",\"speaker\",\"torrent\",\"smoke\",\"mistakes\",\"flash\",\"iron\",\"entire\",\"individual\",\"express\",\"flow\",\"mode\",\"aircraft\",\"section\",\"planets\",\"10th\",\"respond\",\"easier\",\"evil\",\"percentile\",\"seeing\",\"calories\",\"upgrade\",\"professor\",\"v\",\"launch\",\"staff\",\"till\",\"silicon\",\"entry\",\"constitution\",\"century\",\"notice\",\"ie\",\"atheists\",\"tests\",\"21\",\"became\",\"kerala\",\"truly\",\"count\",\"essay\",\"papers\",\"accurate\",\"colors\",\"respect\",\"ideal\",\"rock\",\"reliance\",\"peace\",\"masturbation\",\"audio\",\"random\",\"independent\",\"colour\",\"hotels\",\"presidency\",\"generation\",\"paypal\",\"shot\",\"central\",\"released\",\"occur\",\"display\",\"industrial\",\"particular\",\"risk\",\"eg\",\"belly\",\"pet\",\"similarities\",\"organic\",\"marijuana\",\"networks\",\"aspects\",\"flat\",\"d\",\"comments\",\"nose\",\"identify\",\"rbi\",\"improvement\",\"directly\",\"framework\",\"suggestions\",\"designing\",\"brands\",\"religious\",\"influence\",\"novels\",\"statistics\",\"historical\",\"ground\",\"commerce\",\"pregnancy\",\"romantic\",\"failure\",\"wearing\",\"john\",\"apart\",\"bay\",\"symptoms\",\"200\",\"couple\",\"60\",\"canadian\",\"lie\",\"print\",\"carry\",\"gender\",\"experienced\",\"pounds\",\"reservation\",\"either\",\"stage\",\"artificial\",\"fit\",\"blogs\",\"developing\",\"environment\",\"learned\",\"copy\",\"phase\",\"bond\",\"democracy\",\"cgpa\",\"operating\",\"surface\",\"officers\",\"h1b\",\"ip\",\"workout\",\"fee\",\"elected\",\"hands\",\"largest\",\"sad\",\"shouldnt\",\"seat\",\"sister\",\"developers\",\"despite\",\"scene\",\"po\",\"diploma\",\"request\",\"empire\",\"ratio\",\"considering\",\"academic\",\"tree\",\"register\",\"advantage\",\"eligible\",\"nit\",\"shop\",\"intel\",\"funniest\",\"alternative\",\"fail\",\"ads\",\"nature\",\"miss\",\"involved\",\"overrated\",\"attend\",\"freedom\",\"dna\",\"beginners\",\"raise\",\"dry\",\"failed\",\"legally\",\"batman\",\"upload\",\"carbon\",\"regret\",\"applied\",\"points\",\"investors\",\"pick\",\"equivalent\",\"connected\",\"christmas\",\"lyrics\",\"nations\",\"caused\",\"bsc\",\"1st\",\"action\",\"activities\",\"biology\",\"hide\",\"asia\",\"takes\",\"require\",\"alive\",\"mom\",\"cycle\",\"generally\",\"campaign\",\"fair\",\"wake\",\"bit\",\"rules\",\"olympics\",\"racist\",\"areas\",\"eggs\",\"feature\",\"sap\",\"taxes\",\"ad\",\"shall\",\"theyre\",\"species\",\"pilot\",\"firm\",\"fish\",\"define\",\"doctors\",\"piece\",\"itself\",\"bang\",\"solutions\",\"iim\",\"2013\",\"wanted\",\"length\",\"burn\",\"waves\",\"bar\",\"gives\",\"forces\",\"christian\",\"anybody\",\"relationships\",\"nice\",\"wedding\",\"various\",\"brother\",\"films\",\"cream\",\"suddenly\",\"philippines\",\"fashion\",\"truth\",\"gpa\",\"cgl\",\"tall\",\"goa\",\"hacking\",\"statement\",\"reset\",\"materials\",\"played\",\"match\",\"usb\",\"novel\",\"unusual\",\"knowing\",\"selected\",\"valley\",\"chrome\",\"couples\",\"becomes\",\"died\",\"cheating\",\"community\",\"groups\",\"category\",\"pursuing\",\"writer\",\"mexico\",\"anymore\",\"sugar\",\"climate\",\"brown\",\"players\",\"ii\",\"reviews\",\"took\",\"led\",\"connection\",\"begin\",\"html\",\"changing\",\"received\",\"plants\",\"debit\",\"record\",\"revenue\",\"mars\",\"strongest\",\"members\",\"formed\",\"union\",\"thought\",\"existence\",\"kashmir\",\"gandhi\",\"pdf\",\"banned\",\"0\",\"plane\",\"treated\",\"electricity\",\"scale\",\"basis\",\"moral\",\"images\",\"methods\",\"certification\",\"voltage\",\"style\",\"base\",\"excel\",\"amazing\",\"regarding\",\"result\",\"rates\",\"hold\",\"indias\",\"airport\",\"businesses\",\"feet\",\"built\",\"linkedin\",\"signs\",\"above\",\"networking\",\"r\",\"shopping\",\"looks\",\"went\",\"placements\",\"bed\",\"experiences\",\"daughter\",\"tourist\",\"employee\",\"caste\",\"wait\",\"direct\",\"especially\",\"feed\",\"continue\",\"expected\",\"algorithm\",\"depressed\",\"shoes\",\"soon\",\"supply\",\"stress\",\"24\",\"inr\",\"foods\",\"rent\",\"architecture\",\"ban\",\"entrance\",\"actors\",\"messenger\",\"unique\",\"kolkata\",\"funds\",\"rupee\",\"promote\",\"rupees\",\"jews\",\"23\",\"cook\",\"cultural\",\"accepted\",\"hear\",\"glass\",\"road\",\"joining\",\"measure\",\"havent\",\"metal\",\"resume\",\"afraid\",\"turkey\",\"meat\",\"goes\",\"installation\",\"netflix\",\"benefit\",\"demand\",\"release\",\"produce\",\"report\",\"cover\",\"changes\",\"double\",\"2nd\",\"reaction\",\"killed\",\"steel\",\"requirements\",\"france\",\"exchange\",\"ac\",\"quantum\",\"reliable\",\"box\",\"results\",\"lives\",\"treatment\",\"4g\",\"ece\",\"probability\",\"sleeping\",\"philosophy\",\"handle\",\"forget\",\"driver\",\"demonetization\",\"algorithms\",\"trade\",\"rule\",\"muscle\",\"calls\",\"tried\",\"mental\",\"sure\",\"quit\",\"navy\",\"achieve\",\"francisco\",\"location\",\"until\",\"sense\",\"anxiety\",\"wordpress\",\"focus\",\"fact\",\"production\",\"conversation\",\"motor\",\"five\",\"attracted\",\"hit\",\"analyst\",\"moto\",\"isis\",\"chicken\",\"sector\",\"permanent\",\"along\",\"king\",\"slow\",\"candidate\",\"minutes\",\"purchase\",\"gun\",\"selling\",\"usually\",\"\\u2026\",\"fly\",\"round\",\"panel\",\"error\",\"stocks\",\"api\",\"remember\",\"africa\",\"paying\",\"hitler\",\"3d\",\"regular\",\"losing\",\"mail\",\"yahoo\",\"cheapest\",\"older\",\"concept\",\"characters\",\"definition\",\"lines\",\"pm\",\"cloud\",\"cats\",\"russian\",\"ipad\",\"korean\",\"proof\",\"battle\",\"stars\",\"stream\",\"recent\",\"typical\",\"performance\",\"harvard\",\"restaurant\",\"origin\",\"listen\",\"smell\",\"decide\",\"serve\",\"undergraduate\",\"profit\",\"situation\",\"surgery\",\"asking\",\"plant\",\"link\",\"square\",\"completing\",\"four\",\"trust\",\"payment\",\"gym\",\"andor\",\"worklife\",\"guitar\",\"elections\",\"half\",\"investing\",\"scientist\",\"street\",\"needs\",\"native\",\"thoughts\",\"reality\",\"40\",\"medicine\",\"race\",\"choice\",\"longer\",\"came\",\"applying\",\"hiring\",\"west\",\"weed\",\"hacks\",\"step\",\"sea\",\"crime\",\"devices\",\"event\",\"citizen\",\"14\",\"17\",\"ticket\",\"fund\",\"equation\",\"suicide\",\"whom\",\"met\",\"almost\",\"designer\",\"local\",\"departments\",\"khan\",\"customer\",\"banking\",\"javascript\",\"trip\",\"issue\",\"react\",\"cannot\",\"dubai\",\"wall\",\"touch\",\"parts\",\"loves\",\"clothes\",\"straight\",\"sexual\",\"active\",\"inpatient\",\"dreams\",\"protein\",\"table\",\"exercise\",\"lord\",\"mtech\",\"creative\",\"ball\",\"speaking\",\"son\",\"receive\",\"dollars\",\"domain\",\"prospects\",\"hour\",\"graduation\",\"commercial\",\"themselves\",\"factors\",\"jesus\",\"programmer\",\"recommend\",\"replace\",\"chat\",\"placement\",\"episode\",\"fastest\",\"restaurants\",\"object\",\"drivers\",\"gaming\",\"mark\",\"taste\",\"seem\",\"perfect\",\"potential\",\"trumps\",\"appear\",\"rights\",\"equal\",\"rest\",\"package\",\"meant\",\"drop\",\"cool\",\"material\",\"potter\",\"events\",\"convince\",\"completely\",\"n\",\"zero\",\"significance\",\"lower\",\"feelings\",\"followers\",\"evidence\",\"certain\",\"later\",\"original\",\"bible\",\"disorder\",\"testing\",\"via\",\"stand\",\"actor\",\"characteristics\",\"cities\",\"reach\",\"ago\",\"mbbs\",\"speech\",\"electric\",\"approach\",\"scientific\",\"root\",\"analytics\",\"below\",\"grade\",\"mains\",\"topic\",\"fun\",\"ancient\",\"adult\",\"standard\",\"ice\",\"everyday\",\"population\",\"invented\",\"european\",\"intelligent\",\"11\",\"subject\",\"rehab\",\"background\",\"giving\",\"platform\",\"flight\",\"thrones\",\"maths\",\"dc\",\"teeth\",\"mit\",\"weeks\",\"east\",\"means\",\"programs\",\"beginner\",\"heat\",\"third\",\"tea\",\"range\",\"london\",\"maximum\",\"enjoy\",\"2000\",\"cells\",\"quickly\",\"here\",\"expensive\",\"phrase\",\"partner\",\"league\",\"anime\",\"latest\",\"specific\",\"whether\",\"functions\",\"os\",\"fire\",\"saying\",\"secret\",\"13\",\"planet\",\"hole\",\"super\",\"teacher\",\"strong\",\"accounts\",\"minister\",\"database\",\"economic\",\"channel\",\"estate\",\"ram\",\"switch\",\"asian\",\"smoking\",\"branch\",\"israel\",\"18\",\"features\",\"success\",\"lead\",\"total\",\"key\",\"master\",\"ok\",\"favourite\",\"psychology\",\"pok\\u00e9mon\",\"nothing\",\"clean\",\"25\",\"politics\",\"drinking\",\"sometimes\",\"recently\",\"korea\",\"sent\",\"poor\",\"hindu\",\"hollywood\",\"survive\",\"cure\",\"property\",\"return\",\"narendra\",\"budget\",\"sports\",\"limit\",\"arent\",\"boys\",\"driving\",\"whole\",\"cash\",\"smartphone\",\"php\",\"developed\",\"ssc\",\"hot\",\"attractive\",\"tool\",\"physical\",\"ecommerce\",\"sbi\",\"morning\",\"animal\",\"multiple\",\"loan\",\"acid\",\"fresher\",\"spanish\",\"moving\",\"decision\",\"county\",\"determined\",\"becoming\",\"seo\",\"summer\",\"manage\",\"server\",\"competitive\",\"milk\",\"importance\",\"banks\",\"cheap\",\"powerful\",\"issues\",\"penis\",\"according\",\"analysis\",\"bike\",\"position\",\"western\",\"advanced\",\"campus\",\"highest\",\"front\",\"court\",\"status\",\"gravity\",\"positions\",\"comes\",\"steps\",\"complete\",\"electronics\",\"won\",\"hurt\",\"certificate\",\"temperature\",\"player\",\"someones\",\"communication\",\"million\",\"talking\",\"preparing\",\"finance\",\"cancer\",\"9\",\"harry\",\"accept\",\"2014\",\"plus\",\"born\",\"tcs\",\"license\",\"bring\",\"teach\",\"practice\",\"trading\",\"m\",\"might\",\"opportunities\",\"global\",\"wish\",\"outside\",\"attack\",\"procedure\",\"needed\",\"update\",\"coffee\",\"provider\",\"rather\",\"16\",\"allow\",\"tamil\",\"mix\",\"connect\",\"room\",\"watching\",\"deep\",\"york\",\"image\",\"birth\",\"sign\",\"birthday\",\"playing\",\"wars\",\"grads\",\"hire\",\"phones\",\"cbse\",\"details\",\"clear\",\"cricket\",\"dangerous\",\"track\",\"corporate\",\"voice\",\"upsc\",\"content\",\"okay\",\"san\",\"heart\",\"far\",\"heard\",\"prove\",\"positive\",\"moment\",\"sales\",\"opinion\",\"engineers\",\"block\",\"diet\",\"coding\",\"core\",\"baby\",\"father\",\"little\",\"large\",\"blocked\",\"distance\",\"land\",\"simple\",\"husband\",\"told\",\"traffic\",\"prevent\",\"pictures\",\"planning\",\"fear\",\"classes\",\"towards\",\"technical\",\"building\",\"trying\",\"photo\",\"early\",\"uses\",\"sydney\",\"startups\",\"act\",\"id\",\"describe\",\"12th\",\"may\",\"formula\",\"gets\",\"present\",\"wont\",\"cut\",\"treat\",\"mathematics\",\"visiting\",\"eye\",\"policy\",\"close\",\"cse\",\"suitable\",\"version\",\"tools\",\"head\",\"minimum\",\"chennai\",\"easily\",\"method\",\"intelligence\",\"gre\",\"mother\",\"doctor\",\"macbook\",\"deleted\",\"gas\",\"suggest\",\"cards\",\"files\",\"loss\",\"art\",\"easiest\",\"late\",\"among\",\"together\",\"depression\",\"higher\",\"alone\",\"economics\",\"dead\",\"growth\",\"insurance\",\"gold\",\"necessary\",\"neet\",\"blog\",\"example\",\"memory\",\"crack\",\"consider\",\"works\",\"currency\",\"recruit\",\"pursue\",\"strategy\",\"young\",\"cs\",\"projects\",\"50\",\"manager\",\"abroad\",\"schools\",\"illegal\",\"inside\",\"stories\",\"hand\",\"t\",\"greatest\",\"personality\",\"galaxy\",\"device\",\"views\",\"user\",\"chemistry\",\"cars\",\"iq\",\"prefer\",\"picture\",\"nuclear\",\"middle\",\"applications\",\"gmail\",\"laws\",\"final\",\"capital\",\"kids\",\"society\",\"fake\",\"bill\",\"save\",\"though\",\"likely\",\"determine\",\"shows\",\"character\",\"snapchat\",\"youre\",\"eyes\",\"islam\",\"marry\",\"brand\",\"yet\",\"impact\",\"speak\",\"within\",\"rich\",\"resources\",\"net\",\"non\",\"pressure\",\"changed\",\"allowed\",\"obama\",\"cold\",\"running\",\"feeling\",\"jio\",\"football\",\"gift\",\"written\",\"buying\",\"mac\",\"spend\",\"prime\",\"blue\",\"train\",\"studies\",\"negative\",\"thinking\",\"solution\",\"sun\",\"least\",\"following\",\"install\",\"else\",\"muslims\",\"camera\",\"vote\",\"linux\",\"expect\",\"german\",\"recover\",\"starting\",\"crush\",\"coming\",\"muslim\",\"modern\",\"battery\",\"provide\",\"access\",\"presidential\",\"interest\",\"dating\",\"pro\",\"likes\",\"french\",\"singapore\",\"useful\",\"already\",\"professional\",\"percentage\",\"drink\",\"created\",\"board\",\"passport\",\"structure\",\"case\",\"height\",\"microsoft\",\"break\",\"screen\",\"names\",\"chance\",\"special\",\"30\",\"skin\",\"natural\",\"color\",\"interested\",\"amount\",\"pain\",\"healthy\",\"hack\",\"messages\",\"ias\",\"gay\",\"disadvantages\",\"pass\",\"moon\",\"systems\",\"hindi\",\"financial\",\"taken\",\"yes\",\"sim\",\"pregnant\",\"faster\",\"animals\",\"internship\",\"let\",\"photos\",\"balance\",\"sound\",\"due\",\"knowledge\",\"charge\",\"message\",\"officer\",\"solar\",\"military\",\"meet\",\"option\",\"reading\",\"across\",\"overcome\",\"everyone\",\"everything\",\"wife\",\"reduce\",\"chances\",\"samsung\",\"income\",\"bollywood\",\"season\",\"europe\",\"boy\",\"currently\",\"ex\",\"smart\",\"california\",\"engine\",\"paid\",\"army\",\"contact\",\"address\",\"wants\",\"ones\",\"gain\",\"reasons\",\"avoid\",\"please\",\"note\",\"known\",\"pune\",\"film\",\"national\",\"once\",\"users\",\"porn\",\"scope\",\"twitter\",\"drug\",\"rank\",\"japan\",\"fight\",\"transfer\",\"political\",\"green\",\"news\",\"self\",\"uber\",\"basic\",\"british\",\"religion\",\"hyderabad\",\"topics\",\"explain\",\"phd\",\"eating\",\"letter\",\"calculate\",\"ive\",\"tech\",\"personal\",\"japanese\",\"check\",\"hotel\",\"wifi\",\"beautiful\",\"difficult\",\"paper\",\"languages\",\"investment\",\"develop\",\"north\",\"electrical\",\"ios\",\"alcohol\",\"exactly\",\"profile\",\"past\",\"exams\",\"ca\",\"convert\",\"vs\",\"understand\",\"care\",\"dream\",\"try\",\"americans\",\"lost\",\"chemical\",\"source\",\"b\",\"admission\",\"easy\",\"must\",\"three\",\"effect\",\"view\",\"options\",\"page\",\"away\",\"red\",\"said\",\"line\",\"short\",\"happy\",\"security\",\"dark\",\"preparation\",\"second\",\"fat\",\"matter\",\"few\",\"since\",\"role\",\"pc\",\"office\",\"team\",\"delete\",\"cell\",\"election\",\"economy\",\"term\",\"dogs\",\"text\",\"female\",\"effective\",\"brain\",\"share\",\"digital\",\"btech\",\"russia\",\"\\u201c\",\"party\",\"numbers\",\"20\",\"store\",\"male\",\"mass\",\"turn\",\"left\",\"married\",\"rs\",\"taking\",\"those\",\"password\",\"follow\",\"advice\",\"isnt\",\"15\",\"types\",\"network\",\"\\u201d\",\"week\",\"purpose\",\"related\",\"fix\",\"started\",\"courses\",\"masters\",\"grow\",\"8\",\"fast\",\"leave\",\"100\",\"often\",\"found\",\"pros\",\"marriage\",\"cons\",\"quality\",\"words\",\"kill\",\"price\",\"near\",\"modi\",\"enough\",\"search\",\"python\",\"x\",\"blood\",\"math\",\"yourself\",\"drive\",\"size\",\"star\",\"graduate\",\"majors\",\"500\",\"model\",\"studying\",\"general\",\"oil\",\"colleges\",\"area\",\"developer\",\"germany\",\"industry\",\"full\",\"training\",\"says\",\"period\",\"videos\",\"universe\",\"fall\",\"daily\",\"information\",\"foreign\",\"credit\",\"force\",\"12\",\"youve\",\"south\",\"offer\",\"set\",\"add\",\"send\",\"australia\",\"center\",\"1000\",\"famous\",\"2015\",\"lot\",\"function\",\"tax\",\"correct\",\"solve\",\"advantages\",\"coaching\",\"institute\",\"effects\",\"guys\",\"again\",\"group\",\"hours\",\"side\",\"sentence\",\"low\",\"similar\",\"plan\",\"children\",\"answers\",\"talk\",\"marks\",\"ideas\",\"theory\",\"death\",\"compared\",\"night\",\"remove\",\"dog\",\"anything\",\"single\",\"successful\",\"gate\",\"indians\",\"put\",\"problems\",\"move\",\"writing\",\"point\",\"invest\",\"asked\",\"biggest\",\"others\",\"stock\",\"notes\",\"story\",\"machine\",\"private\",\"sell\",\"seen\",\"required\",\"field\",\"file\",\"rate\",\"humans\",\"application\",\"face\",\"sites\",\"mind\",\"facts\",\"mumbai\",\"post\",\"stay\",\"child\",\"terms\",\"products\",\"control\",\"legal\",\"police\",\"didnt\",\"level\",\"worst\",\"hate\",\"visit\",\"called\",\"amazon\",\"causes\",\"health\",\"form\",\"physics\",\"iit\",\"skills\",\"times\",\"medical\",\"based\",\"list\",\"websites\",\"die\",\"part\",\"less\",\"benefits\",\"apple\",\"instead\",\"these\",\"boyfriend\",\"sleep\",\"canada\",\"reason\",\"education\",\"cause\",\"jee\",\"value\",\"today\",\"media\",\"public\",\"happened\",\"product\",\"research\",\"main\",\"behind\",\"international\",\"project\",\"uk\",\"differ\",\"7\",\"places\",\"wear\",\"order\",\"date\",\"etc\",\"small\",\"songs\",\"apps\",\"email\",\"given\",\"wrong\",\"site\",\"normal\",\"culture\",\"also\",\"civil\",\"city\",\"available\",\"house\",\"exist\",\"startup\",\"services\",\"ms\",\"both\",\"down\",\"2017\",\"run\",\"cat\",\"well\",\"space\",\"join\",\"deal\",\"games\",\"visa\",\"rid\",\"air\",\"speed\",\"popular\",\"problem\",\"support\",\"current\",\"pakistan\",\"choose\",\"build\",\"idea\",\"america\",\"whatsapp\",\"affect\",\"law\",\"technology\",\"call\",\"6\",\"universities\",\"family\",\"marketing\",\"major\",\"actually\",\"favorite\",\"light\",\"bangalore\",\"woman\",\"because\",\"type\",\"program\",\"looking\",\"living\",\"open\",\"believe\",\"month\",\"able\",\"management\",\"travel\",\"degree\",\"show\",\"interesting\",\"score\",\"months\",\"series\",\"chinese\",\"development\",\"end\",\"code\",\"design\",\"per\",\"employees\",\"review\",\"clinton\",\"common\",\"kind\",\"internet\",\"song\",\"download\",\"course\",\"parents\",\"jobs\",\"such\",\"increase\",\"java\",\"god\",\"another\",\"united\",\"girlfriend\",\"mechanical\",\"always\",\"next\",\"never\",\"around\",\"tips\",\"mba\",\"myself\",\"hillary\",\"apply\",\"answer\",\"something\",\"considered\",\"making\",\"differences\",\"market\",\"compare\",\"great\",\"keep\",\"test\",\"s\",\"win\",\"against\",\"states\",\"earn\",\"youtube\",\"worth\",\"delhi\",\"energy\",\"laptop\",\"american\",\"lose\",\"each\",\"hard\",\"makes\",\"age\",\"ask\",\"safe\",\"body\",\"power\",\"salary\",\"4\",\"watch\",\"white\",\"windows\",\"instagram\",\"history\",\"pay\",\"every\",\"last\",\"create\",\"relationship\",\"music\",\"too\",\"meaning\",\"state\",\"average\",\"earth\",\"got\",\"process\",\"class\",\"tv\",\"eat\",\"done\",\"happens\",\"days\",\"big\",\"off\",\"improve\",\"future\",\"place\",\"man\",\"human\",\"government\",\"play\",\"countries\",\"food\",\"service\",\"students\",\"weight\",\"game\",\"engineer\",\"write\",\"very\",\"interview\",\"web\",\"tell\",\"social\",\"girls\",\"video\",\"look\",\"having\",\"guy\",\"home\",\"hair\",\"usa\",\"doesnt\",\"word\",\"bank\",\"friend\",\"true\",\"experience\",\"career\",\"president\",\"question\",\"own\",\"china\",\"come\",\"under\",\"working\",\"him\",\"doing\",\"donald\",\"friends\",\"right\",\"5\",\"cost\",\"mobile\",\"even\",\"movies\",\"then\",\"c\",\"\\u2019\",\"exam\",\"men\",\"learning\",\"card\",\"war\",\"read\",\"programming\",\"black\",\"anyone\",\"high\",\"10\",\"companies\",\"car\",\"getting\",\"give\",\"important\",\"questions\",\"cant\",\"iphone\",\"website\",\"top\",\"water\",\"prepare\",\"during\",\"real\",\"say\",\"system\",\"name\",\"through\",\"two\",\"1\",\"our\",\"study\",\"3\",\"university\",\"made\",\"back\",\"happen\",\"stop\",\"student\",\"sex\",\"bad\",\"language\",\"going\",\"same\",\"before\",\"software\",\"school\",\"live\",\"country\",\"android\",\"science\",\"help\",\"she\",\"see\",\"thing\",\"women\",\"over\",\"data\",\"examples\",\"computer\",\"had\",\"ways\",\"change\",\"while\",\"book\",\"english\",\"account\",\"still\",\"movie\",\"books\",\"2016\",\"facebook\",\"free\",\"number\",\"college\",\"app\",\"2\",\"just\",\"now\",\"no\",\"trump\",\"company\",\"only\",\"old\",\"been\",\"google\",\"phone\",\"long\",\"different\",\"girl\",\"his\",\"her\",\"years\",\"really\",\"them\",\"using\",\"business\",\"need\",\"being\",\"buy\",\"day\",\"person\",\"things\",\"possible\",\"could\",\"were\",\"its\",\"love\",\"engineering\",\"im\",\"used\",\"online\",\"go\",\"year\",\"he\",\"into\",\"feel\",\"dont\",\"first\",\"up\"]]]}}},\"view\":{\"type\":\"object\",\"name\":\"CDSView\",\"id\":\"p1045\",\"attributes\":{\"filter\":{\"type\":\"object\",\"name\":\"AllIndices\",\"id\":\"p1046\"}}},\"glyph\":{\"type\":\"object\",\"name\":\"Scatter\",\"id\":\"p1041\",\"attributes\":{\"x\":{\"type\":\"field\",\"field\":\"x\"},\"y\":{\"type\":\"field\",\"field\":\"y\"},\"size\":{\"type\":\"value\",\"value\":10},\"line_color\":{\"type\":\"field\",\"field\":\"color\"},\"line_alpha\":{\"type\":\"value\",\"value\":0.25},\"fill_color\":{\"type\":\"field\",\"field\":\"color\"},\"fill_alpha\":{\"type\":\"value\",\"value\":0.25},\"hatch_color\":{\"type\":\"field\",\"field\":\"color\"},\"hatch_alpha\":{\"type\":\"value\",\"value\":0.25}}},\"nonselection_glyph\":{\"type\":\"object\",\"name\":\"Scatter\",\"id\":\"p1042\",\"attributes\":{\"x\":{\"type\":\"field\",\"field\":\"x\"},\"y\":{\"type\":\"field\",\"field\":\"y\"},\"size\":{\"type\":\"value\",\"value\":10},\"line_color\":{\"type\":\"field\",\"field\":\"color\"},\"line_alpha\":{\"type\":\"value\",\"value\":0.1},\"fill_color\":{\"type\":\"field\",\"field\":\"color\"},\"fill_alpha\":{\"type\":\"value\",\"value\":0.1},\"hatch_color\":{\"type\":\"field\",\"field\":\"color\"},\"hatch_alpha\":{\"type\":\"value\",\"value\":0.1}}},\"muted_glyph\":{\"type\":\"object\",\"name\":\"Scatter\",\"id\":\"p1043\",\"attributes\":{\"x\":{\"type\":\"field\",\"field\":\"x\"},\"y\":{\"type\":\"field\",\"field\":\"y\"},\"size\":{\"type\":\"value\",\"value\":10},\"line_color\":{\"type\":\"field\",\"field\":\"color\"},\"line_alpha\":{\"type\":\"value\",\"value\":0.2},\"fill_color\":{\"type\":\"field\",\"field\":\"color\"},\"fill_alpha\":{\"type\":\"value\",\"value\":0.2},\"hatch_color\":{\"type\":\"field\",\"field\":\"color\"},\"hatch_alpha\":{\"type\":\"value\",\"value\":0.2}}}}}],\"toolbar\":{\"type\":\"object\",\"name\":\"Toolbar\",\"id\":\"p1012\",\"attributes\":{\"tools\":[{\"type\":\"object\",\"name\":\"PanTool\",\"id\":\"p1025\"},{\"type\":\"object\",\"name\":\"WheelZoomTool\",\"id\":\"p1026\",\"attributes\":{\"renderers\":\"auto\"}},{\"type\":\"object\",\"name\":\"BoxZoomTool\",\"id\":\"p1027\",\"attributes\":{\"overlay\":{\"type\":\"object\",\"name\":\"BoxAnnotation\",\"id\":\"p1028\",\"attributes\":{\"syncable\":false,\"line_color\":\"black\",\"line_alpha\":1.0,\"line_width\":2,\"line_dash\":[4,4],\"fill_color\":\"lightgrey\",\"fill_alpha\":0.5,\"level\":\"overlay\",\"visible\":false,\"left\":{\"type\":\"number\",\"value\":\"nan\"},\"right\":{\"type\":\"number\",\"value\":\"nan\"},\"top\":{\"type\":\"number\",\"value\":\"nan\"},\"bottom\":{\"type\":\"number\",\"value\":\"nan\"},\"left_units\":\"canvas\",\"right_units\":\"canvas\",\"top_units\":\"canvas\",\"bottom_units\":\"canvas\",\"handles\":{\"type\":\"object\",\"name\":\"BoxInteractionHandles\",\"id\":\"p1034\",\"attributes\":{\"all\":{\"type\":\"object\",\"name\":\"AreaVisuals\",\"id\":\"p1033\",\"attributes\":{\"fill_color\":\"white\",\"hover_fill_color\":\"lightgray\"}}}}}}}},{\"type\":\"object\",\"name\":\"SaveTool\",\"id\":\"p1035\"},{\"type\":\"object\",\"name\":\"ResetTool\",\"id\":\"p1036\"},{\"type\":\"object\",\"name\":\"HelpTool\",\"id\":\"p1037\"},{\"type\":\"object\",\"name\":\"HoverTool\",\"id\":\"p1047\",\"attributes\":{\"renderers\":\"auto\",\"tooltips\":[[\"token\",\"@token\"]]}}],\"active_scroll\":{\"id\":\"p1026\"}}},\"left\":[{\"type\":\"object\",\"name\":\"LinearAxis\",\"id\":\"p1020\",\"attributes\":{\"ticker\":{\"type\":\"object\",\"name\":\"BasicTicker\",\"id\":\"p1021\",\"attributes\":{\"mantissas\":[1,2,5]}},\"formatter\":{\"type\":\"object\",\"name\":\"BasicTickFormatter\",\"id\":\"p1022\"},\"major_label_policy\":{\"type\":\"object\",\"name\":\"AllLabels\",\"id\":\"p1023\"}}}],\"below\":[{\"type\":\"object\",\"name\":\"LinearAxis\",\"id\":\"p1015\",\"attributes\":{\"ticker\":{\"type\":\"object\",\"name\":\"BasicTicker\",\"id\":\"p1016\",\"attributes\":{\"mantissas\":[1,2,5]}},\"formatter\":{\"type\":\"object\",\"name\":\"BasicTickFormatter\",\"id\":\"p1017\"},\"major_label_policy\":{\"type\":\"object\",\"name\":\"AllLabels\",\"id\":\"p1018\"}}}],\"center\":[{\"type\":\"object\",\"name\":\"Grid\",\"id\":\"p1019\",\"attributes\":{\"axis\":{\"id\":\"p1015\"}}},{\"type\":\"object\",\"name\":\"Grid\",\"id\":\"p1024\",\"attributes\":{\"dimension\":1,\"axis\":{\"id\":\"p1020\"}}}]}}]}};\n",
              "  const render_items = [{\"docid\":\"59a76624-9dfe-495a-8bfa-56a4ee182c49\",\"roots\":{\"p1004\":\"f95df39f-110f-4307-9f5b-714372703cc9\"},\"root_ids\":[\"p1004\"]}];\n",
              "  void root.Bokeh.embed.embed_items_notebook(docs_json, render_items);\n",
              "  }\n",
              "  if (root.Bokeh !== undefined) {\n",
              "    embed_document(root);\n",
              "  } else {\n",
              "    let attempts = 0;\n",
              "    const timer = setInterval(function(root) {\n",
              "      if (root.Bokeh !== undefined) {\n",
              "        clearInterval(timer);\n",
              "        embed_document(root);\n",
              "      } else {\n",
              "        attempts++;\n",
              "        if (attempts > 100) {\n",
              "          clearInterval(timer);\n",
              "          console.log(\"Bokeh: ERROR: Unable to run BokehJS code because BokehJS library is missing\");\n",
              "        }\n",
              "      }\n",
              "    }, 10, root)\n",
              "  }\n",
              "})(window);"
            ],
            "application/vnd.bokehjs_exec.v0+json": ""
          },
          "metadata": {
            "application/vnd.bokehjs_exec.v0+json": {
              "id": "p1004"
            }
          }
        },
        {
          "output_type": "execute_result",
          "data": {
            "text/plain": [
              "figure(id='p1004', ...)"
            ],
            "text/html": [
              "<div style=\"display: table;\"><div style=\"display: table-row;\"><div style=\"display: table-cell;\"><b title=\"bokeh.plotting._figure.figure\">figure</b>(</div><div style=\"display: table-cell;\">id&nbsp;=&nbsp;'p1004', <span id=\"p1051\" style=\"cursor: pointer;\">&hellip;)</span></div></div><div class=\"p1050\" style=\"display: none;\"><div style=\"display: table-cell;\"></div><div style=\"display: table-cell;\">above&nbsp;=&nbsp;[],</div></div><div class=\"p1050\" style=\"display: none;\"><div style=\"display: table-cell;\"></div><div style=\"display: table-cell;\">align&nbsp;=&nbsp;'auto',</div></div><div class=\"p1050\" style=\"display: none;\"><div style=\"display: table-cell;\"></div><div style=\"display: table-cell;\">aspect_ratio&nbsp;=&nbsp;None,</div></div><div class=\"p1050\" style=\"display: none;\"><div style=\"display: table-cell;\"></div><div style=\"display: table-cell;\">aspect_scale&nbsp;=&nbsp;1,</div></div><div class=\"p1050\" style=\"display: none;\"><div style=\"display: table-cell;\"></div><div style=\"display: table-cell;\">attribution&nbsp;=&nbsp;[],</div></div><div class=\"p1050\" style=\"display: none;\"><div style=\"display: table-cell;\"></div><div style=\"display: table-cell;\">background_fill_alpha&nbsp;=&nbsp;1.0,</div></div><div class=\"p1050\" style=\"display: none;\"><div style=\"display: table-cell;\"></div><div style=\"display: table-cell;\">background_fill_color&nbsp;=&nbsp;'#ffffff',</div></div><div class=\"p1050\" style=\"display: none;\"><div style=\"display: table-cell;\"></div><div style=\"display: table-cell;\">below&nbsp;=&nbsp;[LinearAxis(id='p1015', ...)],</div></div><div class=\"p1050\" style=\"display: none;\"><div style=\"display: table-cell;\"></div><div style=\"display: table-cell;\">border_fill_alpha&nbsp;=&nbsp;1.0,</div></div><div class=\"p1050\" style=\"display: none;\"><div style=\"display: table-cell;\"></div><div style=\"display: table-cell;\">border_fill_color&nbsp;=&nbsp;'#ffffff',</div></div><div class=\"p1050\" style=\"display: none;\"><div style=\"display: table-cell;\"></div><div style=\"display: table-cell;\">center&nbsp;=&nbsp;[Grid(id='p1019', ...), Grid(id='p1024', ...)],</div></div><div class=\"p1050\" style=\"display: none;\"><div style=\"display: table-cell;\"></div><div style=\"display: table-cell;\">context_menu&nbsp;=&nbsp;None,</div></div><div class=\"p1050\" style=\"display: none;\"><div style=\"display: table-cell;\"></div><div style=\"display: table-cell;\">css_classes&nbsp;=&nbsp;[],</div></div><div class=\"p1050\" style=\"display: none;\"><div style=\"display: table-cell;\"></div><div style=\"display: table-cell;\">css_variables&nbsp;=&nbsp;{},</div></div><div class=\"p1050\" style=\"display: none;\"><div style=\"display: table-cell;\"></div><div style=\"display: table-cell;\">disabled&nbsp;=&nbsp;False,</div></div><div class=\"p1050\" style=\"display: none;\"><div style=\"display: table-cell;\"></div><div style=\"display: table-cell;\">elements&nbsp;=&nbsp;[],</div></div><div class=\"p1050\" style=\"display: none;\"><div style=\"display: table-cell;\"></div><div style=\"display: table-cell;\">extra_x_ranges&nbsp;=&nbsp;{},</div></div><div class=\"p1050\" style=\"display: none;\"><div style=\"display: table-cell;\"></div><div style=\"display: table-cell;\">extra_x_scales&nbsp;=&nbsp;{},</div></div><div class=\"p1050\" style=\"display: none;\"><div style=\"display: table-cell;\"></div><div style=\"display: table-cell;\">extra_y_ranges&nbsp;=&nbsp;{},</div></div><div class=\"p1050\" style=\"display: none;\"><div style=\"display: table-cell;\"></div><div style=\"display: table-cell;\">extra_y_scales&nbsp;=&nbsp;{},</div></div><div class=\"p1050\" style=\"display: none;\"><div style=\"display: table-cell;\"></div><div style=\"display: table-cell;\">flow_mode&nbsp;=&nbsp;'block',</div></div><div class=\"p1050\" style=\"display: none;\"><div style=\"display: table-cell;\"></div><div style=\"display: table-cell;\">frame_align&nbsp;=&nbsp;True,</div></div><div class=\"p1050\" style=\"display: none;\"><div style=\"display: table-cell;\"></div><div style=\"display: table-cell;\">frame_height&nbsp;=&nbsp;None,</div></div><div class=\"p1050\" style=\"display: none;\"><div style=\"display: table-cell;\"></div><div style=\"display: table-cell;\">frame_width&nbsp;=&nbsp;None,</div></div><div class=\"p1050\" style=\"display: none;\"><div style=\"display: table-cell;\"></div><div style=\"display: table-cell;\">height&nbsp;=&nbsp;400,</div></div><div class=\"p1050\" style=\"display: none;\"><div style=\"display: table-cell;\"></div><div style=\"display: table-cell;\">height_policy&nbsp;=&nbsp;'auto',</div></div><div class=\"p1050\" style=\"display: none;\"><div style=\"display: table-cell;\"></div><div style=\"display: table-cell;\">hidpi&nbsp;=&nbsp;True,</div></div><div class=\"p1050\" style=\"display: none;\"><div style=\"display: table-cell;\"></div><div style=\"display: table-cell;\">hold_render&nbsp;=&nbsp;False,</div></div><div class=\"p1050\" style=\"display: none;\"><div style=\"display: table-cell;\"></div><div style=\"display: table-cell;\">js_event_callbacks&nbsp;=&nbsp;{},</div></div><div class=\"p1050\" style=\"display: none;\"><div style=\"display: table-cell;\"></div><div style=\"display: table-cell;\">js_property_callbacks&nbsp;=&nbsp;{},</div></div><div class=\"p1050\" style=\"display: none;\"><div style=\"display: table-cell;\"></div><div style=\"display: table-cell;\">left&nbsp;=&nbsp;[LinearAxis(id='p1020', ...)],</div></div><div class=\"p1050\" style=\"display: none;\"><div style=\"display: table-cell;\"></div><div style=\"display: table-cell;\">lod_factor&nbsp;=&nbsp;10,</div></div><div class=\"p1050\" style=\"display: none;\"><div style=\"display: table-cell;\"></div><div style=\"display: table-cell;\">lod_interval&nbsp;=&nbsp;300,</div></div><div class=\"p1050\" style=\"display: none;\"><div style=\"display: table-cell;\"></div><div style=\"display: table-cell;\">lod_threshold&nbsp;=&nbsp;2000,</div></div><div class=\"p1050\" style=\"display: none;\"><div style=\"display: table-cell;\"></div><div style=\"display: table-cell;\">lod_timeout&nbsp;=&nbsp;500,</div></div><div class=\"p1050\" style=\"display: none;\"><div style=\"display: table-cell;\"></div><div style=\"display: table-cell;\">margin&nbsp;=&nbsp;None,</div></div><div class=\"p1050\" style=\"display: none;\"><div style=\"display: table-cell;\"></div><div style=\"display: table-cell;\">match_aspect&nbsp;=&nbsp;False,</div></div><div class=\"p1050\" style=\"display: none;\"><div style=\"display: table-cell;\"></div><div style=\"display: table-cell;\">max_height&nbsp;=&nbsp;None,</div></div><div class=\"p1050\" style=\"display: none;\"><div style=\"display: table-cell;\"></div><div style=\"display: table-cell;\">max_width&nbsp;=&nbsp;None,</div></div><div class=\"p1050\" style=\"display: none;\"><div style=\"display: table-cell;\"></div><div style=\"display: table-cell;\">min_border&nbsp;=&nbsp;5,</div></div><div class=\"p1050\" style=\"display: none;\"><div style=\"display: table-cell;\"></div><div style=\"display: table-cell;\">min_border_bottom&nbsp;=&nbsp;None,</div></div><div class=\"p1050\" style=\"display: none;\"><div style=\"display: table-cell;\"></div><div style=\"display: table-cell;\">min_border_left&nbsp;=&nbsp;None,</div></div><div class=\"p1050\" style=\"display: none;\"><div style=\"display: table-cell;\"></div><div style=\"display: table-cell;\">min_border_right&nbsp;=&nbsp;None,</div></div><div class=\"p1050\" style=\"display: none;\"><div style=\"display: table-cell;\"></div><div style=\"display: table-cell;\">min_border_top&nbsp;=&nbsp;None,</div></div><div class=\"p1050\" style=\"display: none;\"><div style=\"display: table-cell;\"></div><div style=\"display: table-cell;\">min_height&nbsp;=&nbsp;None,</div></div><div class=\"p1050\" style=\"display: none;\"><div style=\"display: table-cell;\"></div><div style=\"display: table-cell;\">min_width&nbsp;=&nbsp;None,</div></div><div class=\"p1050\" style=\"display: none;\"><div style=\"display: table-cell;\"></div><div style=\"display: table-cell;\">name&nbsp;=&nbsp;None,</div></div><div class=\"p1050\" style=\"display: none;\"><div style=\"display: table-cell;\"></div><div style=\"display: table-cell;\">outline_line_alpha&nbsp;=&nbsp;1.0,</div></div><div class=\"p1050\" style=\"display: none;\"><div style=\"display: table-cell;\"></div><div style=\"display: table-cell;\">outline_line_cap&nbsp;=&nbsp;'butt',</div></div><div class=\"p1050\" style=\"display: none;\"><div style=\"display: table-cell;\"></div><div style=\"display: table-cell;\">outline_line_color&nbsp;=&nbsp;'#e5e5e5',</div></div><div class=\"p1050\" style=\"display: none;\"><div style=\"display: table-cell;\"></div><div style=\"display: table-cell;\">outline_line_dash&nbsp;=&nbsp;[],</div></div><div class=\"p1050\" style=\"display: none;\"><div style=\"display: table-cell;\"></div><div style=\"display: table-cell;\">outline_line_dash_offset&nbsp;=&nbsp;0,</div></div><div class=\"p1050\" style=\"display: none;\"><div style=\"display: table-cell;\"></div><div style=\"display: table-cell;\">outline_line_join&nbsp;=&nbsp;'bevel',</div></div><div class=\"p1050\" style=\"display: none;\"><div style=\"display: table-cell;\"></div><div style=\"display: table-cell;\">outline_line_width&nbsp;=&nbsp;1,</div></div><div class=\"p1050\" style=\"display: none;\"><div style=\"display: table-cell;\"></div><div style=\"display: table-cell;\">output_backend&nbsp;=&nbsp;'canvas',</div></div><div class=\"p1050\" style=\"display: none;\"><div style=\"display: table-cell;\"></div><div style=\"display: table-cell;\">renderers&nbsp;=&nbsp;[GlyphRenderer(id='p1044', ...)],</div></div><div class=\"p1050\" style=\"display: none;\"><div style=\"display: table-cell;\"></div><div style=\"display: table-cell;\">reset_policy&nbsp;=&nbsp;'standard',</div></div><div class=\"p1050\" style=\"display: none;\"><div style=\"display: table-cell;\"></div><div style=\"display: table-cell;\">resizable&nbsp;=&nbsp;False,</div></div><div class=\"p1050\" style=\"display: none;\"><div style=\"display: table-cell;\"></div><div style=\"display: table-cell;\">right&nbsp;=&nbsp;[],</div></div><div class=\"p1050\" style=\"display: none;\"><div style=\"display: table-cell;\"></div><div style=\"display: table-cell;\">sizing_mode&nbsp;=&nbsp;None,</div></div><div class=\"p1050\" style=\"display: none;\"><div style=\"display: table-cell;\"></div><div style=\"display: table-cell;\">styles&nbsp;=&nbsp;{},</div></div><div class=\"p1050\" style=\"display: none;\"><div style=\"display: table-cell;\"></div><div style=\"display: table-cell;\">stylesheets&nbsp;=&nbsp;[],</div></div><div class=\"p1050\" style=\"display: none;\"><div style=\"display: table-cell;\"></div><div style=\"display: table-cell;\">subscribed_events&nbsp;=&nbsp;PropertyValueSet(),</div></div><div class=\"p1050\" style=\"display: none;\"><div style=\"display: table-cell;\"></div><div style=\"display: table-cell;\">syncable&nbsp;=&nbsp;True,</div></div><div class=\"p1050\" style=\"display: none;\"><div style=\"display: table-cell;\"></div><div style=\"display: table-cell;\">tags&nbsp;=&nbsp;[],</div></div><div class=\"p1050\" style=\"display: none;\"><div style=\"display: table-cell;\"></div><div style=\"display: table-cell;\">title&nbsp;=&nbsp;Title(id='p1011', ...),</div></div><div class=\"p1050\" style=\"display: none;\"><div style=\"display: table-cell;\"></div><div style=\"display: table-cell;\">title_location&nbsp;=&nbsp;'above',</div></div><div class=\"p1050\" style=\"display: none;\"><div style=\"display: table-cell;\"></div><div style=\"display: table-cell;\">toolbar&nbsp;=&nbsp;Toolbar(id='p1012', ...),</div></div><div class=\"p1050\" style=\"display: none;\"><div style=\"display: table-cell;\"></div><div style=\"display: table-cell;\">toolbar_inner&nbsp;=&nbsp;False,</div></div><div class=\"p1050\" style=\"display: none;\"><div style=\"display: table-cell;\"></div><div style=\"display: table-cell;\">toolbar_location&nbsp;=&nbsp;'right',</div></div><div class=\"p1050\" style=\"display: none;\"><div style=\"display: table-cell;\"></div><div style=\"display: table-cell;\">toolbar_sticky&nbsp;=&nbsp;True,</div></div><div class=\"p1050\" style=\"display: none;\"><div style=\"display: table-cell;\"></div><div style=\"display: table-cell;\">visible&nbsp;=&nbsp;True,</div></div><div class=\"p1050\" style=\"display: none;\"><div style=\"display: table-cell;\"></div><div style=\"display: table-cell;\">width&nbsp;=&nbsp;600,</div></div><div class=\"p1050\" style=\"display: none;\"><div style=\"display: table-cell;\"></div><div style=\"display: table-cell;\">width_policy&nbsp;=&nbsp;'auto',</div></div><div class=\"p1050\" style=\"display: none;\"><div style=\"display: table-cell;\"></div><div style=\"display: table-cell;\">x_range&nbsp;=&nbsp;DataRange1d(id='p1005', ...),</div></div><div class=\"p1050\" style=\"display: none;\"><div style=\"display: table-cell;\"></div><div style=\"display: table-cell;\">x_scale&nbsp;=&nbsp;LinearScale(id='p1013', ...),</div></div><div class=\"p1050\" style=\"display: none;\"><div style=\"display: table-cell;\"></div><div style=\"display: table-cell;\">y_range&nbsp;=&nbsp;DataRange1d(id='p1006', ...),</div></div><div class=\"p1050\" style=\"display: none;\"><div style=\"display: table-cell;\"></div><div style=\"display: table-cell;\">y_scale&nbsp;=&nbsp;LinearScale(id='p1014', ...))</div></div></div>\n",
              "<script>\n",
              "(function() {\n",
              "  let expanded = false;\n",
              "  const ellipsis = document.getElementById(\"p1051\");\n",
              "  ellipsis.addEventListener(\"click\", function() {\n",
              "    const rows = document.getElementsByClassName(\"p1050\");\n",
              "    for (let i = 0; i < rows.length; i++) {\n",
              "      const el = rows[i];\n",
              "      el.style.display = expanded ? \"none\" : \"table-row\";\n",
              "    }\n",
              "    ellipsis.innerHTML = expanded ? \"&hellip;)\" : \"&lsaquo;&lsaquo;&lsaquo;\";\n",
              "    expanded = !expanded;\n",
              "  });\n",
              "})();\n",
              "</script>\n"
            ]
          },
          "metadata": {},
          "execution_count": 66
        }
      ],
      "source": [
        "draw_vectors(embedding[:, 0], embedding[:, 1], token=top_words)"
      ]
    },
    {
      "cell_type": "markdown",
      "metadata": {
        "id": "d3_bH62GzCQj"
      },
      "source": [
        "Для сдачи задания необходимо загрузить функции `subsample_frequent_words` и `get_negative_sampling_prob`, а также сгенерировать файл для посылки ниже и приложить в соответствующую задачу. Успехов!"
      ]
    },
    {
      "cell_type": "code",
      "execution_count": 67,
      "metadata": {
        "colab": {
          "base_uri": "https://localhost:8080/",
          "height": 252
        },
        "id": "OdhFp2GMzCQj",
        "outputId": "b48b1ef1-24d8-419e-f314-85cbcdcb060c"
      },
      "outputs": [
        {
          "output_type": "error",
          "ename": "AssertionError",
          "evalue": "Please, download `words_subset.txt` and place it in the working directory",
          "traceback": [
            "\u001b[0;31m---------------------------------------------------------------------------\u001b[0m",
            "\u001b[0;31mAssertionError\u001b[0m                            Traceback (most recent call last)",
            "\u001b[0;32m<ipython-input-67-05a6ffec4d9b>\u001b[0m in \u001b[0;36m<cell line: 0>\u001b[0;34m()\u001b[0m\n\u001b[1;32m      4\u001b[0m \u001b[0;32mimport\u001b[0m \u001b[0mjson\u001b[0m\u001b[0;34m\u001b[0m\u001b[0;34m\u001b[0m\u001b[0m\n\u001b[1;32m      5\u001b[0m \u001b[0;34m\u001b[0m\u001b[0m\n\u001b[0;32m----> 6\u001b[0;31m assert os.path.exists(\n\u001b[0m\u001b[1;32m      7\u001b[0m     \u001b[0;34m\"words_subset.txt\"\u001b[0m\u001b[0;34m\u001b[0m\u001b[0;34m\u001b[0m\u001b[0m\n\u001b[1;32m      8\u001b[0m ), \"Please, download `words_subset.txt` and place it in the working directory\"\n",
            "\u001b[0;31mAssertionError\u001b[0m: Please, download `words_subset.txt` and place it in the working directory"
          ]
        }
      ],
      "source": [
        "# do not change the code in the block below\n",
        "# __________start of block__________\n",
        "import os\n",
        "import json\n",
        "\n",
        "assert os.path.exists(\n",
        "    \"words_subset.txt\"\n",
        "), \"Please, download `words_subset.txt` and place it in the working directory\"\n",
        "\n",
        "with open(\"words_subset.txt\") as iofile:\n",
        "    selected_words = iofile.read().split(\"\\n\")\n",
        "\n",
        "\n",
        "def get_matrix_for_selected_words(selected_words, embedding_matrix, word_to_index):\n",
        "    word_vectors = []\n",
        "    for word in selected_words:\n",
        "        index = word_to_index.get(word, None)\n",
        "        vector = [0.0] * embedding_matrix.shape[1]\n",
        "        if index is not None:\n",
        "            vector = embedding_matrix[index].numpy().tolist()\n",
        "        word_vectors.append(vector)\n",
        "    return word_vectors\n",
        "\n",
        "\n",
        "word_vectors = get_matrix_for_selected_words(\n",
        "    selected_words, embedding_matrix_context, word_to_index\n",
        ")\n",
        "\n",
        "with open(\"submission_dict.json\", \"w\") as iofile:\n",
        "    json.dump(word_vectors, iofile)\n",
        "print(\"File saved to `submission_dict.json`\")\n",
        "# __________end of block__________"
      ]
    }
  ],
  "metadata": {
    "colab": {
      "provenance": []
    },
    "kernelspec": {
      "display_name": "py3_research",
      "language": "python",
      "name": "python3"
    },
    "language_info": {
      "codemirror_mode": {
        "name": "ipython",
        "version": 3
      },
      "file_extension": ".py",
      "mimetype": "text/x-python",
      "name": "python",
      "nbconvert_exporter": "python",
      "pygments_lexer": "ipython3",
      "version": "3.11.2"
    },
    "widgets": {
      "application/vnd.jupyter.widget-state+json": {
        "78f5d5125aac4f5f86752c719ea3ba4c": {
          "model_module": "@jupyter-widgets/controls",
          "model_name": "HBoxModel",
          "model_module_version": "1.5.0",
          "state": {
            "_dom_classes": [],
            "_model_module": "@jupyter-widgets/controls",
            "_model_module_version": "1.5.0",
            "_model_name": "HBoxModel",
            "_view_count": null,
            "_view_module": "@jupyter-widgets/controls",
            "_view_module_version": "1.5.0",
            "_view_name": "HBoxView",
            "box_style": "",
            "children": [
              "IPY_MODEL_9add1a227248424a829c88b71b09771b",
              "IPY_MODEL_c1c690fbf75244db8087cd7517391a61",
              "IPY_MODEL_f11bd3781f0d4fecb1900fb468462f4b"
            ],
            "layout": "IPY_MODEL_a7c0687301c94ad0bc55c9fdb05c78f5"
          }
        },
        "9add1a227248424a829c88b71b09771b": {
          "model_module": "@jupyter-widgets/controls",
          "model_name": "HTMLModel",
          "model_module_version": "1.5.0",
          "state": {
            "_dom_classes": [],
            "_model_module": "@jupyter-widgets/controls",
            "_model_module_version": "1.5.0",
            "_model_name": "HTMLModel",
            "_view_count": null,
            "_view_module": "@jupyter-widgets/controls",
            "_view_module_version": "1.5.0",
            "_view_name": "HTMLView",
            "description": "",
            "description_tooltip": null,
            "layout": "IPY_MODEL_397cf151974e4f1b9ea19a56e7ca758a",
            "placeholder": "​",
            "style": "IPY_MODEL_26e12bae094d4119b047cfe82ea61524",
            "value": "100%"
          }
        },
        "c1c690fbf75244db8087cd7517391a61": {
          "model_module": "@jupyter-widgets/controls",
          "model_name": "FloatProgressModel",
          "model_module_version": "1.5.0",
          "state": {
            "_dom_classes": [],
            "_model_module": "@jupyter-widgets/controls",
            "_model_module_version": "1.5.0",
            "_model_name": "FloatProgressModel",
            "_view_count": null,
            "_view_module": "@jupyter-widgets/controls",
            "_view_module_version": "1.5.0",
            "_view_name": "ProgressView",
            "bar_style": "success",
            "description": "",
            "description_tooltip": null,
            "layout": "IPY_MODEL_1bdcffd55e8f4bd5a3f228f79d20499d",
            "max": 2500,
            "min": 0,
            "orientation": "horizontal",
            "style": "IPY_MODEL_e11b4a7529cc40b08192fd9b7759fffd",
            "value": 2500
          }
        },
        "f11bd3781f0d4fecb1900fb468462f4b": {
          "model_module": "@jupyter-widgets/controls",
          "model_name": "HTMLModel",
          "model_module_version": "1.5.0",
          "state": {
            "_dom_classes": [],
            "_model_module": "@jupyter-widgets/controls",
            "_model_module_version": "1.5.0",
            "_model_name": "HTMLModel",
            "_view_count": null,
            "_view_module": "@jupyter-widgets/controls",
            "_view_module_version": "1.5.0",
            "_view_name": "HTMLView",
            "description": "",
            "description_tooltip": null,
            "layout": "IPY_MODEL_1ba7e2a55c214ab5b05295215ee68050",
            "placeholder": "​",
            "style": "IPY_MODEL_6b3f05e18d0443ac85a66d3a72eeee31",
            "value": " 2500/2500 [58:52&lt;00:00,  1.36s/it]"
          }
        },
        "a7c0687301c94ad0bc55c9fdb05c78f5": {
          "model_module": "@jupyter-widgets/base",
          "model_name": "LayoutModel",
          "model_module_version": "1.2.0",
          "state": {
            "_model_module": "@jupyter-widgets/base",
            "_model_module_version": "1.2.0",
            "_model_name": "LayoutModel",
            "_view_count": null,
            "_view_module": "@jupyter-widgets/base",
            "_view_module_version": "1.2.0",
            "_view_name": "LayoutView",
            "align_content": null,
            "align_items": null,
            "align_self": null,
            "border": null,
            "bottom": null,
            "display": null,
            "flex": null,
            "flex_flow": null,
            "grid_area": null,
            "grid_auto_columns": null,
            "grid_auto_flow": null,
            "grid_auto_rows": null,
            "grid_column": null,
            "grid_gap": null,
            "grid_row": null,
            "grid_template_areas": null,
            "grid_template_columns": null,
            "grid_template_rows": null,
            "height": null,
            "justify_content": null,
            "justify_items": null,
            "left": null,
            "margin": null,
            "max_height": null,
            "max_width": null,
            "min_height": null,
            "min_width": null,
            "object_fit": null,
            "object_position": null,
            "order": null,
            "overflow": null,
            "overflow_x": null,
            "overflow_y": null,
            "padding": null,
            "right": null,
            "top": null,
            "visibility": null,
            "width": null
          }
        },
        "397cf151974e4f1b9ea19a56e7ca758a": {
          "model_module": "@jupyter-widgets/base",
          "model_name": "LayoutModel",
          "model_module_version": "1.2.0",
          "state": {
            "_model_module": "@jupyter-widgets/base",
            "_model_module_version": "1.2.0",
            "_model_name": "LayoutModel",
            "_view_count": null,
            "_view_module": "@jupyter-widgets/base",
            "_view_module_version": "1.2.0",
            "_view_name": "LayoutView",
            "align_content": null,
            "align_items": null,
            "align_self": null,
            "border": null,
            "bottom": null,
            "display": null,
            "flex": null,
            "flex_flow": null,
            "grid_area": null,
            "grid_auto_columns": null,
            "grid_auto_flow": null,
            "grid_auto_rows": null,
            "grid_column": null,
            "grid_gap": null,
            "grid_row": null,
            "grid_template_areas": null,
            "grid_template_columns": null,
            "grid_template_rows": null,
            "height": null,
            "justify_content": null,
            "justify_items": null,
            "left": null,
            "margin": null,
            "max_height": null,
            "max_width": null,
            "min_height": null,
            "min_width": null,
            "object_fit": null,
            "object_position": null,
            "order": null,
            "overflow": null,
            "overflow_x": null,
            "overflow_y": null,
            "padding": null,
            "right": null,
            "top": null,
            "visibility": null,
            "width": null
          }
        },
        "26e12bae094d4119b047cfe82ea61524": {
          "model_module": "@jupyter-widgets/controls",
          "model_name": "DescriptionStyleModel",
          "model_module_version": "1.5.0",
          "state": {
            "_model_module": "@jupyter-widgets/controls",
            "_model_module_version": "1.5.0",
            "_model_name": "DescriptionStyleModel",
            "_view_count": null,
            "_view_module": "@jupyter-widgets/base",
            "_view_module_version": "1.2.0",
            "_view_name": "StyleView",
            "description_width": ""
          }
        },
        "1bdcffd55e8f4bd5a3f228f79d20499d": {
          "model_module": "@jupyter-widgets/base",
          "model_name": "LayoutModel",
          "model_module_version": "1.2.0",
          "state": {
            "_model_module": "@jupyter-widgets/base",
            "_model_module_version": "1.2.0",
            "_model_name": "LayoutModel",
            "_view_count": null,
            "_view_module": "@jupyter-widgets/base",
            "_view_module_version": "1.2.0",
            "_view_name": "LayoutView",
            "align_content": null,
            "align_items": null,
            "align_self": null,
            "border": null,
            "bottom": null,
            "display": null,
            "flex": null,
            "flex_flow": null,
            "grid_area": null,
            "grid_auto_columns": null,
            "grid_auto_flow": null,
            "grid_auto_rows": null,
            "grid_column": null,
            "grid_gap": null,
            "grid_row": null,
            "grid_template_areas": null,
            "grid_template_columns": null,
            "grid_template_rows": null,
            "height": null,
            "justify_content": null,
            "justify_items": null,
            "left": null,
            "margin": null,
            "max_height": null,
            "max_width": null,
            "min_height": null,
            "min_width": null,
            "object_fit": null,
            "object_position": null,
            "order": null,
            "overflow": null,
            "overflow_x": null,
            "overflow_y": null,
            "padding": null,
            "right": null,
            "top": null,
            "visibility": null,
            "width": null
          }
        },
        "e11b4a7529cc40b08192fd9b7759fffd": {
          "model_module": "@jupyter-widgets/controls",
          "model_name": "ProgressStyleModel",
          "model_module_version": "1.5.0",
          "state": {
            "_model_module": "@jupyter-widgets/controls",
            "_model_module_version": "1.5.0",
            "_model_name": "ProgressStyleModel",
            "_view_count": null,
            "_view_module": "@jupyter-widgets/base",
            "_view_module_version": "1.2.0",
            "_view_name": "StyleView",
            "bar_color": null,
            "description_width": ""
          }
        },
        "1ba7e2a55c214ab5b05295215ee68050": {
          "model_module": "@jupyter-widgets/base",
          "model_name": "LayoutModel",
          "model_module_version": "1.2.0",
          "state": {
            "_model_module": "@jupyter-widgets/base",
            "_model_module_version": "1.2.0",
            "_model_name": "LayoutModel",
            "_view_count": null,
            "_view_module": "@jupyter-widgets/base",
            "_view_module_version": "1.2.0",
            "_view_name": "LayoutView",
            "align_content": null,
            "align_items": null,
            "align_self": null,
            "border": null,
            "bottom": null,
            "display": null,
            "flex": null,
            "flex_flow": null,
            "grid_area": null,
            "grid_auto_columns": null,
            "grid_auto_flow": null,
            "grid_auto_rows": null,
            "grid_column": null,
            "grid_gap": null,
            "grid_row": null,
            "grid_template_areas": null,
            "grid_template_columns": null,
            "grid_template_rows": null,
            "height": null,
            "justify_content": null,
            "justify_items": null,
            "left": null,
            "margin": null,
            "max_height": null,
            "max_width": null,
            "min_height": null,
            "min_width": null,
            "object_fit": null,
            "object_position": null,
            "order": null,
            "overflow": null,
            "overflow_x": null,
            "overflow_y": null,
            "padding": null,
            "right": null,
            "top": null,
            "visibility": null,
            "width": null
          }
        },
        "6b3f05e18d0443ac85a66d3a72eeee31": {
          "model_module": "@jupyter-widgets/controls",
          "model_name": "DescriptionStyleModel",
          "model_module_version": "1.5.0",
          "state": {
            "_model_module": "@jupyter-widgets/controls",
            "_model_module_version": "1.5.0",
            "_model_name": "DescriptionStyleModel",
            "_view_count": null,
            "_view_module": "@jupyter-widgets/base",
            "_view_module_version": "1.2.0",
            "_view_name": "StyleView",
            "description_width": ""
          }
        }
      }
    }
  },
  "nbformat": 4,
  "nbformat_minor": 0
}